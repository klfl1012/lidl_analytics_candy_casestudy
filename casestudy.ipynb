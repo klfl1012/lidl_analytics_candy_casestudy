{
 "cells": [
  {
   "attachments": {},
   "cell_type": "markdown",
   "metadata": {},
   "source": [
    "## **LIDL ANALYTICS - CANDY CASE STUDY** \n",
    "\n",
    "-------------------------------------------------------------------------------------------------------------------------------------------------\n"
   ]
  },
  {
   "attachments": {},
   "cell_type": "markdown",
   "metadata": {},
   "source": [
    "#### **INTRODUCTION**"
   ]
  },
  {
   "attachments": {},
   "cell_type": "markdown",
   "metadata": {},
   "source": [
    "In the following notebook, analysis and machine leanring is performed on the following present scenario and data.\n",
    "\n",
    "**Scenario:**\n",
    "\n",
    "The purchasing department of Lidl would like to expand the confectionery assortment (private label). A new candy is to be created for this purpose. However, there is still disagreement within the relevant project team about the characteristics of the new candy.\n",
    "For example, while some prefer a cookie-based candy, others favor a fruit gum variation. The divisional board therefore decided to commission a market research company to determine the popularity of the sweets available on the market.\n",
    "The results of the market research are now available and you have been commissioned to conduct an analysis of the data. The aim is to analyze the impact of the characteristics of confectionery on their popularity and, based on this analysis, to make a recommendation for the characteristics of a new confectionery.\n",
    "\n",
    "**Data:**\n",
    "\n",
    "https://github.com/fivethirtyeight/data/tree/master/candy-power-ranking"
   ]
  },
  {
   "attachments": {},
   "cell_type": "markdown",
   "metadata": {},
   "source": [
    "#### **DATA AND IMPORTS**"
   ]
  },
  {
   "cell_type": "code",
   "execution_count": 88,
   "metadata": {},
   "outputs": [],
   "source": [
    "# data formating\n",
    "import pandas as pd\n",
    "import numpy as np\n",
    "\n",
    "# plotting\n",
    "import plotly.graph_objs as go\n",
    "import plotly.express as px\n",
    "from plotly.subplots import make_subplots\n",
    "import matplotlib.pyplot as plt\n",
    "import seaborn as sns\n",
    "\n",
    "# Machine Learning & metrics\n",
    "from scipy.stats import linregress\n",
    "from sklearn.metrics import classification_report, ConfusionMatrixDisplay, roc_auc_score, roc_curve, mean_squared_error, r2_score\n",
    "\n",
    "from sklearn.model_selection import train_test_split, GridSearchCV\n",
    "\n",
    "from sklearn.preprocessing import StandardScaler\n",
    "from sklearn.linear_model import LinearRegression\n",
    "\n",
    "from sklearn.ensemble import GradientBoostingClassifier, RandomForestClassifier, GradientBoostingRegressor, RandomForestRegressor\n",
    "from sklearn.tree import DecisionTreeClassifier\n",
    "from sklearn.decomposition import PCA"
   ]
  },
  {
   "attachments": {},
   "cell_type": "markdown",
   "metadata": {},
   "source": [
    "**Load data**"
   ]
  },
  {
   "cell_type": "code",
   "execution_count": 89,
   "metadata": {},
   "outputs": [],
   "source": [
    "df = pd.read_csv(\"/Users/florian/Documents/GitHub/candy-data.csv\")"
   ]
  },
  {
   "cell_type": "code",
   "execution_count": 90,
   "metadata": {},
   "outputs": [
    {
     "data": {
      "text/html": [
       "<div>\n",
       "<style scoped>\n",
       "    .dataframe tbody tr th:only-of-type {\n",
       "        vertical-align: middle;\n",
       "    }\n",
       "\n",
       "    .dataframe tbody tr th {\n",
       "        vertical-align: top;\n",
       "    }\n",
       "\n",
       "    .dataframe thead th {\n",
       "        text-align: right;\n",
       "    }\n",
       "</style>\n",
       "<table border=\"1\" class=\"dataframe\">\n",
       "  <thead>\n",
       "    <tr style=\"text-align: right;\">\n",
       "      <th></th>\n",
       "      <th>competitorname</th>\n",
       "      <th>chocolate</th>\n",
       "      <th>fruity</th>\n",
       "      <th>caramel</th>\n",
       "      <th>peanutyalmondy</th>\n",
       "      <th>nougat</th>\n",
       "      <th>crispedricewafer</th>\n",
       "      <th>hard</th>\n",
       "      <th>bar</th>\n",
       "      <th>pluribus</th>\n",
       "      <th>sugarpercent</th>\n",
       "      <th>pricepercent</th>\n",
       "      <th>winpercent</th>\n",
       "    </tr>\n",
       "  </thead>\n",
       "  <tbody>\n",
       "    <tr>\n",
       "      <th>0</th>\n",
       "      <td>100 Grand</td>\n",
       "      <td>1</td>\n",
       "      <td>0</td>\n",
       "      <td>1</td>\n",
       "      <td>0</td>\n",
       "      <td>0</td>\n",
       "      <td>1</td>\n",
       "      <td>0</td>\n",
       "      <td>1</td>\n",
       "      <td>0</td>\n",
       "      <td>0.732</td>\n",
       "      <td>0.860</td>\n",
       "      <td>66.971725</td>\n",
       "    </tr>\n",
       "    <tr>\n",
       "      <th>1</th>\n",
       "      <td>3 Musketeers</td>\n",
       "      <td>1</td>\n",
       "      <td>0</td>\n",
       "      <td>0</td>\n",
       "      <td>0</td>\n",
       "      <td>1</td>\n",
       "      <td>0</td>\n",
       "      <td>0</td>\n",
       "      <td>1</td>\n",
       "      <td>0</td>\n",
       "      <td>0.604</td>\n",
       "      <td>0.511</td>\n",
       "      <td>67.602936</td>\n",
       "    </tr>\n",
       "    <tr>\n",
       "      <th>2</th>\n",
       "      <td>One dime</td>\n",
       "      <td>0</td>\n",
       "      <td>0</td>\n",
       "      <td>0</td>\n",
       "      <td>0</td>\n",
       "      <td>0</td>\n",
       "      <td>0</td>\n",
       "      <td>0</td>\n",
       "      <td>0</td>\n",
       "      <td>0</td>\n",
       "      <td>0.011</td>\n",
       "      <td>0.116</td>\n",
       "      <td>32.261086</td>\n",
       "    </tr>\n",
       "    <tr>\n",
       "      <th>3</th>\n",
       "      <td>One quarter</td>\n",
       "      <td>0</td>\n",
       "      <td>0</td>\n",
       "      <td>0</td>\n",
       "      <td>0</td>\n",
       "      <td>0</td>\n",
       "      <td>0</td>\n",
       "      <td>0</td>\n",
       "      <td>0</td>\n",
       "      <td>0</td>\n",
       "      <td>0.011</td>\n",
       "      <td>0.511</td>\n",
       "      <td>46.116505</td>\n",
       "    </tr>\n",
       "    <tr>\n",
       "      <th>4</th>\n",
       "      <td>Air Heads</td>\n",
       "      <td>0</td>\n",
       "      <td>1</td>\n",
       "      <td>0</td>\n",
       "      <td>0</td>\n",
       "      <td>0</td>\n",
       "      <td>0</td>\n",
       "      <td>0</td>\n",
       "      <td>0</td>\n",
       "      <td>0</td>\n",
       "      <td>0.906</td>\n",
       "      <td>0.511</td>\n",
       "      <td>52.341465</td>\n",
       "    </tr>\n",
       "    <tr>\n",
       "      <th>...</th>\n",
       "      <td>...</td>\n",
       "      <td>...</td>\n",
       "      <td>...</td>\n",
       "      <td>...</td>\n",
       "      <td>...</td>\n",
       "      <td>...</td>\n",
       "      <td>...</td>\n",
       "      <td>...</td>\n",
       "      <td>...</td>\n",
       "      <td>...</td>\n",
       "      <td>...</td>\n",
       "      <td>...</td>\n",
       "      <td>...</td>\n",
       "    </tr>\n",
       "    <tr>\n",
       "      <th>80</th>\n",
       "      <td>Twizzlers</td>\n",
       "      <td>0</td>\n",
       "      <td>1</td>\n",
       "      <td>0</td>\n",
       "      <td>0</td>\n",
       "      <td>0</td>\n",
       "      <td>0</td>\n",
       "      <td>0</td>\n",
       "      <td>0</td>\n",
       "      <td>0</td>\n",
       "      <td>0.220</td>\n",
       "      <td>0.116</td>\n",
       "      <td>45.466282</td>\n",
       "    </tr>\n",
       "    <tr>\n",
       "      <th>81</th>\n",
       "      <td>Warheads</td>\n",
       "      <td>0</td>\n",
       "      <td>1</td>\n",
       "      <td>0</td>\n",
       "      <td>0</td>\n",
       "      <td>0</td>\n",
       "      <td>0</td>\n",
       "      <td>1</td>\n",
       "      <td>0</td>\n",
       "      <td>0</td>\n",
       "      <td>0.093</td>\n",
       "      <td>0.116</td>\n",
       "      <td>39.011898</td>\n",
       "    </tr>\n",
       "    <tr>\n",
       "      <th>82</th>\n",
       "      <td>Welch's Fruit Snacks</td>\n",
       "      <td>0</td>\n",
       "      <td>1</td>\n",
       "      <td>0</td>\n",
       "      <td>0</td>\n",
       "      <td>0</td>\n",
       "      <td>0</td>\n",
       "      <td>0</td>\n",
       "      <td>0</td>\n",
       "      <td>1</td>\n",
       "      <td>0.313</td>\n",
       "      <td>0.313</td>\n",
       "      <td>44.375519</td>\n",
       "    </tr>\n",
       "    <tr>\n",
       "      <th>83</th>\n",
       "      <td>Werther's Original Caramel</td>\n",
       "      <td>0</td>\n",
       "      <td>0</td>\n",
       "      <td>1</td>\n",
       "      <td>0</td>\n",
       "      <td>0</td>\n",
       "      <td>0</td>\n",
       "      <td>1</td>\n",
       "      <td>0</td>\n",
       "      <td>0</td>\n",
       "      <td>0.186</td>\n",
       "      <td>0.267</td>\n",
       "      <td>41.904308</td>\n",
       "    </tr>\n",
       "    <tr>\n",
       "      <th>84</th>\n",
       "      <td>Whoppers</td>\n",
       "      <td>1</td>\n",
       "      <td>0</td>\n",
       "      <td>0</td>\n",
       "      <td>0</td>\n",
       "      <td>0</td>\n",
       "      <td>1</td>\n",
       "      <td>0</td>\n",
       "      <td>0</td>\n",
       "      <td>1</td>\n",
       "      <td>0.872</td>\n",
       "      <td>0.848</td>\n",
       "      <td>49.524113</td>\n",
       "    </tr>\n",
       "  </tbody>\n",
       "</table>\n",
       "<p>85 rows × 13 columns</p>\n",
       "</div>"
      ],
      "text/plain": [
       "                competitorname  chocolate  fruity  caramel  peanutyalmondy  \\\n",
       "0                    100 Grand          1       0        1               0   \n",
       "1                 3 Musketeers          1       0        0               0   \n",
       "2                     One dime          0       0        0               0   \n",
       "3                  One quarter          0       0        0               0   \n",
       "4                    Air Heads          0       1        0               0   \n",
       "..                         ...        ...     ...      ...             ...   \n",
       "80                   Twizzlers          0       1        0               0   \n",
       "81                    Warheads          0       1        0               0   \n",
       "82        Welch's Fruit Snacks          0       1        0               0   \n",
       "83  Werther's Original Caramel          0       0        1               0   \n",
       "84                    Whoppers          1       0        0               0   \n",
       "\n",
       "    nougat  crispedricewafer  hard  bar  pluribus  sugarpercent  pricepercent  \\\n",
       "0        0                 1     0    1         0         0.732         0.860   \n",
       "1        1                 0     0    1         0         0.604         0.511   \n",
       "2        0                 0     0    0         0         0.011         0.116   \n",
       "3        0                 0     0    0         0         0.011         0.511   \n",
       "4        0                 0     0    0         0         0.906         0.511   \n",
       "..     ...               ...   ...  ...       ...           ...           ...   \n",
       "80       0                 0     0    0         0         0.220         0.116   \n",
       "81       0                 0     1    0         0         0.093         0.116   \n",
       "82       0                 0     0    0         1         0.313         0.313   \n",
       "83       0                 0     1    0         0         0.186         0.267   \n",
       "84       0                 1     0    0         1         0.872         0.848   \n",
       "\n",
       "    winpercent  \n",
       "0    66.971725  \n",
       "1    67.602936  \n",
       "2    32.261086  \n",
       "3    46.116505  \n",
       "4    52.341465  \n",
       "..         ...  \n",
       "80   45.466282  \n",
       "81   39.011898  \n",
       "82   44.375519  \n",
       "83   41.904308  \n",
       "84   49.524113  \n",
       "\n",
       "[85 rows x 13 columns]"
      ]
     },
     "execution_count": 90,
     "metadata": {},
     "output_type": "execute_result"
    }
   ],
   "source": [
    "df"
   ]
  },
  {
   "attachments": {},
   "cell_type": "markdown",
   "metadata": {},
   "source": [
    "#### **ANALYSIS**"
   ]
  },
  {
   "attachments": {},
   "cell_type": "markdown",
   "metadata": {},
   "source": [
    "**WINPERCENTAGE DISTRIBUTION**\n",
    "\n",
    "To be able to judge the success of the candies, we first look at the distribution of the winpercentage column in our dataframe and create a barplot to match.\n",
    "\n",
    "- In order to later have the candy sorted from left to right in descending order, we create a new dataframe where we sort on winpercentage in descending order:"
   ]
  },
  {
   "cell_type": "code",
   "execution_count": 91,
   "metadata": {},
   "outputs": [],
   "source": [
    "df_winpercent = df.sort_values(by= \"winpercent\", ascending= False) "
   ]
  },
  {
   "cell_type": "code",
   "execution_count": 92,
   "metadata": {},
   "outputs": [
    {
     "data": {
      "application/vnd.plotly.v1+json": {
       "config": {
        "plotlyServerURL": "https://plot.ly"
       },
       "data": [
        {
         "hovertemplate": "<b>Reese's Peanut Butter cup</b><br><br>Win%: %{y}<br><extra></extra>",
         "legendgroup": "max",
         "legendgrouptitle": {
          "text": "winner"
         },
         "marker": {
          "color": "rgb(15, 133, 84)"
         },
         "name": "Reese's Peanut Butter cup | 84.18%",
         "showlegend": true,
         "text": "84.2",
         "type": "bar",
         "width": 0.8,
         "x": [
          "Reese's Peanut Butter cup"
         ],
         "y": [
          84.18029
         ]
        },
        {
         "hovertemplate": "<b>Reese's Miniatures</b><br><br>Win%: %{y}<br><extra></extra>",
         "legendgroup": "<max",
         "legendgrouptitle": {
          "text": "< max"
         },
         "marker": {
          "color": "rgb(15, 133, 84)",
          "opacity": 0.7
         },
         "name": "Reese's Miniatures | 81.866%",
         "showlegend": true,
         "text": "81.9",
         "type": "bar",
         "width": 0.8,
         "x": [
          "Reese's Miniatures"
         ],
         "y": [
          81.866257
         ]
        },
        {
         "hovertemplate": "<b>Twix</b><br><br>Win%: %{y}<br><extra></extra>",
         "legendgroup": "<max",
         "legendgrouptitle": {
          "text": "< max"
         },
         "marker": {
          "color": "rgb(15, 133, 84)",
          "opacity": 0.7
         },
         "name": "Twix | 81.643%",
         "showlegend": true,
         "text": "81.6",
         "type": "bar",
         "width": 0.8,
         "x": [
          "Twix"
         ],
         "y": [
          81.642914
         ]
        },
        {
         "hovertemplate": "<b>Kit Kat</b><br><br>Win%: %{y}<br><extra></extra>",
         "legendgroup": "<max",
         "legendgrouptitle": {
          "text": "< max"
         },
         "marker": {
          "color": "rgb(15, 133, 84)",
          "opacity": 0.7
         },
         "name": "Kit Kat | 76.769%",
         "showlegend": true,
         "text": "76.8",
         "type": "bar",
         "width": 0.8,
         "x": [
          "Kit Kat"
         ],
         "y": [
          76.7686
         ]
        },
        {
         "hovertemplate": "<b>Snickers</b><br><br>Win%: %{y}<br><extra></extra>",
         "legendgroup": "<max",
         "legendgrouptitle": {
          "text": "< max"
         },
         "marker": {
          "color": "rgb(15, 133, 84)",
          "opacity": 0.7
         },
         "name": "Snickers | 76.674%",
         "showlegend": true,
         "text": "76.7",
         "type": "bar",
         "width": 0.8,
         "x": [
          "Snickers"
         ],
         "y": [
          76.673782
         ]
        },
        {
         "hovertemplate": "<b>Reese's pieces</b><br><br>Win%: %{y}<br><extra></extra>",
         "legendgroup": "<max",
         "legendgrouptitle": {
          "text": "< max"
         },
         "marker": {
          "color": "rgb(15, 133, 84)",
          "opacity": 0.7
         },
         "name": "Reese's pieces | 73.435%",
         "showlegend": true,
         "text": "73.4",
         "type": "bar",
         "width": 0.8,
         "x": [
          "Reese's pieces"
         ],
         "y": [
          73.43499
         ]
        },
        {
         "hovertemplate": "<b>Milky Way</b><br><br>Win%: %{y}<br><extra></extra>",
         "legendgroup": "<max",
         "legendgrouptitle": {
          "text": "< max"
         },
         "marker": {
          "color": "rgb(15, 133, 84)",
          "opacity": 0.7
         },
         "name": "Milky Way | 73.1%",
         "showlegend": true,
         "text": "73.1",
         "type": "bar",
         "width": 0.8,
         "x": [
          "Milky Way"
         ],
         "y": [
          73.099556
         ]
        },
        {
         "hovertemplate": "<b>Reese's stuffed with pieces</b><br><br>Win%: %{y}<br><extra></extra>",
         "legendgroup": "<max",
         "legendgrouptitle": {
          "text": "< max"
         },
         "marker": {
          "color": "rgb(15, 133, 84)",
          "opacity": 0.7
         },
         "name": "Reese's stuffed with pieces | 72.888%",
         "showlegend": true,
         "text": "72.9",
         "type": "bar",
         "width": 0.8,
         "x": [
          "Reese's stuffed with pieces"
         ],
         "y": [
          72.887901
         ]
        },
        {
         "hovertemplate": "<b>Peanut butter M&M's</b><br><br>Win%: %{y}<br><extra></extra>",
         "legendgroup": "<max",
         "legendgrouptitle": {
          "text": "< max"
         },
         "marker": {
          "color": "rgb(15, 133, 84)",
          "opacity": 0.7
         },
         "name": "Peanut butter M&M's | 71.465%",
         "showlegend": true,
         "text": "71.5",
         "type": "bar",
         "width": 0.8,
         "x": [
          "Peanut butter M&M's"
         ],
         "y": [
          71.46505
         ]
        },
        {
         "hovertemplate": "<b>Nestle Butterfinger</b><br><br>Win%: %{y}<br><extra></extra>",
         "legendgroup": "<max",
         "legendgrouptitle": {
          "text": "< max"
         },
         "marker": {
          "color": "rgb(15, 133, 84)",
          "opacity": 0.7
         },
         "name": "Nestle Butterfinger | 70.736%",
         "showlegend": true,
         "text": "70.7",
         "type": "bar",
         "width": 0.8,
         "x": [
          "Nestle Butterfinger"
         ],
         "y": [
          70.735641
         ]
        },
        {
         "hovertemplate": "<b>Peanut M&Ms</b><br><br>Win%: %{y}<br><extra></extra>",
         "legendgroup": "<max",
         "legendgrouptitle": {
          "text": "< max"
         },
         "marker": {
          "color": "rgb(15, 133, 84)",
          "opacity": 0.7
         },
         "name": "Peanut M&Ms | 69.484%",
         "showlegend": true,
         "text": "69.5",
         "type": "bar",
         "width": 0.8,
         "x": [
          "Peanut M&Ms"
         ],
         "y": [
          69.483788
         ]
        },
        {
         "hovertemplate": "<b>3 Musketeers</b><br><br>Win%: %{y}<br><extra></extra>",
         "legendgroup": "<max",
         "legendgrouptitle": {
          "text": "< max"
         },
         "marker": {
          "color": "rgb(15, 133, 84)",
          "opacity": 0.7
         },
         "name": "3 Musketeers | 67.603%",
         "showlegend": true,
         "text": "67.6",
         "type": "bar",
         "width": 0.8,
         "x": [
          "3 Musketeers"
         ],
         "y": [
          67.602936
         ]
        },
        {
         "hovertemplate": "<b>Starburst</b><br><br>Win%: %{y}<br><extra></extra>",
         "legendgroup": "<max",
         "legendgrouptitle": {
          "text": "< max"
         },
         "marker": {
          "color": "rgb(15, 133, 84)",
          "opacity": 0.7
         },
         "name": "Starburst | 67.038%",
         "showlegend": true,
         "text": "67.0",
         "type": "bar",
         "width": 0.8,
         "x": [
          "Starburst"
         ],
         "y": [
          67.037628
         ]
        },
        {
         "hovertemplate": "<b>100 Grand</b><br><br>Win%: %{y}<br><extra></extra>",
         "legendgroup": "<max",
         "legendgrouptitle": {
          "text": "< max"
         },
         "marker": {
          "color": "rgb(15, 133, 84)",
          "opacity": 0.7
         },
         "name": "100 Grand | 66.972%",
         "showlegend": true,
         "text": "67.0",
         "type": "bar",
         "width": 0.8,
         "x": [
          "100 Grand"
         ],
         "y": [
          66.971725
         ]
        },
        {
         "hovertemplate": "<b>M&M's</b><br><br>Win%: %{y}<br><extra></extra>",
         "legendgroup": "<max",
         "legendgrouptitle": {
          "text": "< max"
         },
         "marker": {
          "color": "rgb(15, 133, 84)",
          "opacity": 0.7
         },
         "name": "M&M's | 66.575%",
         "showlegend": true,
         "text": "66.6",
         "type": "bar",
         "width": 0.8,
         "x": [
          "M&M's"
         ],
         "y": [
          66.574585
         ]
        },
        {
         "hovertemplate": "<b>Nestle Crunch</b><br><br>Win%: %{y}<br><extra></extra>",
         "legendgroup": "<max",
         "legendgrouptitle": {
          "text": "< max"
         },
         "marker": {
          "color": "rgb(15, 133, 84)",
          "opacity": 0.7
         },
         "name": "Nestle Crunch | 66.471%",
         "showlegend": true,
         "text": "66.5",
         "type": "bar",
         "width": 0.8,
         "x": [
          "Nestle Crunch"
         ],
         "y": [
          66.47068
         ]
        },
        {
         "hovertemplate": "<b>Rolo</b><br><br>Win%: %{y}<br><extra></extra>",
         "legendgroup": "<max",
         "legendgrouptitle": {
          "text": "< max"
         },
         "marker": {
          "color": "rgb(15, 133, 84)",
          "opacity": 0.7
         },
         "name": "Rolo | 65.716%",
         "showlegend": true,
         "text": "65.7",
         "type": "bar",
         "width": 0.8,
         "x": [
          "Rolo"
         ],
         "y": [
          65.716286
         ]
        },
        {
         "hovertemplate": "<b>Milky Way Simply Caramel</b><br><br>Win%: %{y}<br><extra></extra>",
         "legendgroup": "<max",
         "legendgrouptitle": {
          "text": "< max"
         },
         "marker": {
          "color": "rgb(15, 133, 84)",
          "opacity": 0.7
         },
         "name": "Milky Way Simply Caramel | 64.353%",
         "showlegend": true,
         "text": "64.4",
         "type": "bar",
         "width": 0.8,
         "x": [
          "Milky Way Simply Caramel"
         ],
         "y": [
          64.35334
         ]
        },
        {
         "hovertemplate": "<b>Skittles original</b><br><br>Win%: %{y}<br><extra></extra>",
         "legendgroup": "<max",
         "legendgrouptitle": {
          "text": "< max"
         },
         "marker": {
          "color": "rgb(15, 133, 84)",
          "opacity": 0.7
         },
         "name": "Skittles original | 63.085%",
         "showlegend": true,
         "text": "63.1",
         "type": "bar",
         "width": 0.8,
         "x": [
          "Skittles original"
         ],
         "y": [
          63.08514
         ]
        },
        {
         "hovertemplate": "<b>Hershey's Krackel</b><br><br>Win%: %{y}<br><extra></extra>",
         "legendgroup": "<max",
         "legendgrouptitle": {
          "text": "< max"
         },
         "marker": {
          "color": "rgb(15, 133, 84)",
          "opacity": 0.7
         },
         "name": "Hershey's Krackel | 62.284%",
         "showlegend": true,
         "text": "62.3",
         "type": "bar",
         "width": 0.8,
         "x": [
          "Hershey's Krackel"
         ],
         "y": [
          62.284481
         ]
        },
        {
         "hovertemplate": "<b>Milky Way Midnight</b><br><br>Win%: %{y}<br><extra></extra>",
         "legendgroup": "<max",
         "legendgrouptitle": {
          "text": "< max"
         },
         "marker": {
          "color": "rgb(15, 133, 84)",
          "opacity": 0.7
         },
         "name": "Milky Way Midnight | 60.801%",
         "showlegend": true,
         "text": "60.8",
         "type": "bar",
         "width": 0.8,
         "x": [
          "Milky Way Midnight"
         ],
         "y": [
          60.800701
         ]
        },
        {
         "hovertemplate": "<b>Sour Patch Kids</b><br><br>Win%: %{y}<br><extra></extra>",
         "legendgroup": "≤75%",
         "legendgrouptitle": {
          "text": "≤75% quantile"
         },
         "marker": {
          "color": "rgb(115, 175, 72)",
          "opacity": 0.7
         },
         "name": "Sour Patch Kids | 59.864%",
         "showlegend": true,
         "type": "bar",
         "width": 0.8,
         "x": [
          "Sour Patch Kids"
         ],
         "y": [
          59.863998
         ]
        },
        {
         "hovertemplate": "<b>Snickers Crisper</b><br><br>Win%: %{y}<br><extra></extra>",
         "legendgroup": "≤75%",
         "legendgrouptitle": {
          "text": "≤75% quantile"
         },
         "marker": {
          "color": "rgb(115, 175, 72)",
          "opacity": 0.7
         },
         "name": "Snickers Crisper | 59.529%",
         "showlegend": true,
         "type": "bar",
         "width": 0.8,
         "x": [
          "Snickers Crisper"
         ],
         "y": [
          59.529251
         ]
        },
        {
         "hovertemplate": "<b>Hershey's Special Dark</b><br><br>Win%: %{y}<br><extra></extra>",
         "legendgroup": "≤75%",
         "legendgrouptitle": {
          "text": "≤75% quantile"
         },
         "marker": {
          "color": "rgb(115, 175, 72)",
          "opacity": 0.7
         },
         "name": "Hershey's Special Dark | 59.236%",
         "showlegend": true,
         "type": "bar",
         "width": 0.8,
         "x": [
          "Hershey's Special Dark"
         ],
         "y": [
          59.236122
         ]
        },
        {
         "hovertemplate": "<b>Junior Mints</b><br><br>Win%: %{y}<br><extra></extra>",
         "legendgroup": "≤75%",
         "legendgrouptitle": {
          "text": "≤75% quantile"
         },
         "marker": {
          "color": "rgb(115, 175, 72)",
          "opacity": 0.7
         },
         "name": "Junior Mints | 57.219%",
         "showlegend": true,
         "type": "bar",
         "width": 0.8,
         "x": [
          "Junior Mints"
         ],
         "y": [
          57.21925
         ]
        },
        {
         "hovertemplate": "<b>Haribo Gold Bears</b><br><br>Win%: %{y}<br><extra></extra>",
         "legendgroup": "≤75%",
         "legendgrouptitle": {
          "text": "≤75% quantile"
         },
         "marker": {
          "color": "rgb(115, 175, 72)",
          "opacity": 0.7
         },
         "name": "Haribo Gold Bears | 57.12%",
         "showlegend": true,
         "type": "bar",
         "width": 0.8,
         "x": [
          "Haribo Gold Bears"
         ],
         "y": [
          57.11974
         ]
        },
        {
         "hovertemplate": "<b>Baby Ruth</b><br><br>Win%: %{y}<br><extra></extra>",
         "legendgroup": "≤75%",
         "legendgrouptitle": {
          "text": "≤75% quantile"
         },
         "marker": {
          "color": "rgb(115, 175, 72)",
          "opacity": 0.7
         },
         "name": "Baby Ruth | 56.915%",
         "showlegend": true,
         "type": "bar",
         "width": 0.8,
         "x": [
          "Baby Ruth"
         ],
         "y": [
          56.914547
         ]
        },
        {
         "hovertemplate": "<b>Hershey's Milk Chocolate</b><br><br>Win%: %{y}<br><extra></extra>",
         "legendgroup": "≤75%",
         "legendgrouptitle": {
          "text": "≤75% quantile"
         },
         "marker": {
          "color": "rgb(115, 175, 72)",
          "opacity": 0.7
         },
         "name": "Hershey's Milk Chocolate | 56.491%",
         "showlegend": true,
         "type": "bar",
         "width": 0.8,
         "x": [
          "Hershey's Milk Chocolate"
         ],
         "y": [
          56.490501
         ]
        },
        {
         "hovertemplate": "<b>Hershey's Kisses</b><br><br>Win%: %{y}<br><extra></extra>",
         "legendgroup": "≤75%",
         "legendgrouptitle": {
          "text": "≤75% quantile"
         },
         "marker": {
          "color": "rgb(115, 175, 72)",
          "opacity": 0.7
         },
         "name": "Hershey's Kisses | 55.375%",
         "showlegend": true,
         "type": "bar",
         "width": 0.8,
         "x": [
          "Hershey's Kisses"
         ],
         "y": [
          55.375454
         ]
        },
        {
         "hovertemplate": "<b>Nerds</b><br><br>Win%: %{y}<br><extra></extra>",
         "legendgroup": "≤75%",
         "legendgrouptitle": {
          "text": "≤75% quantile"
         },
         "marker": {
          "color": "rgb(115, 175, 72)",
          "opacity": 0.7
         },
         "name": "Nerds | 55.354%",
         "showlegend": true,
         "type": "bar",
         "width": 0.8,
         "x": [
          "Nerds"
         ],
         "y": [
          55.354046
         ]
        },
        {
         "hovertemplate": "<b>Skittles wildberry</b><br><br>Win%: %{y}<br><extra></extra>",
         "legendgroup": "≤75%",
         "legendgrouptitle": {
          "text": "≤75% quantile"
         },
         "marker": {
          "color": "rgb(115, 175, 72)",
          "opacity": 0.7
         },
         "name": "Skittles wildberry | 55.104%",
         "showlegend": true,
         "type": "bar",
         "width": 0.8,
         "x": [
          "Skittles wildberry"
         ],
         "y": [
          55.103695
         ]
        },
        {
         "hovertemplate": "<b>Milk Duds</b><br><br>Win%: %{y}<br><extra></extra>",
         "legendgroup": "≤75%",
         "legendgrouptitle": {
          "text": "≤75% quantile"
         },
         "marker": {
          "color": "rgb(115, 175, 72)",
          "opacity": 0.7
         },
         "name": "Milk Duds | 55.064%",
         "showlegend": true,
         "type": "bar",
         "width": 0.8,
         "x": [
          "Milk Duds"
         ],
         "y": [
          55.064072
         ]
        },
        {
         "hovertemplate": "<b>Swedish Fish</b><br><br>Win%: %{y}<br><extra></extra>",
         "legendgroup": "≤75%",
         "legendgrouptitle": {
          "text": "≤75% quantile"
         },
         "marker": {
          "color": "rgb(115, 175, 72)",
          "opacity": 0.7
         },
         "name": "Swedish Fish | 54.861%",
         "showlegend": true,
         "type": "bar",
         "width": 0.8,
         "x": [
          "Swedish Fish"
         ],
         "y": [
          54.861111
         ]
        },
        {
         "hovertemplate": "<b>Mr Good Bar</b><br><br>Win%: %{y}<br><extra></extra>",
         "legendgroup": "≤75%",
         "legendgrouptitle": {
          "text": "≤75% quantile"
         },
         "marker": {
          "color": "rgb(115, 175, 72)",
          "opacity": 0.7
         },
         "name": "Mr Good Bar | 54.526%",
         "showlegend": true,
         "type": "bar",
         "width": 0.8,
         "x": [
          "Mr Good Bar"
         ],
         "y": [
          54.526451
         ]
        },
        {
         "hovertemplate": "<b>Lifesavers big ring gummies</b><br><br>Win%: %{y}<br><extra></extra>",
         "legendgroup": "≤75%",
         "legendgrouptitle": {
          "text": "≤75% quantile"
         },
         "marker": {
          "color": "rgb(115, 175, 72)",
          "opacity": 0.7
         },
         "name": "Lifesavers big ring gummies | 52.911%",
         "showlegend": true,
         "type": "bar",
         "width": 0.8,
         "x": [
          "Lifesavers big ring gummies"
         ],
         "y": [
          52.911392
         ]
        },
        {
         "hovertemplate": "<b>Sour Patch Tricksters</b><br><br>Win%: %{y}<br><extra></extra>",
         "legendgroup": "≤75%",
         "legendgrouptitle": {
          "text": "≤75% quantile"
         },
         "marker": {
          "color": "rgb(115, 175, 72)",
          "opacity": 0.7
         },
         "name": "Sour Patch Tricksters | 52.826%",
         "showlegend": true,
         "type": "bar",
         "width": 0.8,
         "x": [
          "Sour Patch Tricksters"
         ],
         "y": [
          52.825947
         ]
        },
        {
         "hovertemplate": "<b>Air Heads</b><br><br>Win%: %{y}<br><extra></extra>",
         "legendgroup": "≤75%",
         "legendgrouptitle": {
          "text": "≤75% quantile"
         },
         "marker": {
          "color": "rgb(115, 175, 72)",
          "opacity": 0.7
         },
         "name": "Air Heads | 52.341%",
         "showlegend": true,
         "type": "bar",
         "width": 0.8,
         "x": [
          "Air Heads"
         ],
         "y": [
          52.341465
         ]
        },
        {
         "hovertemplate": "<b>Haribo Sour Bears</b><br><br>Win%: %{y}<br><extra></extra>",
         "legendgroup": "≤75%",
         "legendgrouptitle": {
          "text": "≤75% quantile"
         },
         "marker": {
          "color": "rgb(115, 175, 72)",
          "opacity": 0.7
         },
         "name": "Haribo Sour Bears | 51.412%",
         "showlegend": true,
         "type": "bar",
         "width": 0.8,
         "x": [
          "Haribo Sour Bears"
         ],
         "y": [
          51.41243
         ]
        },
        {
         "hovertemplate": "<b>Almond Joy</b><br><br>Win%: %{y}<br><extra></extra>",
         "legendgroup": "≤75%",
         "legendgrouptitle": {
          "text": "≤75% quantile"
         },
         "marker": {
          "color": "rgb(115, 175, 72)",
          "opacity": 0.7
         },
         "name": "Almond Joy | 50.348%",
         "showlegend": true,
         "type": "bar",
         "width": 0.8,
         "x": [
          "Almond Joy"
         ],
         "y": [
          50.347546
         ]
        },
        {
         "hovertemplate": "<b>Tootsie Roll Snack Bars</b><br><br>Win%: %{y}<br><extra></extra>",
         "legendgroup": "≤75%",
         "legendgrouptitle": {
          "text": "≤75% quantile"
         },
         "marker": {
          "color": "rgb(115, 175, 72)",
          "opacity": 0.7
         },
         "name": "Tootsie Roll Snack Bars | 49.654%",
         "showlegend": true,
         "type": "bar",
         "width": 0.8,
         "x": [
          "Tootsie Roll Snack Bars"
         ],
         "y": [
          49.653503
         ]
        },
        {
         "hovertemplate": "<b>Whoppers</b><br><br>Win%: %{y}<br><extra></extra>",
         "legendgroup": "≤75%",
         "legendgrouptitle": {
          "text": "≤75% quantile"
         },
         "marker": {
          "color": "rgb(115, 175, 72)",
          "opacity": 0.7
         },
         "name": "Whoppers | 49.524%",
         "showlegend": true,
         "type": "bar",
         "width": 0.8,
         "x": [
          "Whoppers"
         ],
         "y": [
          49.524113
         ]
        },
        {
         "hovertemplate": "<b>Tootsie Pop</b><br><br>Win%: %{y}<br><extra></extra>",
         "legendgroup": "≤75%",
         "legendgrouptitle": {
          "text": "≤75% quantile"
         },
         "marker": {
          "color": "rgb(115, 175, 72)",
          "opacity": 0.7
         },
         "name": "Tootsie Pop | 48.983%",
         "showlegend": true,
         "type": "bar",
         "width": 0.8,
         "x": [
          "Tootsie Pop"
         ],
         "y": [
          48.982651
         ]
        },
        {
         "hovertemplate": "<b>Mounds</b><br><br>Win%: %{y}<br><extra></extra>",
         "legendgroup": "≤50%",
         "legendgrouptitle": {
          "text": "≤50% qunatile"
         },
         "marker": {
          "color": "rgb(237, 173, 8)",
          "opacity": 0.7
         },
         "name": "Mounds | 47.83%",
         "showlegend": true,
         "type": "bar",
         "width": 0.8,
         "x": [
          "Mounds"
         ],
         "y": [
          47.829754
         ]
        },
        {
         "hovertemplate": "<b>Trolli Sour Bites</b><br><br>Win%: %{y}<br><extra></extra>",
         "legendgroup": "≤50%",
         "legendgrouptitle": {
          "text": "≤50% qunatile"
         },
         "marker": {
          "color": "rgb(237, 173, 8)",
          "opacity": 0.7
         },
         "name": "Trolli Sour Bites | 47.173%",
         "showlegend": true,
         "type": "bar",
         "width": 0.8,
         "x": [
          "Trolli Sour Bites"
         ],
         "y": [
          47.173229
         ]
        },
        {
         "hovertemplate": "<b>Gobstopper</b><br><br>Win%: %{y}<br><extra></extra>",
         "legendgroup": "≤50%",
         "legendgrouptitle": {
          "text": "≤50% qunatile"
         },
         "marker": {
          "color": "rgb(237, 173, 8)",
          "opacity": 0.7
         },
         "name": "Gobstopper | 46.783%",
         "showlegend": true,
         "type": "bar",
         "width": 0.8,
         "x": [
          "Gobstopper"
         ],
         "y": [
          46.783348
         ]
        },
        {
         "hovertemplate": "<b>Mike & Ike</b><br><br>Win%: %{y}<br><extra></extra>",
         "legendgroup": "≤50%",
         "legendgrouptitle": {
          "text": "≤50% qunatile"
         },
         "marker": {
          "color": "rgb(237, 173, 8)",
          "opacity": 0.7
         },
         "name": "Mike & Ike | 46.412%",
         "showlegend": true,
         "type": "bar",
         "width": 0.8,
         "x": [
          "Mike & Ike"
         ],
         "y": [
          46.411716
         ]
        },
        {
         "hovertemplate": "<b>Payday</b><br><br>Win%: %{y}<br><extra></extra>",
         "legendgroup": "≤50%",
         "legendgrouptitle": {
          "text": "≤50% qunatile"
         },
         "marker": {
          "color": "rgb(237, 173, 8)",
          "opacity": 0.7
         },
         "name": "Payday | 46.297%",
         "showlegend": true,
         "type": "bar",
         "width": 0.8,
         "x": [
          "Payday"
         ],
         "y": [
          46.296597
         ]
        },
        {
         "hovertemplate": "<b>One quarter</b><br><br>Win%: %{y}<br><extra></extra>",
         "legendgroup": "≤50%",
         "legendgrouptitle": {
          "text": "≤50% qunatile"
         },
         "marker": {
          "color": "rgb(237, 173, 8)",
          "opacity": 0.7
         },
         "name": "One quarter | 46.117%",
         "showlegend": true,
         "type": "bar",
         "width": 0.8,
         "x": [
          "One quarter"
         ],
         "y": [
          46.116505
         ]
        },
        {
         "hovertemplate": "<b>Smarties candy</b><br><br>Win%: %{y}<br><extra></extra>",
         "legendgroup": "≤50%",
         "legendgrouptitle": {
          "text": "≤50% qunatile"
         },
         "marker": {
          "color": "rgb(237, 173, 8)",
          "opacity": 0.7
         },
         "name": "Smarties candy | 45.996%",
         "showlegend": true,
         "type": "bar",
         "width": 0.8,
         "x": [
          "Smarties candy"
         ],
         "y": [
          45.995827
         ]
        },
        {
         "hovertemplate": "<b>Tootsie Roll Midgies</b><br><br>Win%: %{y}<br><extra></extra>",
         "legendgroup": "≤50%",
         "legendgrouptitle": {
          "text": "≤50% qunatile"
         },
         "marker": {
          "color": "rgb(237, 173, 8)",
          "opacity": 0.7
         },
         "name": "Tootsie Roll Midgies | 45.737%",
         "showlegend": true,
         "type": "bar",
         "width": 0.8,
         "x": [
          "Tootsie Roll Midgies"
         ],
         "y": [
          45.736748
         ]
        },
        {
         "hovertemplate": "<b>Twizzlers</b><br><br>Win%: %{y}<br><extra></extra>",
         "legendgroup": "≤50%",
         "legendgrouptitle": {
          "text": "≤50% qunatile"
         },
         "marker": {
          "color": "rgb(237, 173, 8)",
          "opacity": 0.7
         },
         "name": "Twizzlers | 45.466%",
         "showlegend": true,
         "type": "bar",
         "width": 0.8,
         "x": [
          "Twizzlers"
         ],
         "y": [
          45.466282
         ]
        },
        {
         "hovertemplate": "<b>Welch's Fruit Snacks</b><br><br>Win%: %{y}<br><extra></extra>",
         "legendgroup": "≤50%",
         "legendgrouptitle": {
          "text": "≤50% qunatile"
         },
         "marker": {
          "color": "rgb(237, 173, 8)",
          "opacity": 0.7
         },
         "name": "Welch's Fruit Snacks | 44.376%",
         "showlegend": true,
         "type": "bar",
         "width": 0.8,
         "x": [
          "Welch's Fruit Snacks"
         ],
         "y": [
          44.375519
         ]
        },
        {
         "hovertemplate": "<b>Fruit Chews</b><br><br>Win%: %{y}<br><extra></extra>",
         "legendgroup": "≤50%",
         "legendgrouptitle": {
          "text": "≤50% qunatile"
         },
         "marker": {
          "color": "rgb(237, 173, 8)",
          "opacity": 0.7
         },
         "name": "Fruit Chews | 43.089%",
         "showlegend": true,
         "type": "bar",
         "width": 0.8,
         "x": [
          "Fruit Chews"
         ],
         "y": [
          43.088924
         ]
        },
        {
         "hovertemplate": "<b>Tootsie Roll Juniors</b><br><br>Win%: %{y}<br><extra></extra>",
         "legendgroup": "≤50%",
         "legendgrouptitle": {
          "text": "≤50% qunatile"
         },
         "marker": {
          "color": "rgb(237, 173, 8)",
          "opacity": 0.7
         },
         "name": "Tootsie Roll Juniors | 43.069%",
         "showlegend": true,
         "type": "bar",
         "width": 0.8,
         "x": [
          "Tootsie Roll Juniors"
         ],
         "y": [
          43.068897
         ]
        },
        {
         "hovertemplate": "<b>Runts</b><br><br>Win%: %{y}<br><extra></extra>",
         "legendgroup": "≤50%",
         "legendgrouptitle": {
          "text": "≤50% qunatile"
         },
         "marker": {
          "color": "rgb(237, 173, 8)",
          "opacity": 0.7
         },
         "name": "Runts | 42.849%",
         "showlegend": true,
         "type": "bar",
         "width": 0.8,
         "x": [
          "Runts"
         ],
         "y": [
          42.849144
         ]
        },
        {
         "hovertemplate": "<b>Dots</b><br><br>Win%: %{y}<br><extra></extra>",
         "legendgroup": "≤50%",
         "legendgrouptitle": {
          "text": "≤50% qunatile"
         },
         "marker": {
          "color": "rgb(237, 173, 8)",
          "opacity": 0.7
         },
         "name": "Dots | 42.272%",
         "showlegend": true,
         "type": "bar",
         "width": 0.8,
         "x": [
          "Dots"
         ],
         "y": [
          42.272076
         ]
        },
        {
         "hovertemplate": "<b>Haribo Twin Snakes</b><br><br>Win%: %{y}<br><extra></extra>",
         "legendgroup": "≤50%",
         "legendgrouptitle": {
          "text": "≤50% qunatile"
         },
         "marker": {
          "color": "rgb(237, 173, 8)",
          "opacity": 0.7
         },
         "name": "Haribo Twin Snakes | 42.179%",
         "showlegend": true,
         "type": "bar",
         "width": 0.8,
         "x": [
          "Haribo Twin Snakes"
         ],
         "y": [
          42.178772
         ]
        },
        {
         "hovertemplate": "<b>Werther's Original Caramel</b><br><br>Win%: %{y}<br><extra></extra>",
         "legendgroup": "≤50%",
         "legendgrouptitle": {
          "text": "≤50% qunatile"
         },
         "marker": {
          "color": "rgb(237, 173, 8)",
          "opacity": 0.7
         },
         "name": "Werther's Original Caramel | 41.904%",
         "showlegend": true,
         "type": "bar",
         "width": 0.8,
         "x": [
          "Werther's Original Caramel"
         ],
         "y": [
          41.904308
         ]
        },
        {
         "hovertemplate": "<b>Laffy Taffy</b><br><br>Win%: %{y}<br><extra></extra>",
         "legendgroup": "≤50%",
         "legendgrouptitle": {
          "text": "≤50% qunatile"
         },
         "marker": {
          "color": "rgb(237, 173, 8)",
          "opacity": 0.7
         },
         "name": "Laffy Taffy | 41.39%",
         "showlegend": true,
         "type": "bar",
         "width": 0.8,
         "x": [
          "Laffy Taffy"
         ],
         "y": [
          41.389557
         ]
        },
        {
         "hovertemplate": "<b>Pop Rocks</b><br><br>Win%: %{y}<br><extra></extra>",
         "legendgroup": "≤50%",
         "legendgrouptitle": {
          "text": "≤50% qunatile"
         },
         "marker": {
          "color": "rgb(237, 173, 8)",
          "opacity": 0.7
         },
         "name": "Pop Rocks | 41.266%",
         "showlegend": true,
         "type": "bar",
         "width": 0.8,
         "x": [
          "Pop Rocks"
         ],
         "y": [
          41.265511
         ]
        },
        {
         "hovertemplate": "<b>Dum Dums</b><br><br>Win%: %{y}<br><extra></extra>",
         "legendgroup": "≤50%",
         "legendgrouptitle": {
          "text": "≤50% qunatile"
         },
         "marker": {
          "color": "rgb(237, 173, 8)",
          "opacity": 0.7
         },
         "name": "Dum Dums | 39.461%",
         "showlegend": true,
         "type": "bar",
         "width": 0.8,
         "x": [
          "Dum Dums"
         ],
         "y": [
          39.460556
         ]
        },
        {
         "hovertemplate": "<b>Now & Later</b><br><br>Win%: %{y}<br><extra></extra>",
         "legendgroup": "≤50%",
         "legendgrouptitle": {
          "text": "≤50% qunatile"
         },
         "marker": {
          "color": "rgb(237, 173, 8)",
          "opacity": 0.7
         },
         "name": "Now & Later | 39.447%",
         "showlegend": true,
         "type": "bar",
         "width": 0.8,
         "x": [
          "Now & Later"
         ],
         "y": [
          39.4468
         ]
        },
        {
         "hovertemplate": "<b>Fun Dip</b><br><br>Win%: %{y}<br><extra></extra>",
         "legendgroup": "≤50%",
         "legendgrouptitle": {
          "text": "≤50% qunatile"
         },
         "marker": {
          "color": "rgb(237, 173, 8)",
          "opacity": 0.7
         },
         "name": "Fun Dip | 39.186%",
         "showlegend": true,
         "type": "bar",
         "width": 0.8,
         "x": [
          "Fun Dip"
         ],
         "y": [
          39.185505
         ]
        },
        {
         "hovertemplate": "<b>Lemonhead</b><br><br>Win%: %{y}<br><extra></extra>",
         "legendgroup": "<25%",
         "legendgrouptitle": {
          "text": "≤ 25% qunatile"
         },
         "marker": {
          "color": "rgb(204, 80, 62)",
          "opacity": 0.7
         },
         "name": "Lemonhead | 39.141%",
         "showlegend": true,
         "type": "bar",
         "width": 0.8,
         "x": [
          "Lemonhead"
         ],
         "y": [
          39.141056
         ]
        },
        {
         "hovertemplate": "<b>Warheads</b><br><br>Win%: %{y}<br><extra></extra>",
         "legendgroup": "<25%",
         "legendgrouptitle": {
          "text": "≤ 25% qunatile"
         },
         "marker": {
          "color": "rgb(204, 80, 62)",
          "opacity": 0.7
         },
         "name": "Warheads | 39.012%",
         "showlegend": true,
         "type": "bar",
         "width": 0.8,
         "x": [
          "Warheads"
         ],
         "y": [
          39.011898
         ]
        },
        {
         "hovertemplate": "<b>Charleston Chew</b><br><br>Win%: %{y}<br><extra></extra>",
         "legendgroup": "<25%",
         "legendgrouptitle": {
          "text": "≤ 25% qunatile"
         },
         "marker": {
          "color": "rgb(204, 80, 62)",
          "opacity": 0.7
         },
         "name": "Charleston Chew | 38.975%",
         "showlegend": true,
         "type": "bar",
         "width": 0.8,
         "x": [
          "Charleston Chew"
         ],
         "y": [
          38.975037
         ]
        },
        {
         "hovertemplate": "<b>Candy Corn</b><br><br>Win%: %{y}<br><extra></extra>",
         "legendgroup": "<25%",
         "legendgrouptitle": {
          "text": "≤ 25% qunatile"
         },
         "marker": {
          "color": "rgb(204, 80, 62)",
          "opacity": 0.7
         },
         "name": "Candy Corn | 38.011%",
         "showlegend": true,
         "type": "bar",
         "width": 0.8,
         "x": [
          "Candy Corn"
         ],
         "y": [
          38.010963
         ]
        },
        {
         "hovertemplate": "<b>Nestle Smarties</b><br><br>Win%: %{y}<br><extra></extra>",
         "legendgroup": "<25%",
         "legendgrouptitle": {
          "text": "≤ 25% qunatile"
         },
         "marker": {
          "color": "rgb(204, 80, 62)",
          "opacity": 0.7
         },
         "name": "Nestle Smarties | 37.887%",
         "showlegend": true,
         "type": "bar",
         "width": 0.8,
         "x": [
          "Nestle Smarties"
         ],
         "y": [
          37.887188
         ]
        },
        {
         "hovertemplate": "<b>Pixie Sticks</b><br><br>Win%: %{y}<br><extra></extra>",
         "legendgroup": "<25%",
         "legendgrouptitle": {
          "text": "≤ 25% qunatile"
         },
         "marker": {
          "color": "rgb(204, 80, 62)",
          "opacity": 0.7
         },
         "name": "Pixie Sticks | 37.722%",
         "showlegend": true,
         "type": "bar",
         "width": 0.8,
         "x": [
          "Pixie Sticks"
         ],
         "y": [
          37.722336
         ]
        },
        {
         "hovertemplate": "<b>Red vines</b><br><br>Win%: %{y}<br><extra></extra>",
         "legendgroup": "<25%",
         "legendgrouptitle": {
          "text": "≤ 25% qunatile"
         },
         "marker": {
          "color": "rgb(204, 80, 62)",
          "opacity": 0.7
         },
         "name": "Red vines | 37.349%",
         "showlegend": true,
         "type": "bar",
         "width": 0.8,
         "x": [
          "Red vines"
         ],
         "y": [
          37.348522
         ]
        },
        {
         "hovertemplate": "<b>Chewey Lemonhead Fruit Mix</b><br><br>Win%: %{y}<br><extra></extra>",
         "legendgroup": "<25%",
         "legendgrouptitle": {
          "text": "≤ 25% qunatile"
         },
         "marker": {
          "color": "rgb(204, 80, 62)",
          "opacity": 0.7
         },
         "name": "Chewey Lemonhead Fruit Mix | 36.018%",
         "showlegend": true,
         "type": "bar",
         "width": 0.8,
         "x": [
          "Chewey Lemonhead Fruit Mix"
         ],
         "y": [
          36.017628
         ]
        },
        {
         "hovertemplate": "<b>Ring pop</b><br><br>Win%: %{y}<br><extra></extra>",
         "legendgroup": "<25%",
         "legendgrouptitle": {
          "text": "≤ 25% qunatile"
         },
         "marker": {
          "color": "rgb(204, 80, 62)",
          "opacity": 0.7
         },
         "name": "Ring pop | 35.291%",
         "showlegend": true,
         "type": "bar",
         "width": 0.8,
         "x": [
          "Ring pop"
         ],
         "y": [
          35.290756
         ]
        },
        {
         "hovertemplate": "<b>Sixlets</b><br><br>Win%: %{y}<br><extra></extra>",
         "legendgroup": "<25%",
         "legendgrouptitle": {
          "text": "≤ 25% qunatile"
         },
         "marker": {
          "color": "rgb(204, 80, 62)",
          "opacity": 0.7
         },
         "name": "Sixlets | 34.722%",
         "showlegend": true,
         "type": "bar",
         "width": 0.8,
         "x": [
          "Sixlets"
         ],
         "y": [
          34.722
         ]
        },
        {
         "hovertemplate": "<b>Strawberry bon bons</b><br><br>Win%: %{y}<br><extra></extra>",
         "legendgroup": "<25%",
         "legendgrouptitle": {
          "text": "≤ 25% qunatile"
         },
         "marker": {
          "color": "rgb(204, 80, 62)",
          "opacity": 0.7
         },
         "name": "Strawberry bon bons | 34.579%",
         "showlegend": true,
         "type": "bar",
         "width": 0.8,
         "x": [
          "Strawberry bon bons"
         ],
         "y": [
          34.578991
         ]
        },
        {
         "hovertemplate": "<b>Caramel Apple Pops</b><br><br>Win%: %{y}<br><extra></extra>",
         "legendgroup": "<25%",
         "legendgrouptitle": {
          "text": "≤ 25% qunatile"
         },
         "marker": {
          "color": "rgb(204, 80, 62)",
          "opacity": 0.7
         },
         "name": "Caramel Apple Pops | 34.518%",
         "showlegend": true,
         "type": "bar",
         "width": 0.8,
         "x": [
          "Caramel Apple Pops"
         ],
         "y": [
          34.517681
         ]
        },
        {
         "hovertemplate": "<b>Haribo Happy Cola</b><br><br>Win%: %{y}<br><extra></extra>",
         "legendgroup": "<25%",
         "legendgrouptitle": {
          "text": "≤ 25% qunatile"
         },
         "marker": {
          "color": "rgb(204, 80, 62)",
          "opacity": 0.7
         },
         "name": "Haribo Happy Cola | 34.159%",
         "showlegend": true,
         "type": "bar",
         "width": 0.8,
         "x": [
          "Haribo Happy Cola"
         ],
         "y": [
          34.158958
         ]
        },
        {
         "hovertemplate": "<b>Sugar Babies</b><br><br>Win%: %{y}<br><extra></extra>",
         "legendgroup": "<25%",
         "legendgrouptitle": {
          "text": "≤ 25% qunatile"
         },
         "marker": {
          "color": "rgb(204, 80, 62)",
          "opacity": 0.7
         },
         "name": "Sugar Babies | 33.438%",
         "showlegend": true,
         "type": "bar",
         "width": 0.8,
         "x": [
          "Sugar Babies"
         ],
         "y": [
          33.43755
         ]
        },
        {
         "hovertemplate": "<b>One dime</b><br><br>Win%: %{y}<br><extra></extra>",
         "legendgroup": "<25%",
         "legendgrouptitle": {
          "text": "≤ 25% qunatile"
         },
         "marker": {
          "color": "rgb(204, 80, 62)",
          "opacity": 0.7
         },
         "name": "One dime | 32.261%",
         "showlegend": true,
         "type": "bar",
         "width": 0.8,
         "x": [
          "One dime"
         ],
         "y": [
          32.261086
         ]
        },
        {
         "hovertemplate": "<b>Sugar Daddy</b><br><br>Win%: %{y}<br><extra></extra>",
         "legendgroup": "<25%",
         "legendgrouptitle": {
          "text": "≤ 25% qunatile"
         },
         "marker": {
          "color": "rgb(204, 80, 62)",
          "opacity": 0.7
         },
         "name": "Sugar Daddy | 32.231%",
         "showlegend": true,
         "type": "bar",
         "width": 0.8,
         "x": [
          "Sugar Daddy"
         ],
         "y": [
          32.230995
         ]
        },
        {
         "hovertemplate": "<b>Root Beer Barrels</b><br><br>Win%: %{y}<br><extra></extra>",
         "legendgroup": "<25%",
         "legendgrouptitle": {
          "text": "≤ 25% qunatile"
         },
         "marker": {
          "color": "rgb(204, 80, 62)",
          "opacity": 0.7
         },
         "name": "Root Beer Barrels | 29.704%",
         "showlegend": true,
         "type": "bar",
         "width": 0.8,
         "x": [
          "Root Beer Barrels"
         ],
         "y": [
          29.703691
         ]
        },
        {
         "hovertemplate": "<b>Jawbusters</b><br><br>Win%: %{y}<br><extra></extra>",
         "legendgroup": "<25%",
         "legendgrouptitle": {
          "text": "≤ 25% qunatile"
         },
         "marker": {
          "color": "rgb(204, 80, 62)",
          "opacity": 0.7
         },
         "name": "Jawbusters | 28.127%",
         "showlegend": true,
         "type": "bar",
         "width": 0.8,
         "x": [
          "Jawbusters"
         ],
         "y": [
          28.127439
         ]
        },
        {
         "hovertemplate": "<b>Super Bubble</b><br><br>Win%: %{y}<br><extra></extra>",
         "legendgroup": "<25%",
         "legendgrouptitle": {
          "text": "≤ 25% qunatile"
         },
         "marker": {
          "color": "rgb(204, 80, 62)",
          "opacity": 0.7
         },
         "name": "Super Bubble | 27.304%",
         "showlegend": true,
         "type": "bar",
         "width": 0.8,
         "x": [
          "Super Bubble"
         ],
         "y": [
          27.303865
         ]
        },
        {
         "hovertemplate": "<b>Chiclets</b><br><br>Win%: %{y}<br><extra></extra>",
         "legendgroup": "<25%",
         "legendgrouptitle": {
          "text": "≤ 25% qunatile"
         },
         "marker": {
          "color": "rgb(204, 80, 62)",
          "opacity": 0.7
         },
         "name": "Chiclets | 24.525%",
         "showlegend": true,
         "type": "bar",
         "width": 0.8,
         "x": [
          "Chiclets"
         ],
         "y": [
          24.524988
         ]
        },
        {
         "hovertemplate": "<b>Boston Baked Beans</b><br><br>Win%: %{y}<br><extra></extra>",
         "legendgroup": "<25%",
         "legendgrouptitle": {
          "text": "≤ 25% qunatile"
         },
         "marker": {
          "color": "rgb(204, 80, 62)",
          "opacity": 0.7
         },
         "name": "Boston Baked Beans | 23.418%",
         "showlegend": true,
         "type": "bar",
         "width": 0.8,
         "x": [
          "Boston Baked Beans"
         ],
         "y": [
          23.417824
         ]
        },
        {
         "hovertemplate": "<b>Nik L Nip</b><br><br>Win%: %{y}<br><extra></extra>",
         "legendgroup": "<25%",
         "legendgrouptitle": {
          "text": "≤ 25% qunatile"
         },
         "marker": {
          "color": "rgb(204, 80, 62)",
          "opacity": 0.7
         },
         "name": "Nik L Nip | 22.445%",
         "showlegend": true,
         "type": "bar",
         "width": 0.8,
         "x": [
          "Nik L Nip"
         ],
         "y": [
          22.445341
         ]
        }
       ],
       "layout": {
        "annotations": [
         {
          "font": {
           "color": "white",
           "size": 13
          },
          "showarrow": false,
          "text": "25.0% quantile",
          "x": 1,
          "xanchor": "right",
          "xref": "x domain",
          "y": 39.141056,
          "yanchor": "bottom",
          "yref": "y"
         },
         {
          "font": {
           "color": "white",
           "size": 13
          },
          "showarrow": false,
          "text": "50.0% quantile",
          "x": 1,
          "xanchor": "right",
          "xref": "x domain",
          "y": 47.829754,
          "yanchor": "bottom",
          "yref": "y"
         },
         {
          "font": {
           "color": "white",
           "size": 13
          },
          "showarrow": false,
          "text": "75.0% quantile",
          "x": 1,
          "xanchor": "right",
          "xref": "x domain",
          "y": 59.863998,
          "yanchor": "bottom",
          "yref": "y"
         }
        ],
        "font": {
         "color": "white"
        },
        "height": 800,
        "legend": {
         "title": {
          "text": "<b>products by winpercent quantile</b>"
         }
        },
        "paper_bgcolor": "rgba(0,0,0,0)",
        "plot_bgcolor": "rgba(0,0,0,0)",
        "shapes": [
         {
          "line": {
           "color": "white",
           "dash": "dash"
          },
          "opacity": 0.5,
          "type": "line",
          "x0": 0,
          "x1": 1,
          "xref": "x domain",
          "y0": 39.141056,
          "y1": 39.141056,
          "yref": "y"
         },
         {
          "line": {
           "color": "white",
           "dash": "dash"
          },
          "opacity": 0.5,
          "type": "line",
          "x0": 0,
          "x1": 1,
          "xref": "x domain",
          "y0": 47.829754,
          "y1": 47.829754,
          "yref": "y"
         },
         {
          "line": {
           "color": "white",
           "dash": "dash"
          },
          "opacity": 0.5,
          "type": "line",
          "x0": 0,
          "x1": 1,
          "xref": "x domain",
          "y0": 59.863998,
          "y1": 59.863998,
          "yref": "y"
         }
        ],
        "template": {
         "data": {
          "bar": [
           {
            "error_x": {
             "color": "#2a3f5f"
            },
            "error_y": {
             "color": "#2a3f5f"
            },
            "marker": {
             "line": {
              "color": "#E5ECF6",
              "width": 0.5
             },
             "pattern": {
              "fillmode": "overlay",
              "size": 10,
              "solidity": 0.2
             }
            },
            "type": "bar"
           }
          ],
          "barpolar": [
           {
            "marker": {
             "line": {
              "color": "#E5ECF6",
              "width": 0.5
             },
             "pattern": {
              "fillmode": "overlay",
              "size": 10,
              "solidity": 0.2
             }
            },
            "type": "barpolar"
           }
          ],
          "carpet": [
           {
            "aaxis": {
             "endlinecolor": "#2a3f5f",
             "gridcolor": "white",
             "linecolor": "white",
             "minorgridcolor": "white",
             "startlinecolor": "#2a3f5f"
            },
            "baxis": {
             "endlinecolor": "#2a3f5f",
             "gridcolor": "white",
             "linecolor": "white",
             "minorgridcolor": "white",
             "startlinecolor": "#2a3f5f"
            },
            "type": "carpet"
           }
          ],
          "choropleth": [
           {
            "colorbar": {
             "outlinewidth": 0,
             "ticks": ""
            },
            "type": "choropleth"
           }
          ],
          "contour": [
           {
            "colorbar": {
             "outlinewidth": 0,
             "ticks": ""
            },
            "colorscale": [
             [
              0,
              "#0d0887"
             ],
             [
              0.1111111111111111,
              "#46039f"
             ],
             [
              0.2222222222222222,
              "#7201a8"
             ],
             [
              0.3333333333333333,
              "#9c179e"
             ],
             [
              0.4444444444444444,
              "#bd3786"
             ],
             [
              0.5555555555555556,
              "#d8576b"
             ],
             [
              0.6666666666666666,
              "#ed7953"
             ],
             [
              0.7777777777777778,
              "#fb9f3a"
             ],
             [
              0.8888888888888888,
              "#fdca26"
             ],
             [
              1,
              "#f0f921"
             ]
            ],
            "type": "contour"
           }
          ],
          "contourcarpet": [
           {
            "colorbar": {
             "outlinewidth": 0,
             "ticks": ""
            },
            "type": "contourcarpet"
           }
          ],
          "heatmap": [
           {
            "colorbar": {
             "outlinewidth": 0,
             "ticks": ""
            },
            "colorscale": [
             [
              0,
              "#0d0887"
             ],
             [
              0.1111111111111111,
              "#46039f"
             ],
             [
              0.2222222222222222,
              "#7201a8"
             ],
             [
              0.3333333333333333,
              "#9c179e"
             ],
             [
              0.4444444444444444,
              "#bd3786"
             ],
             [
              0.5555555555555556,
              "#d8576b"
             ],
             [
              0.6666666666666666,
              "#ed7953"
             ],
             [
              0.7777777777777778,
              "#fb9f3a"
             ],
             [
              0.8888888888888888,
              "#fdca26"
             ],
             [
              1,
              "#f0f921"
             ]
            ],
            "type": "heatmap"
           }
          ],
          "heatmapgl": [
           {
            "colorbar": {
             "outlinewidth": 0,
             "ticks": ""
            },
            "colorscale": [
             [
              0,
              "#0d0887"
             ],
             [
              0.1111111111111111,
              "#46039f"
             ],
             [
              0.2222222222222222,
              "#7201a8"
             ],
             [
              0.3333333333333333,
              "#9c179e"
             ],
             [
              0.4444444444444444,
              "#bd3786"
             ],
             [
              0.5555555555555556,
              "#d8576b"
             ],
             [
              0.6666666666666666,
              "#ed7953"
             ],
             [
              0.7777777777777778,
              "#fb9f3a"
             ],
             [
              0.8888888888888888,
              "#fdca26"
             ],
             [
              1,
              "#f0f921"
             ]
            ],
            "type": "heatmapgl"
           }
          ],
          "histogram": [
           {
            "marker": {
             "pattern": {
              "fillmode": "overlay",
              "size": 10,
              "solidity": 0.2
             }
            },
            "type": "histogram"
           }
          ],
          "histogram2d": [
           {
            "colorbar": {
             "outlinewidth": 0,
             "ticks": ""
            },
            "colorscale": [
             [
              0,
              "#0d0887"
             ],
             [
              0.1111111111111111,
              "#46039f"
             ],
             [
              0.2222222222222222,
              "#7201a8"
             ],
             [
              0.3333333333333333,
              "#9c179e"
             ],
             [
              0.4444444444444444,
              "#bd3786"
             ],
             [
              0.5555555555555556,
              "#d8576b"
             ],
             [
              0.6666666666666666,
              "#ed7953"
             ],
             [
              0.7777777777777778,
              "#fb9f3a"
             ],
             [
              0.8888888888888888,
              "#fdca26"
             ],
             [
              1,
              "#f0f921"
             ]
            ],
            "type": "histogram2d"
           }
          ],
          "histogram2dcontour": [
           {
            "colorbar": {
             "outlinewidth": 0,
             "ticks": ""
            },
            "colorscale": [
             [
              0,
              "#0d0887"
             ],
             [
              0.1111111111111111,
              "#46039f"
             ],
             [
              0.2222222222222222,
              "#7201a8"
             ],
             [
              0.3333333333333333,
              "#9c179e"
             ],
             [
              0.4444444444444444,
              "#bd3786"
             ],
             [
              0.5555555555555556,
              "#d8576b"
             ],
             [
              0.6666666666666666,
              "#ed7953"
             ],
             [
              0.7777777777777778,
              "#fb9f3a"
             ],
             [
              0.8888888888888888,
              "#fdca26"
             ],
             [
              1,
              "#f0f921"
             ]
            ],
            "type": "histogram2dcontour"
           }
          ],
          "mesh3d": [
           {
            "colorbar": {
             "outlinewidth": 0,
             "ticks": ""
            },
            "type": "mesh3d"
           }
          ],
          "parcoords": [
           {
            "line": {
             "colorbar": {
              "outlinewidth": 0,
              "ticks": ""
             }
            },
            "type": "parcoords"
           }
          ],
          "pie": [
           {
            "automargin": true,
            "type": "pie"
           }
          ],
          "scatter": [
           {
            "fillpattern": {
             "fillmode": "overlay",
             "size": 10,
             "solidity": 0.2
            },
            "type": "scatter"
           }
          ],
          "scatter3d": [
           {
            "line": {
             "colorbar": {
              "outlinewidth": 0,
              "ticks": ""
             }
            },
            "marker": {
             "colorbar": {
              "outlinewidth": 0,
              "ticks": ""
             }
            },
            "type": "scatter3d"
           }
          ],
          "scattercarpet": [
           {
            "marker": {
             "colorbar": {
              "outlinewidth": 0,
              "ticks": ""
             }
            },
            "type": "scattercarpet"
           }
          ],
          "scattergeo": [
           {
            "marker": {
             "colorbar": {
              "outlinewidth": 0,
              "ticks": ""
             }
            },
            "type": "scattergeo"
           }
          ],
          "scattergl": [
           {
            "marker": {
             "colorbar": {
              "outlinewidth": 0,
              "ticks": ""
             }
            },
            "type": "scattergl"
           }
          ],
          "scattermapbox": [
           {
            "marker": {
             "colorbar": {
              "outlinewidth": 0,
              "ticks": ""
             }
            },
            "type": "scattermapbox"
           }
          ],
          "scatterpolar": [
           {
            "marker": {
             "colorbar": {
              "outlinewidth": 0,
              "ticks": ""
             }
            },
            "type": "scatterpolar"
           }
          ],
          "scatterpolargl": [
           {
            "marker": {
             "colorbar": {
              "outlinewidth": 0,
              "ticks": ""
             }
            },
            "type": "scatterpolargl"
           }
          ],
          "scatterternary": [
           {
            "marker": {
             "colorbar": {
              "outlinewidth": 0,
              "ticks": ""
             }
            },
            "type": "scatterternary"
           }
          ],
          "surface": [
           {
            "colorbar": {
             "outlinewidth": 0,
             "ticks": ""
            },
            "colorscale": [
             [
              0,
              "#0d0887"
             ],
             [
              0.1111111111111111,
              "#46039f"
             ],
             [
              0.2222222222222222,
              "#7201a8"
             ],
             [
              0.3333333333333333,
              "#9c179e"
             ],
             [
              0.4444444444444444,
              "#bd3786"
             ],
             [
              0.5555555555555556,
              "#d8576b"
             ],
             [
              0.6666666666666666,
              "#ed7953"
             ],
             [
              0.7777777777777778,
              "#fb9f3a"
             ],
             [
              0.8888888888888888,
              "#fdca26"
             ],
             [
              1,
              "#f0f921"
             ]
            ],
            "type": "surface"
           }
          ],
          "table": [
           {
            "cells": {
             "fill": {
              "color": "#EBF0F8"
             },
             "line": {
              "color": "white"
             }
            },
            "header": {
             "fill": {
              "color": "#C8D4E3"
             },
             "line": {
              "color": "white"
             }
            },
            "type": "table"
           }
          ]
         },
         "layout": {
          "annotationdefaults": {
           "arrowcolor": "#2a3f5f",
           "arrowhead": 0,
           "arrowwidth": 1
          },
          "autotypenumbers": "strict",
          "coloraxis": {
           "colorbar": {
            "outlinewidth": 0,
            "ticks": ""
           }
          },
          "colorscale": {
           "diverging": [
            [
             0,
             "#8e0152"
            ],
            [
             0.1,
             "#c51b7d"
            ],
            [
             0.2,
             "#de77ae"
            ],
            [
             0.3,
             "#f1b6da"
            ],
            [
             0.4,
             "#fde0ef"
            ],
            [
             0.5,
             "#f7f7f7"
            ],
            [
             0.6,
             "#e6f5d0"
            ],
            [
             0.7,
             "#b8e186"
            ],
            [
             0.8,
             "#7fbc41"
            ],
            [
             0.9,
             "#4d9221"
            ],
            [
             1,
             "#276419"
            ]
           ],
           "sequential": [
            [
             0,
             "#0d0887"
            ],
            [
             0.1111111111111111,
             "#46039f"
            ],
            [
             0.2222222222222222,
             "#7201a8"
            ],
            [
             0.3333333333333333,
             "#9c179e"
            ],
            [
             0.4444444444444444,
             "#bd3786"
            ],
            [
             0.5555555555555556,
             "#d8576b"
            ],
            [
             0.6666666666666666,
             "#ed7953"
            ],
            [
             0.7777777777777778,
             "#fb9f3a"
            ],
            [
             0.8888888888888888,
             "#fdca26"
            ],
            [
             1,
             "#f0f921"
            ]
           ],
           "sequentialminus": [
            [
             0,
             "#0d0887"
            ],
            [
             0.1111111111111111,
             "#46039f"
            ],
            [
             0.2222222222222222,
             "#7201a8"
            ],
            [
             0.3333333333333333,
             "#9c179e"
            ],
            [
             0.4444444444444444,
             "#bd3786"
            ],
            [
             0.5555555555555556,
             "#d8576b"
            ],
            [
             0.6666666666666666,
             "#ed7953"
            ],
            [
             0.7777777777777778,
             "#fb9f3a"
            ],
            [
             0.8888888888888888,
             "#fdca26"
            ],
            [
             1,
             "#f0f921"
            ]
           ]
          },
          "colorway": [
           "#636efa",
           "#EF553B",
           "#00cc96",
           "#ab63fa",
           "#FFA15A",
           "#19d3f3",
           "#FF6692",
           "#B6E880",
           "#FF97FF",
           "#FECB52"
          ],
          "font": {
           "color": "#2a3f5f"
          },
          "geo": {
           "bgcolor": "white",
           "lakecolor": "white",
           "landcolor": "#E5ECF6",
           "showlakes": true,
           "showland": true,
           "subunitcolor": "white"
          },
          "hoverlabel": {
           "align": "left"
          },
          "hovermode": "closest",
          "mapbox": {
           "style": "light"
          },
          "paper_bgcolor": "white",
          "plot_bgcolor": "#E5ECF6",
          "polar": {
           "angularaxis": {
            "gridcolor": "white",
            "linecolor": "white",
            "ticks": ""
           },
           "bgcolor": "#E5ECF6",
           "radialaxis": {
            "gridcolor": "white",
            "linecolor": "white",
            "ticks": ""
           }
          },
          "scene": {
           "xaxis": {
            "backgroundcolor": "#E5ECF6",
            "gridcolor": "white",
            "gridwidth": 2,
            "linecolor": "white",
            "showbackground": true,
            "ticks": "",
            "zerolinecolor": "white"
           },
           "yaxis": {
            "backgroundcolor": "#E5ECF6",
            "gridcolor": "white",
            "gridwidth": 2,
            "linecolor": "white",
            "showbackground": true,
            "ticks": "",
            "zerolinecolor": "white"
           },
           "zaxis": {
            "backgroundcolor": "#E5ECF6",
            "gridcolor": "white",
            "gridwidth": 2,
            "linecolor": "white",
            "showbackground": true,
            "ticks": "",
            "zerolinecolor": "white"
           }
          },
          "shapedefaults": {
           "line": {
            "color": "#2a3f5f"
           }
          },
          "ternary": {
           "aaxis": {
            "gridcolor": "white",
            "linecolor": "white",
            "ticks": ""
           },
           "baxis": {
            "gridcolor": "white",
            "linecolor": "white",
            "ticks": ""
           },
           "bgcolor": "#E5ECF6",
           "caxis": {
            "gridcolor": "white",
            "linecolor": "white",
            "ticks": ""
           }
          },
          "title": {
           "x": 0.05
          },
          "xaxis": {
           "automargin": true,
           "gridcolor": "white",
           "linecolor": "white",
           "ticks": "",
           "title": {
            "standoff": 15
           },
           "zerolinecolor": "white",
           "zerolinewidth": 2
          },
          "yaxis": {
           "automargin": true,
           "gridcolor": "white",
           "linecolor": "white",
           "ticks": "",
           "title": {
            "standoff": 15
           },
           "zerolinecolor": "white",
           "zerolinewidth": 2
          }
         }
        },
        "title": {
         "font": {
          "size": 20
         },
         "text": "<b>Reese's Peanut Butter Cup has highest winpercent with 84.18%</b>",
         "x": 0.475,
         "xanchor": "center",
         "y": 0.935,
         "yanchor": "top"
        },
        "xaxis": {
         "linecolor": "white",
         "showline": false,
         "ticks": "outside",
         "title": {
          "text": "<b>products</b>"
         }
        },
        "yaxis": {
         "gridcolor": "white",
         "linecolor": "white",
         "showgrid": true,
         "showline": false,
         "ticks": "outside",
         "title": {
          "text": "<b>winpercent</b>"
         }
        }
       }
      }
     },
     "metadata": {},
     "output_type": "display_data"
    }
   ],
   "source": [
    "fig = go.Figure()\n",
    "\n",
    "\n",
    "for product in df_winpercent.competitorname.unique():\n",
    "\n",
    " if df_winpercent.loc[df_winpercent.competitorname == product].winpercent.values <= df_winpercent.winpercent.quantile(0.25):\n",
    "  color = px.colors.qualitative.Prism[7]\n",
    "\n",
    "  fig.add_trace(\n",
    "   go.Bar(\n",
    "    x= df_winpercent.loc[df_winpercent.competitorname == product].competitorname.values,\n",
    "    y= df_winpercent.loc[df_winpercent.competitorname == product].winpercent.values,\n",
    "    name= f\"{product} | {df_winpercent.loc[df_winpercent.competitorname == product].winpercent.values[0].round(3)}%\",\n",
    "    showlegend= True,\n",
    "    marker= dict(color= color, opacity = 0.7),\n",
    "    width= 0.8,\n",
    "    legendgroup= f\"<25%\",\n",
    "    legendgrouptitle_text = f\"≤ 25% qunatile\",\n",
    "    hovertemplate = f\"<b>{product}</b><br><br>\" +\n",
    "        \"Win%: %{y}<br>\" +\n",
    "        \"<extra></extra>\"\n",
    "   )\n",
    "  )\n",
    "\n",
    " elif df_winpercent.loc[df_winpercent.competitorname == product].winpercent.values <= df_winpercent.winpercent.quantile(0.50):\n",
    "  color= px.colors.qualitative.Prism[5]\n",
    "\n",
    "\n",
    "  fig.add_trace(\n",
    "   go.Bar(\n",
    "    x= df_winpercent.loc[df_winpercent.competitorname == product].competitorname.values,\n",
    "    y= df_winpercent.loc[df_winpercent.competitorname == product].winpercent.values,\n",
    "    name= f\"{product} | {df_winpercent.loc[df_winpercent.competitorname == product].winpercent.values[0].round(3)}%\",\n",
    "    showlegend= True,\n",
    "    marker= dict(color= color, opacity = 0.7),\n",
    "    width= 0.8,\n",
    "    legendgroup= f\"≤50%\",\n",
    "    legendgrouptitle_text = f\"≤50% qunatile\",\n",
    "    hovertemplate = f\"<b>{product}</b><br><br>\" +\n",
    "        \"Win%: %{y}<br>\" +\n",
    "        \"<extra></extra>\"\n",
    "   )\n",
    "  )\n",
    " \n",
    " elif df_winpercent.loc[df_winpercent.competitorname == product].winpercent.values <= df_winpercent.winpercent.quantile(0.75):\n",
    "  color= px.colors.qualitative.Prism[4]\n",
    "\n",
    "\n",
    "  fig.add_trace(\n",
    "    go.Bar(\n",
    "    x= df_winpercent.loc[df_winpercent.competitorname == product].competitorname.values,\n",
    "    y= df_winpercent.loc[df_winpercent.competitorname == product].winpercent.values,\n",
    "    name= f\"{product} | {df_winpercent.loc[df_winpercent.competitorname == product].winpercent.values[0].round(3)}%\",\n",
    "    showlegend= True,\n",
    "    marker= dict(color= color, opacity = 0.7),\n",
    "    width= 0.8,\n",
    "    legendgroup= f\"≤75%\",\n",
    "    legendgrouptitle_text = f\"≤75% quantile\",\n",
    "    hovertemplate = f\"<b>{product}</b><br><br>\" +\n",
    "        \"Win%: %{y}<br>\" +\n",
    "        \"<extra></extra>\"\n",
    "    )\n",
    "  )\n",
    "\n",
    " elif df_winpercent.loc[df_winpercent.competitorname == product].winpercent.values < df_winpercent.winpercent.max():\n",
    "  color= px.colors.qualitative.Prism[3]\n",
    "  text= f\"{df_winpercent.loc[df_winpercent.competitorname == product].winpercent.values[0].round(1)}\"\n",
    "\n",
    "  fig.add_trace(\n",
    "    go.Bar(\n",
    "    x= df_winpercent.loc[df_winpercent.competitorname == product].competitorname.values,\n",
    "    y= df_winpercent.loc[df_winpercent.competitorname == product].winpercent.values,\n",
    "    name= f\"{product} | {df_winpercent.loc[df_winpercent.competitorname == product].winpercent.values[0].round(3)}%\",\n",
    "    showlegend= True,\n",
    "    marker= dict(color= color, opacity = 0.7),\n",
    "    width= 0.8,\n",
    "    legendgroup= f\"<max\",\n",
    "    text= text,\n",
    "    legendgrouptitle_text = f\"< max\",\n",
    "    hovertemplate = f\"<b>{product}</b><br><br>\" +\n",
    "        \"Win%: %{y}<br>\" +\n",
    "        \"<extra></extra>\" \n",
    "    )\n",
    "  )\n",
    "\n",
    " else:\n",
    "  color = px.colors.qualitative.Prism[3]\n",
    "  text= f\"{df_winpercent.loc[df_winpercent.competitorname == product].winpercent.values[0].round(1)}\"\n",
    "  \n",
    "  fig.add_trace(\n",
    "    go.Bar(\n",
    "    x= df_winpercent.loc[df_winpercent.competitorname == product].competitorname.values,\n",
    "    y= df_winpercent.loc[df_winpercent.competitorname == product].winpercent.values,\n",
    "    name= f\"{product} | {df_winpercent.loc[df_winpercent.competitorname == product].winpercent.values[0].round(3)}%\",\n",
    "    showlegend= True,\n",
    "    marker= dict(color= color),\n",
    "    width= 0.8,\n",
    "    legendgroup= f\"max\",\n",
    "    text= text,\n",
    "    legendgrouptitle_text = f\"winner\",\n",
    "    hovertemplate = f\"<b>{product}</b><br><br>\" +\n",
    "        \"Win%: %{y}<br>\" +\n",
    "        \"<extra></extra>\" \n",
    "    )\n",
    "  )\n",
    "\n",
    "\n",
    "quantile_lines= [0.25, 0.5, 0.75]\n",
    "\n",
    "for quantile in quantile_lines:\n",
    "\n",
    " fig.add_hline(\n",
    "  y= df_winpercent.winpercent.quantile(quantile),\n",
    "  opacity= 0.5,\n",
    "  line_dash= \"dash\",\n",
    "  line_color= \"white\",\n",
    "  annotation_text= f\"{quantile*100}% quantile\",\n",
    "  annotation_position= \"top right\",\n",
    "  annotation_font_size= 13,\n",
    "  annotation_font_color= \"white\"\n",
    " )\n",
    "\n",
    "\n",
    "fig.update_layout(title= dict(text= \"<b>Reese's Peanut Butter Cup has highest winpercent with 84.18%</b>\", font_size= 20, xanchor= \"center\", yanchor= \"top\", y=0.935, x=0.475), legend_title_text = \"<b>products by winpercent quantile</b>\", height= 800)\n",
    "fig.update_xaxes(title_text=\"<b>products</b>\", ticks= \"outside\", showline= False)\n",
    "fig.update_yaxes(title_text=\"<b>winpercent</b>\", ticks= \"outside\", showgrid= True, gridcolor= \"white\", showline= False)\n",
    "fig.update_layout(xaxis= dict(linecolor= \"white\"), yaxis= dict(linecolor= \"white\"), paper_bgcolor= \"rgba(0,0,0,0)\", plot_bgcolor= \"rgba(0,0,0,0)\", font_color= \"white\")\n",
    "\n",
    "fig.show()"
   ]
  },
  {
   "attachments": {},
   "cell_type": "markdown",
   "metadata": {},
   "source": [
    "**TOP TEN & WORST TEN**  \n",
    "\n",
    "Let's look at which candies perform the best and which perform the worst. We will create two new dataframes in advance for later plotting."
   ]
  },
  {
   "cell_type": "code",
   "execution_count": 93,
   "metadata": {},
   "outputs": [],
   "source": [
    "df_winner = df.sort_values(by= \"winpercent\", ascending= False).head(10)\n",
    "df_loser = df.sort_values(by= \"winpercent\", ascending= False).tail(10)"
   ]
  },
  {
   "cell_type": "code",
   "execution_count": 94,
   "metadata": {},
   "outputs": [
    {
     "data": {
      "text/html": [
       "<div>\n",
       "<style scoped>\n",
       "    .dataframe tbody tr th:only-of-type {\n",
       "        vertical-align: middle;\n",
       "    }\n",
       "\n",
       "    .dataframe tbody tr th {\n",
       "        vertical-align: top;\n",
       "    }\n",
       "\n",
       "    .dataframe thead th {\n",
       "        text-align: right;\n",
       "    }\n",
       "</style>\n",
       "<table border=\"1\" class=\"dataframe\">\n",
       "  <thead>\n",
       "    <tr style=\"text-align: right;\">\n",
       "      <th></th>\n",
       "      <th>competitorname</th>\n",
       "      <th>chocolate</th>\n",
       "      <th>fruity</th>\n",
       "      <th>caramel</th>\n",
       "      <th>peanutyalmondy</th>\n",
       "      <th>nougat</th>\n",
       "      <th>crispedricewafer</th>\n",
       "      <th>hard</th>\n",
       "      <th>bar</th>\n",
       "      <th>pluribus</th>\n",
       "      <th>sugarpercent</th>\n",
       "      <th>pricepercent</th>\n",
       "      <th>winpercent</th>\n",
       "    </tr>\n",
       "  </thead>\n",
       "  <tbody>\n",
       "    <tr>\n",
       "      <th>52</th>\n",
       "      <td>Reese's Peanut Butter cup</td>\n",
       "      <td>1</td>\n",
       "      <td>0</td>\n",
       "      <td>0</td>\n",
       "      <td>1</td>\n",
       "      <td>0</td>\n",
       "      <td>0</td>\n",
       "      <td>0</td>\n",
       "      <td>0</td>\n",
       "      <td>0</td>\n",
       "      <td>0.720</td>\n",
       "      <td>0.651</td>\n",
       "      <td>84.180290</td>\n",
       "    </tr>\n",
       "    <tr>\n",
       "      <th>51</th>\n",
       "      <td>Reese's Miniatures</td>\n",
       "      <td>1</td>\n",
       "      <td>0</td>\n",
       "      <td>0</td>\n",
       "      <td>1</td>\n",
       "      <td>0</td>\n",
       "      <td>0</td>\n",
       "      <td>0</td>\n",
       "      <td>0</td>\n",
       "      <td>0</td>\n",
       "      <td>0.034</td>\n",
       "      <td>0.279</td>\n",
       "      <td>81.866257</td>\n",
       "    </tr>\n",
       "    <tr>\n",
       "      <th>79</th>\n",
       "      <td>Twix</td>\n",
       "      <td>1</td>\n",
       "      <td>0</td>\n",
       "      <td>1</td>\n",
       "      <td>0</td>\n",
       "      <td>0</td>\n",
       "      <td>1</td>\n",
       "      <td>0</td>\n",
       "      <td>1</td>\n",
       "      <td>0</td>\n",
       "      <td>0.546</td>\n",
       "      <td>0.906</td>\n",
       "      <td>81.642914</td>\n",
       "    </tr>\n",
       "    <tr>\n",
       "      <th>28</th>\n",
       "      <td>Kit Kat</td>\n",
       "      <td>1</td>\n",
       "      <td>0</td>\n",
       "      <td>0</td>\n",
       "      <td>0</td>\n",
       "      <td>0</td>\n",
       "      <td>1</td>\n",
       "      <td>0</td>\n",
       "      <td>1</td>\n",
       "      <td>0</td>\n",
       "      <td>0.313</td>\n",
       "      <td>0.511</td>\n",
       "      <td>76.768600</td>\n",
       "    </tr>\n",
       "    <tr>\n",
       "      <th>64</th>\n",
       "      <td>Snickers</td>\n",
       "      <td>1</td>\n",
       "      <td>0</td>\n",
       "      <td>1</td>\n",
       "      <td>1</td>\n",
       "      <td>1</td>\n",
       "      <td>0</td>\n",
       "      <td>0</td>\n",
       "      <td>1</td>\n",
       "      <td>0</td>\n",
       "      <td>0.546</td>\n",
       "      <td>0.651</td>\n",
       "      <td>76.673782</td>\n",
       "    </tr>\n",
       "    <tr>\n",
       "      <th>53</th>\n",
       "      <td>Reese's pieces</td>\n",
       "      <td>1</td>\n",
       "      <td>0</td>\n",
       "      <td>0</td>\n",
       "      <td>1</td>\n",
       "      <td>0</td>\n",
       "      <td>0</td>\n",
       "      <td>0</td>\n",
       "      <td>0</td>\n",
       "      <td>1</td>\n",
       "      <td>0.406</td>\n",
       "      <td>0.651</td>\n",
       "      <td>73.434990</td>\n",
       "    </tr>\n",
       "    <tr>\n",
       "      <th>36</th>\n",
       "      <td>Milky Way</td>\n",
       "      <td>1</td>\n",
       "      <td>0</td>\n",
       "      <td>1</td>\n",
       "      <td>0</td>\n",
       "      <td>1</td>\n",
       "      <td>0</td>\n",
       "      <td>0</td>\n",
       "      <td>1</td>\n",
       "      <td>0</td>\n",
       "      <td>0.604</td>\n",
       "      <td>0.651</td>\n",
       "      <td>73.099556</td>\n",
       "    </tr>\n",
       "    <tr>\n",
       "      <th>54</th>\n",
       "      <td>Reese's stuffed with pieces</td>\n",
       "      <td>1</td>\n",
       "      <td>0</td>\n",
       "      <td>0</td>\n",
       "      <td>1</td>\n",
       "      <td>0</td>\n",
       "      <td>0</td>\n",
       "      <td>0</td>\n",
       "      <td>0</td>\n",
       "      <td>0</td>\n",
       "      <td>0.988</td>\n",
       "      <td>0.651</td>\n",
       "      <td>72.887901</td>\n",
       "    </tr>\n",
       "    <tr>\n",
       "      <th>32</th>\n",
       "      <td>Peanut butter M&amp;M's</td>\n",
       "      <td>1</td>\n",
       "      <td>0</td>\n",
       "      <td>0</td>\n",
       "      <td>1</td>\n",
       "      <td>0</td>\n",
       "      <td>0</td>\n",
       "      <td>0</td>\n",
       "      <td>0</td>\n",
       "      <td>1</td>\n",
       "      <td>0.825</td>\n",
       "      <td>0.651</td>\n",
       "      <td>71.465050</td>\n",
       "    </tr>\n",
       "    <tr>\n",
       "      <th>42</th>\n",
       "      <td>Nestle Butterfinger</td>\n",
       "      <td>1</td>\n",
       "      <td>0</td>\n",
       "      <td>0</td>\n",
       "      <td>1</td>\n",
       "      <td>0</td>\n",
       "      <td>0</td>\n",
       "      <td>0</td>\n",
       "      <td>1</td>\n",
       "      <td>0</td>\n",
       "      <td>0.604</td>\n",
       "      <td>0.767</td>\n",
       "      <td>70.735641</td>\n",
       "    </tr>\n",
       "  </tbody>\n",
       "</table>\n",
       "</div>"
      ],
      "text/plain": [
       "                 competitorname  chocolate  fruity  caramel  peanutyalmondy  \\\n",
       "52    Reese's Peanut Butter cup          1       0        0               1   \n",
       "51           Reese's Miniatures          1       0        0               1   \n",
       "79                         Twix          1       0        1               0   \n",
       "28                      Kit Kat          1       0        0               0   \n",
       "64                     Snickers          1       0        1               1   \n",
       "53               Reese's pieces          1       0        0               1   \n",
       "36                    Milky Way          1       0        1               0   \n",
       "54  Reese's stuffed with pieces          1       0        0               1   \n",
       "32          Peanut butter M&M's          1       0        0               1   \n",
       "42          Nestle Butterfinger          1       0        0               1   \n",
       "\n",
       "    nougat  crispedricewafer  hard  bar  pluribus  sugarpercent  pricepercent  \\\n",
       "52       0                 0     0    0         0         0.720         0.651   \n",
       "51       0                 0     0    0         0         0.034         0.279   \n",
       "79       0                 1     0    1         0         0.546         0.906   \n",
       "28       0                 1     0    1         0         0.313         0.511   \n",
       "64       1                 0     0    1         0         0.546         0.651   \n",
       "53       0                 0     0    0         1         0.406         0.651   \n",
       "36       1                 0     0    1         0         0.604         0.651   \n",
       "54       0                 0     0    0         0         0.988         0.651   \n",
       "32       0                 0     0    0         1         0.825         0.651   \n",
       "42       0                 0     0    1         0         0.604         0.767   \n",
       "\n",
       "    winpercent  \n",
       "52   84.180290  \n",
       "51   81.866257  \n",
       "79   81.642914  \n",
       "28   76.768600  \n",
       "64   76.673782  \n",
       "53   73.434990  \n",
       "36   73.099556  \n",
       "54   72.887901  \n",
       "32   71.465050  \n",
       "42   70.735641  "
      ]
     },
     "execution_count": 94,
     "metadata": {},
     "output_type": "execute_result"
    }
   ],
   "source": [
    "df_winner"
   ]
  },
  {
   "cell_type": "code",
   "execution_count": 95,
   "metadata": {},
   "outputs": [
    {
     "data": {
      "text/html": [
       "<div>\n",
       "<style scoped>\n",
       "    .dataframe tbody tr th:only-of-type {\n",
       "        vertical-align: middle;\n",
       "    }\n",
       "\n",
       "    .dataframe tbody tr th {\n",
       "        vertical-align: top;\n",
       "    }\n",
       "\n",
       "    .dataframe thead th {\n",
       "        text-align: right;\n",
       "    }\n",
       "</style>\n",
       "<table border=\"1\" class=\"dataframe\">\n",
       "  <thead>\n",
       "    <tr style=\"text-align: right;\">\n",
       "      <th></th>\n",
       "      <th>competitorname</th>\n",
       "      <th>chocolate</th>\n",
       "      <th>fruity</th>\n",
       "      <th>caramel</th>\n",
       "      <th>peanutyalmondy</th>\n",
       "      <th>nougat</th>\n",
       "      <th>crispedricewafer</th>\n",
       "      <th>hard</th>\n",
       "      <th>bar</th>\n",
       "      <th>pluribus</th>\n",
       "      <th>sugarpercent</th>\n",
       "      <th>pricepercent</th>\n",
       "      <th>winpercent</th>\n",
       "    </tr>\n",
       "  </thead>\n",
       "  <tbody>\n",
       "    <tr>\n",
       "      <th>19</th>\n",
       "      <td>Haribo Happy Cola</td>\n",
       "      <td>0</td>\n",
       "      <td>0</td>\n",
       "      <td>0</td>\n",
       "      <td>0</td>\n",
       "      <td>0</td>\n",
       "      <td>0</td>\n",
       "      <td>0</td>\n",
       "      <td>0</td>\n",
       "      <td>1</td>\n",
       "      <td>0.465</td>\n",
       "      <td>0.465</td>\n",
       "      <td>34.158958</td>\n",
       "    </tr>\n",
       "    <tr>\n",
       "      <th>70</th>\n",
       "      <td>Sugar Babies</td>\n",
       "      <td>0</td>\n",
       "      <td>0</td>\n",
       "      <td>1</td>\n",
       "      <td>0</td>\n",
       "      <td>0</td>\n",
       "      <td>0</td>\n",
       "      <td>0</td>\n",
       "      <td>0</td>\n",
       "      <td>1</td>\n",
       "      <td>0.965</td>\n",
       "      <td>0.767</td>\n",
       "      <td>33.437550</td>\n",
       "    </tr>\n",
       "    <tr>\n",
       "      <th>2</th>\n",
       "      <td>One dime</td>\n",
       "      <td>0</td>\n",
       "      <td>0</td>\n",
       "      <td>0</td>\n",
       "      <td>0</td>\n",
       "      <td>0</td>\n",
       "      <td>0</td>\n",
       "      <td>0</td>\n",
       "      <td>0</td>\n",
       "      <td>0</td>\n",
       "      <td>0.011</td>\n",
       "      <td>0.116</td>\n",
       "      <td>32.261086</td>\n",
       "    </tr>\n",
       "    <tr>\n",
       "      <th>71</th>\n",
       "      <td>Sugar Daddy</td>\n",
       "      <td>0</td>\n",
       "      <td>0</td>\n",
       "      <td>1</td>\n",
       "      <td>0</td>\n",
       "      <td>0</td>\n",
       "      <td>0</td>\n",
       "      <td>0</td>\n",
       "      <td>0</td>\n",
       "      <td>0</td>\n",
       "      <td>0.418</td>\n",
       "      <td>0.325</td>\n",
       "      <td>32.230995</td>\n",
       "    </tr>\n",
       "    <tr>\n",
       "      <th>57</th>\n",
       "      <td>Root Beer Barrels</td>\n",
       "      <td>0</td>\n",
       "      <td>0</td>\n",
       "      <td>0</td>\n",
       "      <td>0</td>\n",
       "      <td>0</td>\n",
       "      <td>0</td>\n",
       "      <td>1</td>\n",
       "      <td>0</td>\n",
       "      <td>1</td>\n",
       "      <td>0.732</td>\n",
       "      <td>0.069</td>\n",
       "      <td>29.703691</td>\n",
       "    </tr>\n",
       "    <tr>\n",
       "      <th>26</th>\n",
       "      <td>Jawbusters</td>\n",
       "      <td>0</td>\n",
       "      <td>1</td>\n",
       "      <td>0</td>\n",
       "      <td>0</td>\n",
       "      <td>0</td>\n",
       "      <td>0</td>\n",
       "      <td>1</td>\n",
       "      <td>0</td>\n",
       "      <td>1</td>\n",
       "      <td>0.093</td>\n",
       "      <td>0.511</td>\n",
       "      <td>28.127439</td>\n",
       "    </tr>\n",
       "    <tr>\n",
       "      <th>72</th>\n",
       "      <td>Super Bubble</td>\n",
       "      <td>0</td>\n",
       "      <td>1</td>\n",
       "      <td>0</td>\n",
       "      <td>0</td>\n",
       "      <td>0</td>\n",
       "      <td>0</td>\n",
       "      <td>0</td>\n",
       "      <td>0</td>\n",
       "      <td>0</td>\n",
       "      <td>0.162</td>\n",
       "      <td>0.116</td>\n",
       "      <td>27.303865</td>\n",
       "    </tr>\n",
       "    <tr>\n",
       "      <th>12</th>\n",
       "      <td>Chiclets</td>\n",
       "      <td>0</td>\n",
       "      <td>1</td>\n",
       "      <td>0</td>\n",
       "      <td>0</td>\n",
       "      <td>0</td>\n",
       "      <td>0</td>\n",
       "      <td>0</td>\n",
       "      <td>0</td>\n",
       "      <td>1</td>\n",
       "      <td>0.046</td>\n",
       "      <td>0.325</td>\n",
       "      <td>24.524988</td>\n",
       "    </tr>\n",
       "    <tr>\n",
       "      <th>7</th>\n",
       "      <td>Boston Baked Beans</td>\n",
       "      <td>0</td>\n",
       "      <td>0</td>\n",
       "      <td>0</td>\n",
       "      <td>1</td>\n",
       "      <td>0</td>\n",
       "      <td>0</td>\n",
       "      <td>0</td>\n",
       "      <td>0</td>\n",
       "      <td>1</td>\n",
       "      <td>0.313</td>\n",
       "      <td>0.511</td>\n",
       "      <td>23.417824</td>\n",
       "    </tr>\n",
       "    <tr>\n",
       "      <th>44</th>\n",
       "      <td>Nik L Nip</td>\n",
       "      <td>0</td>\n",
       "      <td>1</td>\n",
       "      <td>0</td>\n",
       "      <td>0</td>\n",
       "      <td>0</td>\n",
       "      <td>0</td>\n",
       "      <td>0</td>\n",
       "      <td>0</td>\n",
       "      <td>1</td>\n",
       "      <td>0.197</td>\n",
       "      <td>0.976</td>\n",
       "      <td>22.445341</td>\n",
       "    </tr>\n",
       "  </tbody>\n",
       "</table>\n",
       "</div>"
      ],
      "text/plain": [
       "        competitorname  chocolate  fruity  caramel  peanutyalmondy  nougat  \\\n",
       "19   Haribo Happy Cola          0       0        0               0       0   \n",
       "70        Sugar Babies          0       0        1               0       0   \n",
       "2             One dime          0       0        0               0       0   \n",
       "71         Sugar Daddy          0       0        1               0       0   \n",
       "57   Root Beer Barrels          0       0        0               0       0   \n",
       "26          Jawbusters          0       1        0               0       0   \n",
       "72        Super Bubble          0       1        0               0       0   \n",
       "12            Chiclets          0       1        0               0       0   \n",
       "7   Boston Baked Beans          0       0        0               1       0   \n",
       "44           Nik L Nip          0       1        0               0       0   \n",
       "\n",
       "    crispedricewafer  hard  bar  pluribus  sugarpercent  pricepercent  \\\n",
       "19                 0     0    0         1         0.465         0.465   \n",
       "70                 0     0    0         1         0.965         0.767   \n",
       "2                  0     0    0         0         0.011         0.116   \n",
       "71                 0     0    0         0         0.418         0.325   \n",
       "57                 0     1    0         1         0.732         0.069   \n",
       "26                 0     1    0         1         0.093         0.511   \n",
       "72                 0     0    0         0         0.162         0.116   \n",
       "12                 0     0    0         1         0.046         0.325   \n",
       "7                  0     0    0         1         0.313         0.511   \n",
       "44                 0     0    0         1         0.197         0.976   \n",
       "\n",
       "    winpercent  \n",
       "19   34.158958  \n",
       "70   33.437550  \n",
       "2    32.261086  \n",
       "71   32.230995  \n",
       "57   29.703691  \n",
       "26   28.127439  \n",
       "72   27.303865  \n",
       "12   24.524988  \n",
       "7    23.417824  \n",
       "44   22.445341  "
      ]
     },
     "execution_count": 95,
     "metadata": {},
     "output_type": "execute_result"
    }
   ],
   "source": [
    "df_loser"
   ]
  },
  {
   "attachments": {},
   "cell_type": "markdown",
   "metadata": {},
   "source": [
    "In order to get a better picture, we will plot the winpercentage of each candy in a barplot and take our already created dataframes for the best and worst 10."
   ]
  },
  {
   "cell_type": "code",
   "execution_count": 96,
   "metadata": {},
   "outputs": [
    {
     "data": {
      "application/vnd.plotly.v1+json": {
       "config": {
        "plotlyServerURL": "https://plot.ly"
       },
       "data": [
        {
         "hovertemplate": "<b>Reese's Peanut Butter cup</b><br><br>Win%: %{y}<br><extra></extra>",
         "legendgroup": "Reese's Peanut Butter cup",
         "marker": {
          "color": "rgb(11, 100, 44)"
         },
         "name": "Reese's Peanut Butter cup | 84.18%",
         "showlegend": true,
         "text": "84.2",
         "type": "bar",
         "width": 0.8,
         "x": [
          "Reese's Peanut Butter cup"
         ],
         "y": [
          84.18029
         ]
        },
        {
         "hovertemplate": "<b>Reese's Miniatures</b><br><br>Win%: %{y}<br><extra></extra>",
         "legendgroup": "Reese's Miniatures",
         "marker": {
          "color": "rgb(11, 100, 44)"
         },
         "name": "Reese's Miniatures | 81.866%",
         "showlegend": true,
         "text": "81.9",
         "type": "bar",
         "width": 0.8,
         "x": [
          "Reese's Miniatures"
         ],
         "y": [
          81.866257
         ]
        },
        {
         "hovertemplate": "<b>Twix</b><br><br>Win%: %{y}<br><extra></extra>",
         "legendgroup": "Twix",
         "marker": {
          "color": "rgb(11, 100, 44)"
         },
         "name": "Twix | 81.643%",
         "showlegend": true,
         "text": "81.6",
         "type": "bar",
         "width": 0.8,
         "x": [
          "Twix"
         ],
         "y": [
          81.642914
         ]
        },
        {
         "hovertemplate": "<b>Kit Kat</b><br><br>Win%: %{y}<br><extra></extra>",
         "legendgroup": "Kit Kat",
         "marker": {
          "color": "rgb(11, 100, 44)"
         },
         "name": "Kit Kat | 76.769%",
         "showlegend": true,
         "text": "76.8",
         "type": "bar",
         "width": 0.8,
         "x": [
          "Kit Kat"
         ],
         "y": [
          76.7686
         ]
        },
        {
         "hovertemplate": "<b>Snickers</b><br><br>Win%: %{y}<br><extra></extra>",
         "legendgroup": "Snickers",
         "marker": {
          "color": "rgb(11, 100, 44)"
         },
         "name": "Snickers | 76.674%",
         "showlegend": true,
         "text": "76.7",
         "type": "bar",
         "width": 0.8,
         "x": [
          "Snickers"
         ],
         "y": [
          76.673782
         ]
        },
        {
         "hovertemplate": "<b>Reese's pieces</b><br><br>Win%: %{y}<br><extra></extra>",
         "legendgroup": "Reese's pieces",
         "marker": {
          "color": "rgb(11, 100, 44)"
         },
         "name": "Reese's pieces | 73.435%",
         "showlegend": true,
         "text": "73.4",
         "type": "bar",
         "width": 0.8,
         "x": [
          "Reese's pieces"
         ],
         "y": [
          73.43499
         ]
        },
        {
         "hovertemplate": "<b>Milky Way</b><br><br>Win%: %{y}<br><extra></extra>",
         "legendgroup": "Milky Way",
         "marker": {
          "color": "rgb(11, 100, 44)"
         },
         "name": "Milky Way | 73.1%",
         "showlegend": true,
         "text": "73.1",
         "type": "bar",
         "width": 0.8,
         "x": [
          "Milky Way"
         ],
         "y": [
          73.099556
         ]
        },
        {
         "hovertemplate": "<b>Reese's stuffed with pieces</b><br><br>Win%: %{y}<br><extra></extra>",
         "legendgroup": "Reese's stuffed with pieces",
         "marker": {
          "color": "rgb(11, 100, 44)"
         },
         "name": "Reese's stuffed with pieces | 72.888%",
         "showlegend": true,
         "text": "72.9",
         "type": "bar",
         "width": 0.8,
         "x": [
          "Reese's stuffed with pieces"
         ],
         "y": [
          72.887901
         ]
        },
        {
         "hovertemplate": "<b>Peanut butter M&M's</b><br><br>Win%: %{y}<br><extra></extra>",
         "legendgroup": "Peanut butter M&M's",
         "marker": {
          "color": "rgb(11, 100, 44)"
         },
         "name": "Peanut butter M&M's | 71.465%",
         "showlegend": true,
         "text": "71.5",
         "type": "bar",
         "width": 0.8,
         "x": [
          "Peanut butter M&M's"
         ],
         "y": [
          71.46505
         ]
        },
        {
         "hovertemplate": "<b>Nestle Butterfinger</b><br><br>Win%: %{y}<br><extra></extra>",
         "legendgroup": "Nestle Butterfinger",
         "marker": {
          "color": "rgb(11, 100, 44)"
         },
         "name": "Nestle Butterfinger | 70.736%",
         "showlegend": true,
         "text": "70.7",
         "type": "bar",
         "width": 0.8,
         "x": [
          "Nestle Butterfinger"
         ],
         "y": [
          70.735641
         ]
        },
        {
         "hovertemplate": "<b>Haribo Happy Cola</b><br><br>Win%: %{y}<br><extra></extra>",
         "legendgroup": "Haribo Happy Cola",
         "marker": {
          "color": "rgb(149, 19, 39)"
         },
         "name": "Haribo Happy Cola | 34.159%",
         "showlegend": true,
         "text": "34.2",
         "type": "bar",
         "width": 0.8,
         "x": [
          "Haribo Happy Cola"
         ],
         "y": [
          34.158958
         ]
        },
        {
         "hovertemplate": "<b>Sugar Babies</b><br><br>Win%: %{y}<br><extra></extra>",
         "legendgroup": "Sugar Babies",
         "marker": {
          "color": "rgb(149, 19, 39)"
         },
         "name": "Sugar Babies | 33.438%",
         "showlegend": true,
         "text": "33.4",
         "type": "bar",
         "width": 0.8,
         "x": [
          "Sugar Babies"
         ],
         "y": [
          33.43755
         ]
        },
        {
         "hovertemplate": "<b>One dime</b><br><br>Win%: %{y}<br><extra></extra>",
         "legendgroup": "One dime",
         "marker": {
          "color": "rgb(149, 19, 39)"
         },
         "name": "One dime | 32.261%",
         "showlegend": true,
         "text": "32.3",
         "type": "bar",
         "width": 0.8,
         "x": [
          "One dime"
         ],
         "y": [
          32.261086
         ]
        },
        {
         "hovertemplate": "<b>Sugar Daddy</b><br><br>Win%: %{y}<br><extra></extra>",
         "legendgroup": "Sugar Daddy",
         "marker": {
          "color": "rgb(149, 19, 39)"
         },
         "name": "Sugar Daddy | 32.231%",
         "showlegend": true,
         "text": "32.2",
         "type": "bar",
         "width": 0.8,
         "x": [
          "Sugar Daddy"
         ],
         "y": [
          32.230995
         ]
        },
        {
         "hovertemplate": "<b>Root Beer Barrels</b><br><br>Win%: %{y}<br><extra></extra>",
         "legendgroup": "Root Beer Barrels",
         "marker": {
          "color": "rgb(149, 19, 39)"
         },
         "name": "Root Beer Barrels | 29.704%",
         "showlegend": true,
         "text": "29.7",
         "type": "bar",
         "width": 0.8,
         "x": [
          "Root Beer Barrels"
         ],
         "y": [
          29.703691
         ]
        },
        {
         "hovertemplate": "<b>Jawbusters</b><br><br>Win%: %{y}<br><extra></extra>",
         "legendgroup": "Jawbusters",
         "marker": {
          "color": "rgb(149, 19, 39)"
         },
         "name": "Jawbusters | 28.127%",
         "showlegend": true,
         "text": "28.1",
         "type": "bar",
         "width": 0.8,
         "x": [
          "Jawbusters"
         ],
         "y": [
          28.127439
         ]
        },
        {
         "hovertemplate": "<b>Super Bubble</b><br><br>Win%: %{y}<br><extra></extra>",
         "legendgroup": "Super Bubble",
         "marker": {
          "color": "rgb(149, 19, 39)"
         },
         "name": "Super Bubble | 27.304%",
         "showlegend": true,
         "text": "27.3",
         "type": "bar",
         "width": 0.8,
         "x": [
          "Super Bubble"
         ],
         "y": [
          27.303865
         ]
        },
        {
         "hovertemplate": "<b>Chiclets</b><br><br>Win%: %{y}<br><extra></extra>",
         "legendgroup": "Chiclets",
         "marker": {
          "color": "rgb(149, 19, 39)"
         },
         "name": "Chiclets | 24.525%",
         "showlegend": true,
         "text": "24.5",
         "type": "bar",
         "width": 0.8,
         "x": [
          "Chiclets"
         ],
         "y": [
          24.524988
         ]
        },
        {
         "hovertemplate": "<b>Boston Baked Beans</b><br><br>Win%: %{y}<br><extra></extra>",
         "legendgroup": "Boston Baked Beans",
         "marker": {
          "color": "rgb(149, 19, 39)"
         },
         "name": "Boston Baked Beans | 23.418%",
         "showlegend": true,
         "text": "23.4",
         "type": "bar",
         "width": 0.8,
         "x": [
          "Boston Baked Beans"
         ],
         "y": [
          23.417824
         ]
        },
        {
         "hovertemplate": "<b>Nik L Nip</b><br><br>Win%: %{y}<br><extra></extra>",
         "legendgroup": "Nik L Nip",
         "marker": {
          "color": "rgb(149, 19, 39)"
         },
         "name": "Nik L Nip | 22.445%",
         "showlegend": true,
         "text": "22.4",
         "type": "bar",
         "width": 0.8,
         "x": [
          "Nik L Nip"
         ],
         "y": [
          22.445341
         ]
        }
       ],
       "layout": {
        "font": {
         "color": "white"
        },
        "height": 850,
        "legend": {
         "title": {
          "text": "<b>products by winpercentage performance</b>"
         }
        },
        "paper_bgcolor": "rgba(0,0,0,0)",
        "plot_bgcolor": "rgba(0,0,0,0)",
        "template": {
         "data": {
          "bar": [
           {
            "error_x": {
             "color": "#2a3f5f"
            },
            "error_y": {
             "color": "#2a3f5f"
            },
            "marker": {
             "line": {
              "color": "#E5ECF6",
              "width": 0.5
             },
             "pattern": {
              "fillmode": "overlay",
              "size": 10,
              "solidity": 0.2
             }
            },
            "type": "bar"
           }
          ],
          "barpolar": [
           {
            "marker": {
             "line": {
              "color": "#E5ECF6",
              "width": 0.5
             },
             "pattern": {
              "fillmode": "overlay",
              "size": 10,
              "solidity": 0.2
             }
            },
            "type": "barpolar"
           }
          ],
          "carpet": [
           {
            "aaxis": {
             "endlinecolor": "#2a3f5f",
             "gridcolor": "white",
             "linecolor": "white",
             "minorgridcolor": "white",
             "startlinecolor": "#2a3f5f"
            },
            "baxis": {
             "endlinecolor": "#2a3f5f",
             "gridcolor": "white",
             "linecolor": "white",
             "minorgridcolor": "white",
             "startlinecolor": "#2a3f5f"
            },
            "type": "carpet"
           }
          ],
          "choropleth": [
           {
            "colorbar": {
             "outlinewidth": 0,
             "ticks": ""
            },
            "type": "choropleth"
           }
          ],
          "contour": [
           {
            "colorbar": {
             "outlinewidth": 0,
             "ticks": ""
            },
            "colorscale": [
             [
              0,
              "#0d0887"
             ],
             [
              0.1111111111111111,
              "#46039f"
             ],
             [
              0.2222222222222222,
              "#7201a8"
             ],
             [
              0.3333333333333333,
              "#9c179e"
             ],
             [
              0.4444444444444444,
              "#bd3786"
             ],
             [
              0.5555555555555556,
              "#d8576b"
             ],
             [
              0.6666666666666666,
              "#ed7953"
             ],
             [
              0.7777777777777778,
              "#fb9f3a"
             ],
             [
              0.8888888888888888,
              "#fdca26"
             ],
             [
              1,
              "#f0f921"
             ]
            ],
            "type": "contour"
           }
          ],
          "contourcarpet": [
           {
            "colorbar": {
             "outlinewidth": 0,
             "ticks": ""
            },
            "type": "contourcarpet"
           }
          ],
          "heatmap": [
           {
            "colorbar": {
             "outlinewidth": 0,
             "ticks": ""
            },
            "colorscale": [
             [
              0,
              "#0d0887"
             ],
             [
              0.1111111111111111,
              "#46039f"
             ],
             [
              0.2222222222222222,
              "#7201a8"
             ],
             [
              0.3333333333333333,
              "#9c179e"
             ],
             [
              0.4444444444444444,
              "#bd3786"
             ],
             [
              0.5555555555555556,
              "#d8576b"
             ],
             [
              0.6666666666666666,
              "#ed7953"
             ],
             [
              0.7777777777777778,
              "#fb9f3a"
             ],
             [
              0.8888888888888888,
              "#fdca26"
             ],
             [
              1,
              "#f0f921"
             ]
            ],
            "type": "heatmap"
           }
          ],
          "heatmapgl": [
           {
            "colorbar": {
             "outlinewidth": 0,
             "ticks": ""
            },
            "colorscale": [
             [
              0,
              "#0d0887"
             ],
             [
              0.1111111111111111,
              "#46039f"
             ],
             [
              0.2222222222222222,
              "#7201a8"
             ],
             [
              0.3333333333333333,
              "#9c179e"
             ],
             [
              0.4444444444444444,
              "#bd3786"
             ],
             [
              0.5555555555555556,
              "#d8576b"
             ],
             [
              0.6666666666666666,
              "#ed7953"
             ],
             [
              0.7777777777777778,
              "#fb9f3a"
             ],
             [
              0.8888888888888888,
              "#fdca26"
             ],
             [
              1,
              "#f0f921"
             ]
            ],
            "type": "heatmapgl"
           }
          ],
          "histogram": [
           {
            "marker": {
             "pattern": {
              "fillmode": "overlay",
              "size": 10,
              "solidity": 0.2
             }
            },
            "type": "histogram"
           }
          ],
          "histogram2d": [
           {
            "colorbar": {
             "outlinewidth": 0,
             "ticks": ""
            },
            "colorscale": [
             [
              0,
              "#0d0887"
             ],
             [
              0.1111111111111111,
              "#46039f"
             ],
             [
              0.2222222222222222,
              "#7201a8"
             ],
             [
              0.3333333333333333,
              "#9c179e"
             ],
             [
              0.4444444444444444,
              "#bd3786"
             ],
             [
              0.5555555555555556,
              "#d8576b"
             ],
             [
              0.6666666666666666,
              "#ed7953"
             ],
             [
              0.7777777777777778,
              "#fb9f3a"
             ],
             [
              0.8888888888888888,
              "#fdca26"
             ],
             [
              1,
              "#f0f921"
             ]
            ],
            "type": "histogram2d"
           }
          ],
          "histogram2dcontour": [
           {
            "colorbar": {
             "outlinewidth": 0,
             "ticks": ""
            },
            "colorscale": [
             [
              0,
              "#0d0887"
             ],
             [
              0.1111111111111111,
              "#46039f"
             ],
             [
              0.2222222222222222,
              "#7201a8"
             ],
             [
              0.3333333333333333,
              "#9c179e"
             ],
             [
              0.4444444444444444,
              "#bd3786"
             ],
             [
              0.5555555555555556,
              "#d8576b"
             ],
             [
              0.6666666666666666,
              "#ed7953"
             ],
             [
              0.7777777777777778,
              "#fb9f3a"
             ],
             [
              0.8888888888888888,
              "#fdca26"
             ],
             [
              1,
              "#f0f921"
             ]
            ],
            "type": "histogram2dcontour"
           }
          ],
          "mesh3d": [
           {
            "colorbar": {
             "outlinewidth": 0,
             "ticks": ""
            },
            "type": "mesh3d"
           }
          ],
          "parcoords": [
           {
            "line": {
             "colorbar": {
              "outlinewidth": 0,
              "ticks": ""
             }
            },
            "type": "parcoords"
           }
          ],
          "pie": [
           {
            "automargin": true,
            "type": "pie"
           }
          ],
          "scatter": [
           {
            "fillpattern": {
             "fillmode": "overlay",
             "size": 10,
             "solidity": 0.2
            },
            "type": "scatter"
           }
          ],
          "scatter3d": [
           {
            "line": {
             "colorbar": {
              "outlinewidth": 0,
              "ticks": ""
             }
            },
            "marker": {
             "colorbar": {
              "outlinewidth": 0,
              "ticks": ""
             }
            },
            "type": "scatter3d"
           }
          ],
          "scattercarpet": [
           {
            "marker": {
             "colorbar": {
              "outlinewidth": 0,
              "ticks": ""
             }
            },
            "type": "scattercarpet"
           }
          ],
          "scattergeo": [
           {
            "marker": {
             "colorbar": {
              "outlinewidth": 0,
              "ticks": ""
             }
            },
            "type": "scattergeo"
           }
          ],
          "scattergl": [
           {
            "marker": {
             "colorbar": {
              "outlinewidth": 0,
              "ticks": ""
             }
            },
            "type": "scattergl"
           }
          ],
          "scattermapbox": [
           {
            "marker": {
             "colorbar": {
              "outlinewidth": 0,
              "ticks": ""
             }
            },
            "type": "scattermapbox"
           }
          ],
          "scatterpolar": [
           {
            "marker": {
             "colorbar": {
              "outlinewidth": 0,
              "ticks": ""
             }
            },
            "type": "scatterpolar"
           }
          ],
          "scatterpolargl": [
           {
            "marker": {
             "colorbar": {
              "outlinewidth": 0,
              "ticks": ""
             }
            },
            "type": "scatterpolargl"
           }
          ],
          "scatterternary": [
           {
            "marker": {
             "colorbar": {
              "outlinewidth": 0,
              "ticks": ""
             }
            },
            "type": "scatterternary"
           }
          ],
          "surface": [
           {
            "colorbar": {
             "outlinewidth": 0,
             "ticks": ""
            },
            "colorscale": [
             [
              0,
              "#0d0887"
             ],
             [
              0.1111111111111111,
              "#46039f"
             ],
             [
              0.2222222222222222,
              "#7201a8"
             ],
             [
              0.3333333333333333,
              "#9c179e"
             ],
             [
              0.4444444444444444,
              "#bd3786"
             ],
             [
              0.5555555555555556,
              "#d8576b"
             ],
             [
              0.6666666666666666,
              "#ed7953"
             ],
             [
              0.7777777777777778,
              "#fb9f3a"
             ],
             [
              0.8888888888888888,
              "#fdca26"
             ],
             [
              1,
              "#f0f921"
             ]
            ],
            "type": "surface"
           }
          ],
          "table": [
           {
            "cells": {
             "fill": {
              "color": "#EBF0F8"
             },
             "line": {
              "color": "white"
             }
            },
            "header": {
             "fill": {
              "color": "#C8D4E3"
             },
             "line": {
              "color": "white"
             }
            },
            "type": "table"
           }
          ]
         },
         "layout": {
          "annotationdefaults": {
           "arrowcolor": "#2a3f5f",
           "arrowhead": 0,
           "arrowwidth": 1
          },
          "autotypenumbers": "strict",
          "coloraxis": {
           "colorbar": {
            "outlinewidth": 0,
            "ticks": ""
           }
          },
          "colorscale": {
           "diverging": [
            [
             0,
             "#8e0152"
            ],
            [
             0.1,
             "#c51b7d"
            ],
            [
             0.2,
             "#de77ae"
            ],
            [
             0.3,
             "#f1b6da"
            ],
            [
             0.4,
             "#fde0ef"
            ],
            [
             0.5,
             "#f7f7f7"
            ],
            [
             0.6,
             "#e6f5d0"
            ],
            [
             0.7,
             "#b8e186"
            ],
            [
             0.8,
             "#7fbc41"
            ],
            [
             0.9,
             "#4d9221"
            ],
            [
             1,
             "#276419"
            ]
           ],
           "sequential": [
            [
             0,
             "#0d0887"
            ],
            [
             0.1111111111111111,
             "#46039f"
            ],
            [
             0.2222222222222222,
             "#7201a8"
            ],
            [
             0.3333333333333333,
             "#9c179e"
            ],
            [
             0.4444444444444444,
             "#bd3786"
            ],
            [
             0.5555555555555556,
             "#d8576b"
            ],
            [
             0.6666666666666666,
             "#ed7953"
            ],
            [
             0.7777777777777778,
             "#fb9f3a"
            ],
            [
             0.8888888888888888,
             "#fdca26"
            ],
            [
             1,
             "#f0f921"
            ]
           ],
           "sequentialminus": [
            [
             0,
             "#0d0887"
            ],
            [
             0.1111111111111111,
             "#46039f"
            ],
            [
             0.2222222222222222,
             "#7201a8"
            ],
            [
             0.3333333333333333,
             "#9c179e"
            ],
            [
             0.4444444444444444,
             "#bd3786"
            ],
            [
             0.5555555555555556,
             "#d8576b"
            ],
            [
             0.6666666666666666,
             "#ed7953"
            ],
            [
             0.7777777777777778,
             "#fb9f3a"
            ],
            [
             0.8888888888888888,
             "#fdca26"
            ],
            [
             1,
             "#f0f921"
            ]
           ]
          },
          "colorway": [
           "#636efa",
           "#EF553B",
           "#00cc96",
           "#ab63fa",
           "#FFA15A",
           "#19d3f3",
           "#FF6692",
           "#B6E880",
           "#FF97FF",
           "#FECB52"
          ],
          "font": {
           "color": "#2a3f5f"
          },
          "geo": {
           "bgcolor": "white",
           "lakecolor": "white",
           "landcolor": "#E5ECF6",
           "showlakes": true,
           "showland": true,
           "subunitcolor": "white"
          },
          "hoverlabel": {
           "align": "left"
          },
          "hovermode": "closest",
          "mapbox": {
           "style": "light"
          },
          "paper_bgcolor": "white",
          "plot_bgcolor": "#E5ECF6",
          "polar": {
           "angularaxis": {
            "gridcolor": "white",
            "linecolor": "white",
            "ticks": ""
           },
           "bgcolor": "#E5ECF6",
           "radialaxis": {
            "gridcolor": "white",
            "linecolor": "white",
            "ticks": ""
           }
          },
          "scene": {
           "xaxis": {
            "backgroundcolor": "#E5ECF6",
            "gridcolor": "white",
            "gridwidth": 2,
            "linecolor": "white",
            "showbackground": true,
            "ticks": "",
            "zerolinecolor": "white"
           },
           "yaxis": {
            "backgroundcolor": "#E5ECF6",
            "gridcolor": "white",
            "gridwidth": 2,
            "linecolor": "white",
            "showbackground": true,
            "ticks": "",
            "zerolinecolor": "white"
           },
           "zaxis": {
            "backgroundcolor": "#E5ECF6",
            "gridcolor": "white",
            "gridwidth": 2,
            "linecolor": "white",
            "showbackground": true,
            "ticks": "",
            "zerolinecolor": "white"
           }
          },
          "shapedefaults": {
           "line": {
            "color": "#2a3f5f"
           }
          },
          "ternary": {
           "aaxis": {
            "gridcolor": "white",
            "linecolor": "white",
            "ticks": ""
           },
           "baxis": {
            "gridcolor": "white",
            "linecolor": "white",
            "ticks": ""
           },
           "bgcolor": "#E5ECF6",
           "caxis": {
            "gridcolor": "white",
            "linecolor": "white",
            "ticks": ""
           }
          },
          "title": {
           "x": 0.05
          },
          "xaxis": {
           "automargin": true,
           "gridcolor": "white",
           "linecolor": "white",
           "ticks": "",
           "title": {
            "standoff": 15
           },
           "zerolinecolor": "white",
           "zerolinewidth": 2
          },
          "yaxis": {
           "automargin": true,
           "gridcolor": "white",
           "linecolor": "white",
           "ticks": "",
           "title": {
            "standoff": 15
           },
           "zerolinecolor": "white",
           "zerolinewidth": 2
          }
         }
        },
        "title": {
         "font": {
          "size": 20
         },
         "text": "<b>Top 10 & Worse 10</b>",
         "x": 0.475,
         "xanchor": "center",
         "y": 0.935,
         "yanchor": "top"
        },
        "xaxis": {
         "showline": false,
         "ticks": "outside",
         "title": {
          "text": "<b>products</b>"
         }
        },
        "yaxis": {
         "gridcolor": "lightgrey",
         "showgrid": true,
         "showline": false,
         "ticks": "outside",
         "title": {
          "text": "<b>winpercent %</b>"
         }
        }
       }
      }
     },
     "metadata": {},
     "output_type": "display_data"
    }
   ],
   "source": [
    "fig_top = go.Figure()\n",
    "\n",
    "for winner in df_winner.competitorname.values:\n",
    "    fig_top.add_trace(\n",
    "        go.Bar(\n",
    "            x= df_winner.loc[df_winner.competitorname == winner].competitorname.values,\n",
    "            y= df_winner.loc[df_winner.competitorname == winner].winpercent.values,\n",
    "            name= f\"{winner} | {df_winner.loc[df_winner.competitorname == winner].winpercent.values[0].round(3)}%\",\n",
    "            showlegend= True,\n",
    "            marker= dict(color= px.colors.sequential.speed[8]),\n",
    "            width= 0.8,\n",
    "            legendgroup= f\"{winner}\",\n",
    "            text= f\"{df_winner.loc[df_winner.competitorname == winner].winpercent.values[0].round(1)}\",\n",
    "            hovertemplate = f\"<b>{winner}</b><br><br>\" +\n",
    "                \"Win%: %{y}<br>\" +\n",
    "                \"<extra></extra>\" \n",
    "        )\n",
    "    )\n",
    "\n",
    "for loser in df_loser.competitorname.values:\n",
    "    fig_top.add_trace(\n",
    "        go.Bar(\n",
    "            x= df_loser.loc[df_loser.competitorname == loser].competitorname.values,\n",
    "            y= df_loser.loc[df_loser.competitorname == loser].winpercent.values,\n",
    "            name= f\"{loser} | {df_loser.loc[df_loser.competitorname == loser].winpercent.values[0].round(3)}%\",\n",
    "            showlegend= True,\n",
    "            marker= dict(color= px.colors.sequential.amp[8]),\n",
    "            width= 0.8,\n",
    "            legendgroup= f\"{loser}\",\n",
    "            text= f\"{df_loser.loc[df_loser.competitorname == loser].winpercent.values[0].round(1)}\",\n",
    "            hovertemplate = f\"<b>{loser}</b><br><br>\" +\n",
    "                \"Win%: %{y}<br>\" +\n",
    "                \"<extra></extra>\" \n",
    "        )\n",
    "    )\n",
    "\n",
    "\n",
    "fig_top.update_layout(title= dict(text= \"<b>Top 10 & Worse 10</b>\", font_size= 20, xanchor= \"center\", yanchor= \"top\", y=0.935, x=0.475), legend_title_text = \"<b>products by winpercentage performance</b>\", height= 850)\n",
    "fig_top.update_xaxes(title_text=\"<b>products</b>\", ticks= \"outside\", showline= False)\n",
    "fig_top.update_yaxes(title_text=\"<b>winpercent %</b>\", ticks= \"outside\", showgrid= True, gridcolor= \"lightgrey\", showline= False)\n",
    "fig_top.update_layout(paper_bgcolor= \"rgba(0,0,0,0)\", plot_bgcolor= \"rgba(0,0,0,0)\", font_color= \"white\")\n",
    "\n",
    "fig_top.show()"
   ]
  },
  {
   "cell_type": "code",
   "execution_count": 97,
   "metadata": {},
   "outputs": [
    {
     "data": {
      "text/html": [
       "<div>\n",
       "<style scoped>\n",
       "    .dataframe tbody tr th:only-of-type {\n",
       "        vertical-align: middle;\n",
       "    }\n",
       "\n",
       "    .dataframe tbody tr th {\n",
       "        vertical-align: top;\n",
       "    }\n",
       "\n",
       "    .dataframe thead th {\n",
       "        text-align: right;\n",
       "    }\n",
       "</style>\n",
       "<table border=\"1\" class=\"dataframe\">\n",
       "  <thead>\n",
       "    <tr style=\"text-align: right;\">\n",
       "      <th></th>\n",
       "      <th>competitorname</th>\n",
       "      <th>chocolate</th>\n",
       "      <th>fruity</th>\n",
       "      <th>caramel</th>\n",
       "      <th>peanutyalmondy</th>\n",
       "      <th>nougat</th>\n",
       "      <th>crispedricewafer</th>\n",
       "      <th>hard</th>\n",
       "      <th>bar</th>\n",
       "      <th>pluribus</th>\n",
       "      <th>sugarpercent</th>\n",
       "      <th>pricepercent</th>\n",
       "      <th>winpercent</th>\n",
       "    </tr>\n",
       "  </thead>\n",
       "  <tbody>\n",
       "    <tr>\n",
       "      <th>52</th>\n",
       "      <td>Reese's Peanut Butter cup</td>\n",
       "      <td>1</td>\n",
       "      <td>0</td>\n",
       "      <td>0</td>\n",
       "      <td>1</td>\n",
       "      <td>0</td>\n",
       "      <td>0</td>\n",
       "      <td>0</td>\n",
       "      <td>0</td>\n",
       "      <td>0</td>\n",
       "      <td>0.720</td>\n",
       "      <td>0.651</td>\n",
       "      <td>84.180290</td>\n",
       "    </tr>\n",
       "    <tr>\n",
       "      <th>51</th>\n",
       "      <td>Reese's Miniatures</td>\n",
       "      <td>1</td>\n",
       "      <td>0</td>\n",
       "      <td>0</td>\n",
       "      <td>1</td>\n",
       "      <td>0</td>\n",
       "      <td>0</td>\n",
       "      <td>0</td>\n",
       "      <td>0</td>\n",
       "      <td>0</td>\n",
       "      <td>0.034</td>\n",
       "      <td>0.279</td>\n",
       "      <td>81.866257</td>\n",
       "    </tr>\n",
       "    <tr>\n",
       "      <th>79</th>\n",
       "      <td>Twix</td>\n",
       "      <td>1</td>\n",
       "      <td>0</td>\n",
       "      <td>1</td>\n",
       "      <td>0</td>\n",
       "      <td>0</td>\n",
       "      <td>1</td>\n",
       "      <td>0</td>\n",
       "      <td>1</td>\n",
       "      <td>0</td>\n",
       "      <td>0.546</td>\n",
       "      <td>0.906</td>\n",
       "      <td>81.642914</td>\n",
       "    </tr>\n",
       "    <tr>\n",
       "      <th>28</th>\n",
       "      <td>Kit Kat</td>\n",
       "      <td>1</td>\n",
       "      <td>0</td>\n",
       "      <td>0</td>\n",
       "      <td>0</td>\n",
       "      <td>0</td>\n",
       "      <td>1</td>\n",
       "      <td>0</td>\n",
       "      <td>1</td>\n",
       "      <td>0</td>\n",
       "      <td>0.313</td>\n",
       "      <td>0.511</td>\n",
       "      <td>76.768600</td>\n",
       "    </tr>\n",
       "    <tr>\n",
       "      <th>64</th>\n",
       "      <td>Snickers</td>\n",
       "      <td>1</td>\n",
       "      <td>0</td>\n",
       "      <td>1</td>\n",
       "      <td>1</td>\n",
       "      <td>1</td>\n",
       "      <td>0</td>\n",
       "      <td>0</td>\n",
       "      <td>1</td>\n",
       "      <td>0</td>\n",
       "      <td>0.546</td>\n",
       "      <td>0.651</td>\n",
       "      <td>76.673782</td>\n",
       "    </tr>\n",
       "    <tr>\n",
       "      <th>53</th>\n",
       "      <td>Reese's pieces</td>\n",
       "      <td>1</td>\n",
       "      <td>0</td>\n",
       "      <td>0</td>\n",
       "      <td>1</td>\n",
       "      <td>0</td>\n",
       "      <td>0</td>\n",
       "      <td>0</td>\n",
       "      <td>0</td>\n",
       "      <td>1</td>\n",
       "      <td>0.406</td>\n",
       "      <td>0.651</td>\n",
       "      <td>73.434990</td>\n",
       "    </tr>\n",
       "    <tr>\n",
       "      <th>36</th>\n",
       "      <td>Milky Way</td>\n",
       "      <td>1</td>\n",
       "      <td>0</td>\n",
       "      <td>1</td>\n",
       "      <td>0</td>\n",
       "      <td>1</td>\n",
       "      <td>0</td>\n",
       "      <td>0</td>\n",
       "      <td>1</td>\n",
       "      <td>0</td>\n",
       "      <td>0.604</td>\n",
       "      <td>0.651</td>\n",
       "      <td>73.099556</td>\n",
       "    </tr>\n",
       "    <tr>\n",
       "      <th>54</th>\n",
       "      <td>Reese's stuffed with pieces</td>\n",
       "      <td>1</td>\n",
       "      <td>0</td>\n",
       "      <td>0</td>\n",
       "      <td>1</td>\n",
       "      <td>0</td>\n",
       "      <td>0</td>\n",
       "      <td>0</td>\n",
       "      <td>0</td>\n",
       "      <td>0</td>\n",
       "      <td>0.988</td>\n",
       "      <td>0.651</td>\n",
       "      <td>72.887901</td>\n",
       "    </tr>\n",
       "    <tr>\n",
       "      <th>32</th>\n",
       "      <td>Peanut butter M&amp;M's</td>\n",
       "      <td>1</td>\n",
       "      <td>0</td>\n",
       "      <td>0</td>\n",
       "      <td>1</td>\n",
       "      <td>0</td>\n",
       "      <td>0</td>\n",
       "      <td>0</td>\n",
       "      <td>0</td>\n",
       "      <td>1</td>\n",
       "      <td>0.825</td>\n",
       "      <td>0.651</td>\n",
       "      <td>71.465050</td>\n",
       "    </tr>\n",
       "    <tr>\n",
       "      <th>42</th>\n",
       "      <td>Nestle Butterfinger</td>\n",
       "      <td>1</td>\n",
       "      <td>0</td>\n",
       "      <td>0</td>\n",
       "      <td>1</td>\n",
       "      <td>0</td>\n",
       "      <td>0</td>\n",
       "      <td>0</td>\n",
       "      <td>1</td>\n",
       "      <td>0</td>\n",
       "      <td>0.604</td>\n",
       "      <td>0.767</td>\n",
       "      <td>70.735641</td>\n",
       "    </tr>\n",
       "  </tbody>\n",
       "</table>\n",
       "</div>"
      ],
      "text/plain": [
       "                 competitorname  chocolate  fruity  caramel  peanutyalmondy  \\\n",
       "52    Reese's Peanut Butter cup          1       0        0               1   \n",
       "51           Reese's Miniatures          1       0        0               1   \n",
       "79                         Twix          1       0        1               0   \n",
       "28                      Kit Kat          1       0        0               0   \n",
       "64                     Snickers          1       0        1               1   \n",
       "53               Reese's pieces          1       0        0               1   \n",
       "36                    Milky Way          1       0        1               0   \n",
       "54  Reese's stuffed with pieces          1       0        0               1   \n",
       "32          Peanut butter M&M's          1       0        0               1   \n",
       "42          Nestle Butterfinger          1       0        0               1   \n",
       "\n",
       "    nougat  crispedricewafer  hard  bar  pluribus  sugarpercent  pricepercent  \\\n",
       "52       0                 0     0    0         0         0.720         0.651   \n",
       "51       0                 0     0    0         0         0.034         0.279   \n",
       "79       0                 1     0    1         0         0.546         0.906   \n",
       "28       0                 1     0    1         0         0.313         0.511   \n",
       "64       1                 0     0    1         0         0.546         0.651   \n",
       "53       0                 0     0    0         1         0.406         0.651   \n",
       "36       1                 0     0    1         0         0.604         0.651   \n",
       "54       0                 0     0    0         0         0.988         0.651   \n",
       "32       0                 0     0    0         1         0.825         0.651   \n",
       "42       0                 0     0    1         0         0.604         0.767   \n",
       "\n",
       "    winpercent  \n",
       "52   84.180290  \n",
       "51   81.866257  \n",
       "79   81.642914  \n",
       "28   76.768600  \n",
       "64   76.673782  \n",
       "53   73.434990  \n",
       "36   73.099556  \n",
       "54   72.887901  \n",
       "32   71.465050  \n",
       "42   70.735641  "
      ]
     },
     "execution_count": 97,
     "metadata": {},
     "output_type": "execute_result"
    }
   ],
   "source": [
    "df_winner.loc[df_winner.chocolate == 1]"
   ]
  },
  {
   "cell_type": "code",
   "execution_count": 98,
   "metadata": {},
   "outputs": [
    {
     "data": {
      "text/plain": [
       "chocolate           10\n",
       "fruity               0\n",
       "caramel              3\n",
       "peanutyalmondy       7\n",
       "nougat               2\n",
       "crispedricewafer     2\n",
       "hard                 0\n",
       "bar                  5\n",
       "pluribus             2\n",
       "dtype: object"
      ]
     },
     "execution_count": 98,
     "metadata": {},
     "output_type": "execute_result"
    }
   ],
   "source": [
    "df_winner.sum()[1:10]"
   ]
  },
  {
   "attachments": {},
   "cell_type": "markdown",
   "metadata": {},
   "source": [
    "You can see Reese's Peanut Butter Cup scores the best with this at 1 and Nik L Nip scores the worst. Looking at the names of the best 10 sweets, one can already assume that chocolate could be a decisive factor for the success of a candy. So let's take a closer look at the ingredients.\n",
    "\n",
    "- Therefore we group the dataframe on an ingredient of our products and look at how the products perform that contain it and those that do not."
   ]
  },
  {
   "attachments": {},
   "cell_type": "markdown",
   "metadata": {},
   "source": [
    "**CHARAKTERISTICS**"
   ]
  },
  {
   "cell_type": "code",
   "execution_count": 99,
   "metadata": {},
   "outputs": [
    {
     "data": {
      "text/html": [
       "<div>\n",
       "<style scoped>\n",
       "    .dataframe tbody tr th:only-of-type {\n",
       "        vertical-align: middle;\n",
       "    }\n",
       "\n",
       "    .dataframe tbody tr th {\n",
       "        vertical-align: top;\n",
       "    }\n",
       "\n",
       "    .dataframe thead th {\n",
       "        text-align: right;\n",
       "    }\n",
       "</style>\n",
       "<table border=\"1\" class=\"dataframe\">\n",
       "  <thead>\n",
       "    <tr style=\"text-align: right;\">\n",
       "      <th></th>\n",
       "      <th>chocolate</th>\n",
       "      <th>mean_sugarpct</th>\n",
       "      <th>mean_pricepct</th>\n",
       "      <th>mean_winpct</th>\n",
       "      <th>count</th>\n",
       "    </tr>\n",
       "  </thead>\n",
       "  <tbody>\n",
       "    <tr>\n",
       "      <th>0</th>\n",
       "      <td>0</td>\n",
       "      <td>0.452937</td>\n",
       "      <td>0.343021</td>\n",
       "      <td>42.142257</td>\n",
       "      <td>48</td>\n",
       "    </tr>\n",
       "    <tr>\n",
       "      <th>1</th>\n",
       "      <td>1</td>\n",
       "      <td>0.512000</td>\n",
       "      <td>0.632162</td>\n",
       "      <td>60.921529</td>\n",
       "      <td>37</td>\n",
       "    </tr>\n",
       "  </tbody>\n",
       "</table>\n",
       "</div>"
      ],
      "text/plain": [
       "   chocolate  mean_sugarpct  mean_pricepct  mean_winpct  count\n",
       "0          0       0.452937       0.343021    42.142257     48\n",
       "1          1       0.512000       0.632162    60.921529     37"
      ]
     },
     "execution_count": 99,
     "metadata": {},
     "output_type": "execute_result"
    }
   ],
   "source": [
    "# chocolate\n",
    "df.groupby(\"chocolate\").agg(mean_sugarpct= (\"sugarpercent\", \"mean\"), mean_pricepct= (\"pricepercent\", \"mean\"), mean_winpct= (\"winpercent\", \"mean\"), count=(\"chocolate\", \"count\")).reset_index()"
   ]
  },
  {
   "cell_type": "code",
   "execution_count": 100,
   "metadata": {},
   "outputs": [
    {
     "data": {
      "text/html": [
       "<div>\n",
       "<style scoped>\n",
       "    .dataframe tbody tr th:only-of-type {\n",
       "        vertical-align: middle;\n",
       "    }\n",
       "\n",
       "    .dataframe tbody tr th {\n",
       "        vertical-align: top;\n",
       "    }\n",
       "\n",
       "    .dataframe thead th {\n",
       "        text-align: right;\n",
       "    }\n",
       "</style>\n",
       "<table border=\"1\" class=\"dataframe\">\n",
       "  <thead>\n",
       "    <tr style=\"text-align: right;\">\n",
       "      <th></th>\n",
       "      <th>fruity</th>\n",
       "      <th>mean_sugarpct</th>\n",
       "      <th>mean_pricepct</th>\n",
       "      <th>mean_winpct</th>\n",
       "      <th>count</th>\n",
       "    </tr>\n",
       "  </thead>\n",
       "  <tbody>\n",
       "    <tr>\n",
       "      <th>0</th>\n",
       "      <td>0</td>\n",
       "      <td>0.487340</td>\n",
       "      <td>0.578957</td>\n",
       "      <td>55.327122</td>\n",
       "      <td>47</td>\n",
       "    </tr>\n",
       "    <tr>\n",
       "      <th>1</th>\n",
       "      <td>1</td>\n",
       "      <td>0.467895</td>\n",
       "      <td>0.332737</td>\n",
       "      <td>44.119741</td>\n",
       "      <td>38</td>\n",
       "    </tr>\n",
       "  </tbody>\n",
       "</table>\n",
       "</div>"
      ],
      "text/plain": [
       "   fruity  mean_sugarpct  mean_pricepct  mean_winpct  count\n",
       "0       0       0.487340       0.578957    55.327122     47\n",
       "1       1       0.467895       0.332737    44.119741     38"
      ]
     },
     "execution_count": 100,
     "metadata": {},
     "output_type": "execute_result"
    }
   ],
   "source": [
    "# fruity\n",
    "df.groupby(\"fruity\").agg(mean_sugarpct= (\"sugarpercent\", \"mean\"), mean_pricepct= (\"pricepercent\", \"mean\"), mean_winpct= (\"winpercent\", \"mean\"), count=(\"chocolate\", \"count\")).reset_index()"
   ]
  },
  {
   "cell_type": "code",
   "execution_count": 101,
   "metadata": {},
   "outputs": [
    {
     "data": {
      "text/html": [
       "<div>\n",
       "<style scoped>\n",
       "    .dataframe tbody tr th:only-of-type {\n",
       "        vertical-align: middle;\n",
       "    }\n",
       "\n",
       "    .dataframe tbody tr th {\n",
       "        vertical-align: top;\n",
       "    }\n",
       "\n",
       "    .dataframe thead th {\n",
       "        text-align: right;\n",
       "    }\n",
       "</style>\n",
       "<table border=\"1\" class=\"dataframe\">\n",
       "  <thead>\n",
       "    <tr style=\"text-align: right;\">\n",
       "      <th></th>\n",
       "      <th>caramel</th>\n",
       "      <th>mean_sugarpct</th>\n",
       "      <th>mean_pricepct</th>\n",
       "      <th>mean_winpct</th>\n",
       "      <th>count</th>\n",
       "    </tr>\n",
       "  </thead>\n",
       "  <tbody>\n",
       "    <tr>\n",
       "      <th>0</th>\n",
       "      <td>0</td>\n",
       "      <td>0.450944</td>\n",
       "      <td>0.436803</td>\n",
       "      <td>48.930538</td>\n",
       "      <td>71</td>\n",
       "    </tr>\n",
       "    <tr>\n",
       "      <th>1</th>\n",
       "      <td>1</td>\n",
       "      <td>0.619143</td>\n",
       "      <td>0.631571</td>\n",
       "      <td>57.346908</td>\n",
       "      <td>14</td>\n",
       "    </tr>\n",
       "  </tbody>\n",
       "</table>\n",
       "</div>"
      ],
      "text/plain": [
       "   caramel  mean_sugarpct  mean_pricepct  mean_winpct  count\n",
       "0        0       0.450944       0.436803    48.930538     71\n",
       "1        1       0.619143       0.631571    57.346908     14"
      ]
     },
     "execution_count": 101,
     "metadata": {},
     "output_type": "execute_result"
    }
   ],
   "source": [
    "# caramel\n",
    "df.groupby(\"caramel\").agg(mean_sugarpct= (\"sugarpercent\", \"mean\"), mean_pricepct= (\"pricepercent\", \"mean\"), mean_winpct= (\"winpercent\", \"mean\"), count=(\"chocolate\", \"count\")).reset_index()"
   ]
  },
  {
   "cell_type": "code",
   "execution_count": 102,
   "metadata": {},
   "outputs": [
    {
     "data": {
      "text/html": [
       "<div>\n",
       "<style scoped>\n",
       "    .dataframe tbody tr th:only-of-type {\n",
       "        vertical-align: middle;\n",
       "    }\n",
       "\n",
       "    .dataframe tbody tr th {\n",
       "        vertical-align: top;\n",
       "    }\n",
       "\n",
       "    .dataframe thead th {\n",
       "        text-align: right;\n",
       "    }\n",
       "</style>\n",
       "<table border=\"1\" class=\"dataframe\">\n",
       "  <thead>\n",
       "    <tr style=\"text-align: right;\">\n",
       "      <th></th>\n",
       "      <th>peanutyalmondy</th>\n",
       "      <th>mean_sugarpct</th>\n",
       "      <th>mean_pricepct</th>\n",
       "      <th>mean_winpct</th>\n",
       "      <th>count</th>\n",
       "    </tr>\n",
       "  </thead>\n",
       "  <tbody>\n",
       "    <tr>\n",
       "      <th>0</th>\n",
       "      <td>0</td>\n",
       "      <td>0.467676</td>\n",
       "      <td>0.429887</td>\n",
       "      <td>47.678380</td>\n",
       "      <td>71</td>\n",
       "    </tr>\n",
       "    <tr>\n",
       "      <th>1</th>\n",
       "      <td>1</td>\n",
       "      <td>0.534286</td>\n",
       "      <td>0.666643</td>\n",
       "      <td>63.697137</td>\n",
       "      <td>14</td>\n",
       "    </tr>\n",
       "  </tbody>\n",
       "</table>\n",
       "</div>"
      ],
      "text/plain": [
       "   peanutyalmondy  mean_sugarpct  mean_pricepct  mean_winpct  count\n",
       "0               0       0.467676       0.429887    47.678380     71\n",
       "1               1       0.534286       0.666643    63.697137     14"
      ]
     },
     "execution_count": 102,
     "metadata": {},
     "output_type": "execute_result"
    }
   ],
   "source": [
    "# peanutyalmondy\n",
    "df.groupby(\"peanutyalmondy\").agg(mean_sugarpct= (\"sugarpercent\", \"mean\"), mean_pricepct= (\"pricepercent\", \"mean\"), mean_winpct= (\"winpercent\", \"mean\"), count=(\"chocolate\", \"count\")).reset_index()"
   ]
  },
  {
   "cell_type": "code",
   "execution_count": 103,
   "metadata": {},
   "outputs": [
    {
     "data": {
      "text/html": [
       "<div>\n",
       "<style scoped>\n",
       "    .dataframe tbody tr th:only-of-type {\n",
       "        vertical-align: middle;\n",
       "    }\n",
       "\n",
       "    .dataframe tbody tr th {\n",
       "        vertical-align: top;\n",
       "    }\n",
       "\n",
       "    .dataframe thead th {\n",
       "        text-align: right;\n",
       "    }\n",
       "</style>\n",
       "<table border=\"1\" class=\"dataframe\">\n",
       "  <thead>\n",
       "    <tr style=\"text-align: right;\">\n",
       "      <th></th>\n",
       "      <th>nougat</th>\n",
       "      <th>mean_sugarpct</th>\n",
       "      <th>mean_pricepct</th>\n",
       "      <th>mean_winpct</th>\n",
       "      <th>count</th>\n",
       "    </tr>\n",
       "  </thead>\n",
       "  <tbody>\n",
       "    <tr>\n",
       "      <th>0</th>\n",
       "      <td>0</td>\n",
       "      <td>0.468282</td>\n",
       "      <td>0.455846</td>\n",
       "      <td>49.443100</td>\n",
       "      <td>78</td>\n",
       "    </tr>\n",
       "    <tr>\n",
       "      <th>1</th>\n",
       "      <td>1</td>\n",
       "      <td>0.594143</td>\n",
       "      <td>0.614143</td>\n",
       "      <td>60.051879</td>\n",
       "      <td>7</td>\n",
       "    </tr>\n",
       "  </tbody>\n",
       "</table>\n",
       "</div>"
      ],
      "text/plain": [
       "   nougat  mean_sugarpct  mean_pricepct  mean_winpct  count\n",
       "0       0       0.468282       0.455846    49.443100     78\n",
       "1       1       0.594143       0.614143    60.051879      7"
      ]
     },
     "execution_count": 103,
     "metadata": {},
     "output_type": "execute_result"
    }
   ],
   "source": [
    "# nougat\n",
    "df.groupby(\"nougat\").agg(mean_sugarpct= (\"sugarpercent\", \"mean\"), mean_pricepct= (\"pricepercent\", \"mean\"), mean_winpct= (\"winpercent\", \"mean\"), count=(\"chocolate\", \"count\")).reset_index()"
   ]
  },
  {
   "cell_type": "code",
   "execution_count": 104,
   "metadata": {},
   "outputs": [
    {
     "data": {
      "text/html": [
       "<div>\n",
       "<style scoped>\n",
       "    .dataframe tbody tr th:only-of-type {\n",
       "        vertical-align: middle;\n",
       "    }\n",
       "\n",
       "    .dataframe tbody tr th {\n",
       "        vertical-align: top;\n",
       "    }\n",
       "\n",
       "    .dataframe thead th {\n",
       "        text-align: right;\n",
       "    }\n",
       "</style>\n",
       "<table border=\"1\" class=\"dataframe\">\n",
       "  <thead>\n",
       "    <tr style=\"text-align: right;\">\n",
       "      <th></th>\n",
       "      <th>crispedricewafer</th>\n",
       "      <th>mean_sugarpct</th>\n",
       "      <th>mean_pricepct</th>\n",
       "      <th>mean_winpct</th>\n",
       "      <th>count</th>\n",
       "    </tr>\n",
       "  </thead>\n",
       "  <tbody>\n",
       "    <tr>\n",
       "      <th>0</th>\n",
       "      <td>0</td>\n",
       "      <td>0.472756</td>\n",
       "      <td>0.440949</td>\n",
       "      <td>48.894015</td>\n",
       "      <td>78</td>\n",
       "    </tr>\n",
       "    <tr>\n",
       "      <th>1</th>\n",
       "      <td>1</td>\n",
       "      <td>0.544286</td>\n",
       "      <td>0.780143</td>\n",
       "      <td>66.170252</td>\n",
       "      <td>7</td>\n",
       "    </tr>\n",
       "  </tbody>\n",
       "</table>\n",
       "</div>"
      ],
      "text/plain": [
       "   crispedricewafer  mean_sugarpct  mean_pricepct  mean_winpct  count\n",
       "0                 0       0.472756       0.440949    48.894015     78\n",
       "1                 1       0.544286       0.780143    66.170252      7"
      ]
     },
     "execution_count": 104,
     "metadata": {},
     "output_type": "execute_result"
    }
   ],
   "source": [
    "# crispedricewafer\n",
    "df.groupby(\"crispedricewafer\").agg(mean_sugarpct= (\"sugarpercent\", \"mean\"), mean_pricepct= (\"pricepercent\", \"mean\"), mean_winpct= (\"winpercent\", \"mean\"), count=(\"chocolate\", \"count\")).reset_index()"
   ]
  },
  {
   "cell_type": "code",
   "execution_count": 105,
   "metadata": {},
   "outputs": [
    {
     "data": {
      "text/html": [
       "<div>\n",
       "<style scoped>\n",
       "    .dataframe tbody tr th:only-of-type {\n",
       "        vertical-align: middle;\n",
       "    }\n",
       "\n",
       "    .dataframe tbody tr th {\n",
       "        vertical-align: top;\n",
       "    }\n",
       "\n",
       "    .dataframe thead th {\n",
       "        text-align: right;\n",
       "    }\n",
       "</style>\n",
       "<table border=\"1\" class=\"dataframe\">\n",
       "  <thead>\n",
       "    <tr style=\"text-align: right;\">\n",
       "      <th></th>\n",
       "      <th>hard</th>\n",
       "      <th>mean_sugarpct</th>\n",
       "      <th>mean_pricepct</th>\n",
       "      <th>mean_winpct</th>\n",
       "      <th>count</th>\n",
       "    </tr>\n",
       "  </thead>\n",
       "  <tbody>\n",
       "    <tr>\n",
       "      <th>0</th>\n",
       "      <td>0</td>\n",
       "      <td>0.4667</td>\n",
       "      <td>0.501014</td>\n",
       "      <td>52.418431</td>\n",
       "      <td>70</td>\n",
       "    </tr>\n",
       "    <tr>\n",
       "      <th>1</th>\n",
       "      <td>1</td>\n",
       "      <td>0.5344</td>\n",
       "      <td>0.318933</td>\n",
       "      <td>40.508982</td>\n",
       "      <td>15</td>\n",
       "    </tr>\n",
       "  </tbody>\n",
       "</table>\n",
       "</div>"
      ],
      "text/plain": [
       "   hard  mean_sugarpct  mean_pricepct  mean_winpct  count\n",
       "0     0         0.4667       0.501014    52.418431     70\n",
       "1     1         0.5344       0.318933    40.508982     15"
      ]
     },
     "execution_count": 105,
     "metadata": {},
     "output_type": "execute_result"
    }
   ],
   "source": [
    "# hard\n",
    "df.groupby(\"hard\").agg(mean_sugarpct= (\"sugarpercent\", \"mean\"), mean_pricepct= (\"pricepercent\", \"mean\"), mean_winpct= (\"winpercent\", \"mean\"), count=(\"chocolate\", \"count\")).reset_index()"
   ]
  },
  {
   "cell_type": "code",
   "execution_count": 106,
   "metadata": {},
   "outputs": [
    {
     "data": {
      "text/html": [
       "<div>\n",
       "<style scoped>\n",
       "    .dataframe tbody tr th:only-of-type {\n",
       "        vertical-align: middle;\n",
       "    }\n",
       "\n",
       "    .dataframe tbody tr th {\n",
       "        vertical-align: top;\n",
       "    }\n",
       "\n",
       "    .dataframe thead th {\n",
       "        text-align: right;\n",
       "    }\n",
       "</style>\n",
       "<table border=\"1\" class=\"dataframe\">\n",
       "  <thead>\n",
       "    <tr style=\"text-align: right;\">\n",
       "      <th></th>\n",
       "      <th>bar</th>\n",
       "      <th>mean_sugarpct</th>\n",
       "      <th>mean_pricepct</th>\n",
       "      <th>mean_winpct</th>\n",
       "      <th>count</th>\n",
       "    </tr>\n",
       "  </thead>\n",
       "  <tbody>\n",
       "    <tr>\n",
       "      <th>0</th>\n",
       "      <td>0</td>\n",
       "      <td>0.462547</td>\n",
       "      <td>0.384531</td>\n",
       "      <td>46.714395</td>\n",
       "      <td>64</td>\n",
       "    </tr>\n",
       "    <tr>\n",
       "      <th>1</th>\n",
       "      <td>1</td>\n",
       "      <td>0.527714</td>\n",
       "      <td>0.725952</td>\n",
       "      <td>61.295413</td>\n",
       "      <td>21</td>\n",
       "    </tr>\n",
       "  </tbody>\n",
       "</table>\n",
       "</div>"
      ],
      "text/plain": [
       "   bar  mean_sugarpct  mean_pricepct  mean_winpct  count\n",
       "0    0       0.462547       0.384531    46.714395     64\n",
       "1    1       0.527714       0.725952    61.295413     21"
      ]
     },
     "execution_count": 106,
     "metadata": {},
     "output_type": "execute_result"
    }
   ],
   "source": [
    "# bar\n",
    "df.groupby(\"bar\").agg(mean_sugarpct= (\"sugarpercent\", \"mean\"), mean_pricepct= (\"pricepercent\", \"mean\"), mean_winpct= (\"winpercent\", \"mean\"), count=(\"chocolate\", \"count\")).reset_index()"
   ]
  },
  {
   "cell_type": "code",
   "execution_count": 107,
   "metadata": {},
   "outputs": [
    {
     "data": {
      "text/html": [
       "<div>\n",
       "<style scoped>\n",
       "    .dataframe tbody tr th:only-of-type {\n",
       "        vertical-align: middle;\n",
       "    }\n",
       "\n",
       "    .dataframe tbody tr th {\n",
       "        vertical-align: top;\n",
       "    }\n",
       "\n",
       "    .dataframe thead th {\n",
       "        text-align: right;\n",
       "    }\n",
       "</style>\n",
       "<table border=\"1\" class=\"dataframe\">\n",
       "  <thead>\n",
       "    <tr style=\"text-align: right;\">\n",
       "      <th></th>\n",
       "      <th>pluribus</th>\n",
       "      <th>mean_sugarpct</th>\n",
       "      <th>mean_pricepct</th>\n",
       "      <th>mean_winpct</th>\n",
       "      <th>count</th>\n",
       "    </tr>\n",
       "  </thead>\n",
       "  <tbody>\n",
       "    <tr>\n",
       "      <th>0</th>\n",
       "      <td>0</td>\n",
       "      <td>0.46539</td>\n",
       "      <td>0.533854</td>\n",
       "      <td>54.066404</td>\n",
       "      <td>41</td>\n",
       "    </tr>\n",
       "    <tr>\n",
       "      <th>1</th>\n",
       "      <td>1</td>\n",
       "      <td>0.49100</td>\n",
       "      <td>0.408341</td>\n",
       "      <td>46.822781</td>\n",
       "      <td>44</td>\n",
       "    </tr>\n",
       "  </tbody>\n",
       "</table>\n",
       "</div>"
      ],
      "text/plain": [
       "   pluribus  mean_sugarpct  mean_pricepct  mean_winpct  count\n",
       "0         0        0.46539       0.533854    54.066404     41\n",
       "1         1        0.49100       0.408341    46.822781     44"
      ]
     },
     "execution_count": 107,
     "metadata": {},
     "output_type": "execute_result"
    }
   ],
   "source": [
    "# pluribus\n",
    "df.groupby(\"pluribus\").agg(mean_sugarpct= (\"sugarpercent\", \"mean\"), mean_pricepct= (\"pricepercent\", \"mean\"), mean_winpct= (\"winpercent\", \"mean\"), count=(\"chocolate\", \"count\")).reset_index()"
   ]
  },
  {
   "attachments": {},
   "cell_type": "markdown",
   "metadata": {},
   "source": [
    "We recognize that the sweets with the characteristics chocolate, caramel, peanutyalmondy, (nougat), (crispedricewafer) and bar perform better and products with the characteristics fruity, hard and pluribus perform worse. \n",
    "\n",
    "- (): We counted the rows to get a sense of whether our results are significant, characteristics with () contain too few data points to classify as significant.\n",
    "\n",
    "Next we look at the characteristics in a boxplot:\n"
   ]
  },
  {
   "cell_type": "code",
   "execution_count": 108,
   "metadata": {},
   "outputs": [
    {
     "data": {
      "application/vnd.plotly.v1+json": {
       "config": {
        "plotlyServerURL": "https://plot.ly"
       },
       "data": [
        {
         "boxpoints": "outliers",
         "fillcolor": "rgb(35, 121, 36)",
         "hoveron": "boxes+points",
         "jitter": 0.5,
         "line": {
          "width": 1
         },
         "marker": {
          "color": "white",
          "size": 2
         },
         "name": "chocolate",
         "type": "box",
         "whiskerwidth": 0.2,
         "x": [
          1,
          1,
          0,
          0,
          0,
          1,
          1,
          0,
          0,
          0,
          1,
          0,
          0,
          0,
          0,
          0,
          0,
          0,
          0,
          0,
          0,
          0,
          1,
          1,
          1,
          1,
          0,
          1,
          1,
          0,
          0,
          0,
          1,
          1,
          0,
          1,
          1,
          1,
          1,
          1,
          1,
          0,
          1,
          1,
          0,
          0,
          0,
          1,
          0,
          0,
          0,
          1,
          1,
          1,
          1,
          0,
          1,
          0,
          0,
          1,
          0,
          0,
          1,
          0,
          1,
          1,
          0,
          0,
          0,
          0,
          0,
          0,
          0,
          0,
          1,
          1,
          1,
          1,
          0,
          1,
          0,
          0,
          0,
          0,
          1
         ],
         "xaxis": "x",
         "y": [
          66.971725,
          67.602936,
          32.261086,
          46.116505,
          52.341465,
          50.347546,
          56.914547,
          23.417824,
          38.010963,
          34.517681,
          38.975037,
          36.017628,
          24.524988,
          42.272076,
          39.460556,
          43.088924,
          39.185505,
          46.783348,
          57.11974,
          34.158958,
          51.41243,
          42.178772,
          55.375454,
          62.284481,
          56.490501,
          59.236122,
          28.127439,
          57.21925,
          76.7686,
          41.389557,
          39.141056,
          52.911392,
          71.46505,
          66.574585,
          46.411716,
          55.064072,
          73.099556,
          60.800701,
          64.35334,
          47.829754,
          54.526451,
          55.354046,
          70.735641,
          66.47068,
          22.445341,
          39.4468,
          46.296597,
          69.483788,
          37.722336,
          41.265511,
          37.348522,
          81.866257,
          84.18029,
          73.43499,
          72.887901,
          35.290756,
          65.716286,
          29.703691,
          42.849144,
          34.722,
          63.08514,
          55.103695,
          37.887188,
          45.995827,
          76.673782,
          59.529251,
          59.863998,
          52.825947,
          67.037628,
          34.578991,
          33.43755,
          32.230995,
          27.303865,
          54.861111,
          48.982651,
          43.068897,
          45.736748,
          49.653503,
          47.173229,
          81.642914,
          45.466282,
          39.011898,
          44.375519,
          41.904308,
          49.524113
         ],
         "yaxis": "y"
        },
        {
         "boxpoints": "outliers",
         "fillcolor": "rgb(75, 138, 20)",
         "hoveron": "boxes+points",
         "jitter": 0.5,
         "line": {
          "width": 1
         },
         "marker": {
          "color": "white",
          "size": 2
         },
         "name": "caramel",
         "type": "box",
         "whiskerwidth": 0.2,
         "x": [
          1,
          0,
          0,
          0,
          0,
          0,
          1,
          0,
          0,
          1,
          0,
          0,
          0,
          0,
          0,
          0,
          0,
          0,
          0,
          0,
          0,
          0,
          0,
          0,
          0,
          0,
          0,
          0,
          0,
          0,
          0,
          0,
          0,
          0,
          0,
          1,
          1,
          1,
          1,
          0,
          0,
          0,
          0,
          0,
          0,
          0,
          0,
          0,
          0,
          0,
          0,
          0,
          0,
          0,
          0,
          0,
          1,
          0,
          0,
          0,
          0,
          0,
          0,
          0,
          1,
          1,
          0,
          0,
          0,
          0,
          1,
          1,
          0,
          0,
          0,
          0,
          0,
          0,
          0,
          1,
          0,
          0,
          0,
          1,
          0
         ],
         "xaxis": "x2",
         "y": [
          66.971725,
          67.602936,
          32.261086,
          46.116505,
          52.341465,
          50.347546,
          56.914547,
          23.417824,
          38.010963,
          34.517681,
          38.975037,
          36.017628,
          24.524988,
          42.272076,
          39.460556,
          43.088924,
          39.185505,
          46.783348,
          57.11974,
          34.158958,
          51.41243,
          42.178772,
          55.375454,
          62.284481,
          56.490501,
          59.236122,
          28.127439,
          57.21925,
          76.7686,
          41.389557,
          39.141056,
          52.911392,
          71.46505,
          66.574585,
          46.411716,
          55.064072,
          73.099556,
          60.800701,
          64.35334,
          47.829754,
          54.526451,
          55.354046,
          70.735641,
          66.47068,
          22.445341,
          39.4468,
          46.296597,
          69.483788,
          37.722336,
          41.265511,
          37.348522,
          81.866257,
          84.18029,
          73.43499,
          72.887901,
          35.290756,
          65.716286,
          29.703691,
          42.849144,
          34.722,
          63.08514,
          55.103695,
          37.887188,
          45.995827,
          76.673782,
          59.529251,
          59.863998,
          52.825947,
          67.037628,
          34.578991,
          33.43755,
          32.230995,
          27.303865,
          54.861111,
          48.982651,
          43.068897,
          45.736748,
          49.653503,
          47.173229,
          81.642914,
          45.466282,
          39.011898,
          44.375519,
          41.904308,
          49.524113
         ],
         "yaxis": "y2"
        },
        {
         "boxpoints": "outliers",
         "fillcolor": "rgb(11, 100, 44)",
         "hoveron": "boxes+points",
         "jitter": 0.5,
         "line": {
          "width": 1
         },
         "marker": {
          "color": "white",
          "size": 2
         },
         "name": "peanutyalmondy",
         "type": "box",
         "whiskerwidth": 0.2,
         "x": [
          0,
          0,
          0,
          0,
          0,
          1,
          1,
          1,
          0,
          0,
          0,
          0,
          0,
          0,
          0,
          0,
          0,
          0,
          0,
          0,
          0,
          0,
          0,
          0,
          0,
          0,
          0,
          0,
          0,
          0,
          0,
          0,
          1,
          0,
          0,
          0,
          0,
          0,
          0,
          0,
          1,
          0,
          1,
          0,
          0,
          0,
          1,
          1,
          0,
          0,
          0,
          1,
          1,
          1,
          1,
          0,
          0,
          0,
          0,
          0,
          0,
          0,
          0,
          0,
          1,
          1,
          0,
          0,
          0,
          0,
          0,
          0,
          0,
          0,
          0,
          0,
          0,
          0,
          0,
          0,
          0,
          0,
          0,
          0,
          0
         ],
         "xaxis": "x3",
         "y": [
          66.971725,
          67.602936,
          32.261086,
          46.116505,
          52.341465,
          50.347546,
          56.914547,
          23.417824,
          38.010963,
          34.517681,
          38.975037,
          36.017628,
          24.524988,
          42.272076,
          39.460556,
          43.088924,
          39.185505,
          46.783348,
          57.11974,
          34.158958,
          51.41243,
          42.178772,
          55.375454,
          62.284481,
          56.490501,
          59.236122,
          28.127439,
          57.21925,
          76.7686,
          41.389557,
          39.141056,
          52.911392,
          71.46505,
          66.574585,
          46.411716,
          55.064072,
          73.099556,
          60.800701,
          64.35334,
          47.829754,
          54.526451,
          55.354046,
          70.735641,
          66.47068,
          22.445341,
          39.4468,
          46.296597,
          69.483788,
          37.722336,
          41.265511,
          37.348522,
          81.866257,
          84.18029,
          73.43499,
          72.887901,
          35.290756,
          65.716286,
          29.703691,
          42.849144,
          34.722,
          63.08514,
          55.103695,
          37.887188,
          45.995827,
          76.673782,
          59.529251,
          59.863998,
          52.825947,
          67.037628,
          34.578991,
          33.43755,
          32.230995,
          27.303865,
          54.861111,
          48.982651,
          43.068897,
          45.736748,
          49.653503,
          47.173229,
          81.642914,
          45.466282,
          39.011898,
          44.375519,
          41.904308,
          49.524113
         ],
         "yaxis": "y3"
        }
       ],
       "layout": {
        "annotations": [
         {
          "font": {
           "size": 16
          },
          "showarrow": false,
          "text": "chocolate",
          "x": 0.13333333333333333,
          "xanchor": "center",
          "xref": "paper",
          "y": 1,
          "yanchor": "bottom",
          "yref": "paper"
         },
         {
          "font": {
           "size": 16
          },
          "showarrow": false,
          "text": "caramel",
          "x": 0.5,
          "xanchor": "center",
          "xref": "paper",
          "y": 1,
          "yanchor": "bottom",
          "yref": "paper"
         },
         {
          "font": {
           "size": 16
          },
          "showarrow": false,
          "text": "peanutyalmondy",
          "x": 0.8666666666666667,
          "xanchor": "center",
          "xref": "paper",
          "y": 1,
          "yanchor": "bottom",
          "yref": "paper"
         }
        ],
        "font": {
         "color": "white"
        },
        "height": 600,
        "legend": {
         "title": {
          "font": {
           "size": 16
          },
          "text": "<b>product ingredients</b>"
         }
        },
        "paper_bgcolor": "rgba(0,0,0,0)",
        "plot_bgcolor": "rgba(0,0,0,0)",
        "template": {
         "data": {
          "bar": [
           {
            "error_x": {
             "color": "#2a3f5f"
            },
            "error_y": {
             "color": "#2a3f5f"
            },
            "marker": {
             "line": {
              "color": "#E5ECF6",
              "width": 0.5
             },
             "pattern": {
              "fillmode": "overlay",
              "size": 10,
              "solidity": 0.2
             }
            },
            "type": "bar"
           }
          ],
          "barpolar": [
           {
            "marker": {
             "line": {
              "color": "#E5ECF6",
              "width": 0.5
             },
             "pattern": {
              "fillmode": "overlay",
              "size": 10,
              "solidity": 0.2
             }
            },
            "type": "barpolar"
           }
          ],
          "carpet": [
           {
            "aaxis": {
             "endlinecolor": "#2a3f5f",
             "gridcolor": "white",
             "linecolor": "white",
             "minorgridcolor": "white",
             "startlinecolor": "#2a3f5f"
            },
            "baxis": {
             "endlinecolor": "#2a3f5f",
             "gridcolor": "white",
             "linecolor": "white",
             "minorgridcolor": "white",
             "startlinecolor": "#2a3f5f"
            },
            "type": "carpet"
           }
          ],
          "choropleth": [
           {
            "colorbar": {
             "outlinewidth": 0,
             "ticks": ""
            },
            "type": "choropleth"
           }
          ],
          "contour": [
           {
            "colorbar": {
             "outlinewidth": 0,
             "ticks": ""
            },
            "colorscale": [
             [
              0,
              "#0d0887"
             ],
             [
              0.1111111111111111,
              "#46039f"
             ],
             [
              0.2222222222222222,
              "#7201a8"
             ],
             [
              0.3333333333333333,
              "#9c179e"
             ],
             [
              0.4444444444444444,
              "#bd3786"
             ],
             [
              0.5555555555555556,
              "#d8576b"
             ],
             [
              0.6666666666666666,
              "#ed7953"
             ],
             [
              0.7777777777777778,
              "#fb9f3a"
             ],
             [
              0.8888888888888888,
              "#fdca26"
             ],
             [
              1,
              "#f0f921"
             ]
            ],
            "type": "contour"
           }
          ],
          "contourcarpet": [
           {
            "colorbar": {
             "outlinewidth": 0,
             "ticks": ""
            },
            "type": "contourcarpet"
           }
          ],
          "heatmap": [
           {
            "colorbar": {
             "outlinewidth": 0,
             "ticks": ""
            },
            "colorscale": [
             [
              0,
              "#0d0887"
             ],
             [
              0.1111111111111111,
              "#46039f"
             ],
             [
              0.2222222222222222,
              "#7201a8"
             ],
             [
              0.3333333333333333,
              "#9c179e"
             ],
             [
              0.4444444444444444,
              "#bd3786"
             ],
             [
              0.5555555555555556,
              "#d8576b"
             ],
             [
              0.6666666666666666,
              "#ed7953"
             ],
             [
              0.7777777777777778,
              "#fb9f3a"
             ],
             [
              0.8888888888888888,
              "#fdca26"
             ],
             [
              1,
              "#f0f921"
             ]
            ],
            "type": "heatmap"
           }
          ],
          "heatmapgl": [
           {
            "colorbar": {
             "outlinewidth": 0,
             "ticks": ""
            },
            "colorscale": [
             [
              0,
              "#0d0887"
             ],
             [
              0.1111111111111111,
              "#46039f"
             ],
             [
              0.2222222222222222,
              "#7201a8"
             ],
             [
              0.3333333333333333,
              "#9c179e"
             ],
             [
              0.4444444444444444,
              "#bd3786"
             ],
             [
              0.5555555555555556,
              "#d8576b"
             ],
             [
              0.6666666666666666,
              "#ed7953"
             ],
             [
              0.7777777777777778,
              "#fb9f3a"
             ],
             [
              0.8888888888888888,
              "#fdca26"
             ],
             [
              1,
              "#f0f921"
             ]
            ],
            "type": "heatmapgl"
           }
          ],
          "histogram": [
           {
            "marker": {
             "pattern": {
              "fillmode": "overlay",
              "size": 10,
              "solidity": 0.2
             }
            },
            "type": "histogram"
           }
          ],
          "histogram2d": [
           {
            "colorbar": {
             "outlinewidth": 0,
             "ticks": ""
            },
            "colorscale": [
             [
              0,
              "#0d0887"
             ],
             [
              0.1111111111111111,
              "#46039f"
             ],
             [
              0.2222222222222222,
              "#7201a8"
             ],
             [
              0.3333333333333333,
              "#9c179e"
             ],
             [
              0.4444444444444444,
              "#bd3786"
             ],
             [
              0.5555555555555556,
              "#d8576b"
             ],
             [
              0.6666666666666666,
              "#ed7953"
             ],
             [
              0.7777777777777778,
              "#fb9f3a"
             ],
             [
              0.8888888888888888,
              "#fdca26"
             ],
             [
              1,
              "#f0f921"
             ]
            ],
            "type": "histogram2d"
           }
          ],
          "histogram2dcontour": [
           {
            "colorbar": {
             "outlinewidth": 0,
             "ticks": ""
            },
            "colorscale": [
             [
              0,
              "#0d0887"
             ],
             [
              0.1111111111111111,
              "#46039f"
             ],
             [
              0.2222222222222222,
              "#7201a8"
             ],
             [
              0.3333333333333333,
              "#9c179e"
             ],
             [
              0.4444444444444444,
              "#bd3786"
             ],
             [
              0.5555555555555556,
              "#d8576b"
             ],
             [
              0.6666666666666666,
              "#ed7953"
             ],
             [
              0.7777777777777778,
              "#fb9f3a"
             ],
             [
              0.8888888888888888,
              "#fdca26"
             ],
             [
              1,
              "#f0f921"
             ]
            ],
            "type": "histogram2dcontour"
           }
          ],
          "mesh3d": [
           {
            "colorbar": {
             "outlinewidth": 0,
             "ticks": ""
            },
            "type": "mesh3d"
           }
          ],
          "parcoords": [
           {
            "line": {
             "colorbar": {
              "outlinewidth": 0,
              "ticks": ""
             }
            },
            "type": "parcoords"
           }
          ],
          "pie": [
           {
            "automargin": true,
            "type": "pie"
           }
          ],
          "scatter": [
           {
            "fillpattern": {
             "fillmode": "overlay",
             "size": 10,
             "solidity": 0.2
            },
            "type": "scatter"
           }
          ],
          "scatter3d": [
           {
            "line": {
             "colorbar": {
              "outlinewidth": 0,
              "ticks": ""
             }
            },
            "marker": {
             "colorbar": {
              "outlinewidth": 0,
              "ticks": ""
             }
            },
            "type": "scatter3d"
           }
          ],
          "scattercarpet": [
           {
            "marker": {
             "colorbar": {
              "outlinewidth": 0,
              "ticks": ""
             }
            },
            "type": "scattercarpet"
           }
          ],
          "scattergeo": [
           {
            "marker": {
             "colorbar": {
              "outlinewidth": 0,
              "ticks": ""
             }
            },
            "type": "scattergeo"
           }
          ],
          "scattergl": [
           {
            "marker": {
             "colorbar": {
              "outlinewidth": 0,
              "ticks": ""
             }
            },
            "type": "scattergl"
           }
          ],
          "scattermapbox": [
           {
            "marker": {
             "colorbar": {
              "outlinewidth": 0,
              "ticks": ""
             }
            },
            "type": "scattermapbox"
           }
          ],
          "scatterpolar": [
           {
            "marker": {
             "colorbar": {
              "outlinewidth": 0,
              "ticks": ""
             }
            },
            "type": "scatterpolar"
           }
          ],
          "scatterpolargl": [
           {
            "marker": {
             "colorbar": {
              "outlinewidth": 0,
              "ticks": ""
             }
            },
            "type": "scatterpolargl"
           }
          ],
          "scatterternary": [
           {
            "marker": {
             "colorbar": {
              "outlinewidth": 0,
              "ticks": ""
             }
            },
            "type": "scatterternary"
           }
          ],
          "surface": [
           {
            "colorbar": {
             "outlinewidth": 0,
             "ticks": ""
            },
            "colorscale": [
             [
              0,
              "#0d0887"
             ],
             [
              0.1111111111111111,
              "#46039f"
             ],
             [
              0.2222222222222222,
              "#7201a8"
             ],
             [
              0.3333333333333333,
              "#9c179e"
             ],
             [
              0.4444444444444444,
              "#bd3786"
             ],
             [
              0.5555555555555556,
              "#d8576b"
             ],
             [
              0.6666666666666666,
              "#ed7953"
             ],
             [
              0.7777777777777778,
              "#fb9f3a"
             ],
             [
              0.8888888888888888,
              "#fdca26"
             ],
             [
              1,
              "#f0f921"
             ]
            ],
            "type": "surface"
           }
          ],
          "table": [
           {
            "cells": {
             "fill": {
              "color": "#EBF0F8"
             },
             "line": {
              "color": "white"
             }
            },
            "header": {
             "fill": {
              "color": "#C8D4E3"
             },
             "line": {
              "color": "white"
             }
            },
            "type": "table"
           }
          ]
         },
         "layout": {
          "annotationdefaults": {
           "arrowcolor": "#2a3f5f",
           "arrowhead": 0,
           "arrowwidth": 1
          },
          "autotypenumbers": "strict",
          "coloraxis": {
           "colorbar": {
            "outlinewidth": 0,
            "ticks": ""
           }
          },
          "colorscale": {
           "diverging": [
            [
             0,
             "#8e0152"
            ],
            [
             0.1,
             "#c51b7d"
            ],
            [
             0.2,
             "#de77ae"
            ],
            [
             0.3,
             "#f1b6da"
            ],
            [
             0.4,
             "#fde0ef"
            ],
            [
             0.5,
             "#f7f7f7"
            ],
            [
             0.6,
             "#e6f5d0"
            ],
            [
             0.7,
             "#b8e186"
            ],
            [
             0.8,
             "#7fbc41"
            ],
            [
             0.9,
             "#4d9221"
            ],
            [
             1,
             "#276419"
            ]
           ],
           "sequential": [
            [
             0,
             "#0d0887"
            ],
            [
             0.1111111111111111,
             "#46039f"
            ],
            [
             0.2222222222222222,
             "#7201a8"
            ],
            [
             0.3333333333333333,
             "#9c179e"
            ],
            [
             0.4444444444444444,
             "#bd3786"
            ],
            [
             0.5555555555555556,
             "#d8576b"
            ],
            [
             0.6666666666666666,
             "#ed7953"
            ],
            [
             0.7777777777777778,
             "#fb9f3a"
            ],
            [
             0.8888888888888888,
             "#fdca26"
            ],
            [
             1,
             "#f0f921"
            ]
           ],
           "sequentialminus": [
            [
             0,
             "#0d0887"
            ],
            [
             0.1111111111111111,
             "#46039f"
            ],
            [
             0.2222222222222222,
             "#7201a8"
            ],
            [
             0.3333333333333333,
             "#9c179e"
            ],
            [
             0.4444444444444444,
             "#bd3786"
            ],
            [
             0.5555555555555556,
             "#d8576b"
            ],
            [
             0.6666666666666666,
             "#ed7953"
            ],
            [
             0.7777777777777778,
             "#fb9f3a"
            ],
            [
             0.8888888888888888,
             "#fdca26"
            ],
            [
             1,
             "#f0f921"
            ]
           ]
          },
          "colorway": [
           "#636efa",
           "#EF553B",
           "#00cc96",
           "#ab63fa",
           "#FFA15A",
           "#19d3f3",
           "#FF6692",
           "#B6E880",
           "#FF97FF",
           "#FECB52"
          ],
          "font": {
           "color": "#2a3f5f"
          },
          "geo": {
           "bgcolor": "white",
           "lakecolor": "white",
           "landcolor": "#E5ECF6",
           "showlakes": true,
           "showland": true,
           "subunitcolor": "white"
          },
          "hoverlabel": {
           "align": "left"
          },
          "hovermode": "closest",
          "mapbox": {
           "style": "light"
          },
          "paper_bgcolor": "white",
          "plot_bgcolor": "#E5ECF6",
          "polar": {
           "angularaxis": {
            "gridcolor": "white",
            "linecolor": "white",
            "ticks": ""
           },
           "bgcolor": "#E5ECF6",
           "radialaxis": {
            "gridcolor": "white",
            "linecolor": "white",
            "ticks": ""
           }
          },
          "scene": {
           "xaxis": {
            "backgroundcolor": "#E5ECF6",
            "gridcolor": "white",
            "gridwidth": 2,
            "linecolor": "white",
            "showbackground": true,
            "ticks": "",
            "zerolinecolor": "white"
           },
           "yaxis": {
            "backgroundcolor": "#E5ECF6",
            "gridcolor": "white",
            "gridwidth": 2,
            "linecolor": "white",
            "showbackground": true,
            "ticks": "",
            "zerolinecolor": "white"
           },
           "zaxis": {
            "backgroundcolor": "#E5ECF6",
            "gridcolor": "white",
            "gridwidth": 2,
            "linecolor": "white",
            "showbackground": true,
            "ticks": "",
            "zerolinecolor": "white"
           }
          },
          "shapedefaults": {
           "line": {
            "color": "#2a3f5f"
           }
          },
          "ternary": {
           "aaxis": {
            "gridcolor": "white",
            "linecolor": "white",
            "ticks": ""
           },
           "baxis": {
            "gridcolor": "white",
            "linecolor": "white",
            "ticks": ""
           },
           "bgcolor": "#E5ECF6",
           "caxis": {
            "gridcolor": "white",
            "linecolor": "white",
            "ticks": ""
           }
          },
          "title": {
           "x": 0.05
          },
          "xaxis": {
           "automargin": true,
           "gridcolor": "white",
           "linecolor": "white",
           "ticks": "",
           "title": {
            "standoff": 15
           },
           "zerolinecolor": "white",
           "zerolinewidth": 2
          },
          "yaxis": {
           "automargin": true,
           "gridcolor": "white",
           "linecolor": "white",
           "ticks": "",
           "title": {
            "standoff": 15
           },
           "zerolinecolor": "white",
           "zerolinewidth": 2
          }
         }
        },
        "title": {
         "font": {
          "size": 20
         },
         "text": "<b>GOOD CHARACTERISTICS<b>",
         "x": 0.475,
         "xanchor": "center",
         "y": 0.955,
         "yanchor": "top"
        },
        "xaxis": {
         "anchor": "y",
         "domain": [
          0,
          0.26666666666666666
         ]
        },
        "xaxis2": {
         "anchor": "y2",
         "domain": [
          0.3666666666666667,
          0.6333333333333333
         ],
         "title": {
          "font": {
           "size": 14
          },
          "text": "<b>product ingredients</b>"
         }
        },
        "xaxis3": {
         "anchor": "y3",
         "domain": [
          0.7333333333333334,
          1
         ]
        },
        "yaxis": {
         "anchor": "x",
         "domain": [
          0,
          1
         ],
         "title": {
          "font": {
           "size": 14
          },
          "text": "<b>winpercent %</b>"
         }
        },
        "yaxis2": {
         "anchor": "x2",
         "domain": [
          0,
          1
         ]
        },
        "yaxis3": {
         "anchor": "x3",
         "domain": [
          0,
          1
         ]
        }
       }
      }
     },
     "metadata": {},
     "output_type": "display_data"
    }
   ],
   "source": [
    "fig_box = make_subplots(cols=3, rows= 1, horizontal_spacing= 0.1, subplot_titles= (\"chocolate\", \"caramel\", \"peanutyalmondy\"))\n",
    "\n",
    "\n",
    "fig_box.add_trace(\n",
    " go.Box(\n",
    "      name= f\"chocolate\",\n",
    "      x= df.chocolate,\n",
    "      y= df.winpercent,\n",
    "      boxpoints= \"outliers\",\n",
    "      line= dict(width= 1),\n",
    "      marker= dict(size=2, color= \"white\"),\n",
    "      jitter= 0.5,\n",
    "      whiskerwidth=0.2,\n",
    "      fillcolor = px.colors.sequential.speed[7],\n",
    "      hoveron = \"boxes+points\",\n",
    " ),\n",
    " col= 1,\n",
    " row= 1\n",
    ")\n",
    "\n",
    "fig_box.add_trace(\n",
    " go.Box(\n",
    "      name= f\"caramel\",\n",
    "      x= df.caramel,\n",
    "      y= df.winpercent,\n",
    "      boxpoints= \"outliers\",\n",
    "      line= dict(width= 1),\n",
    "      marker= dict(size=2, color= \"white\"),\n",
    "      jitter= 0.5,\n",
    "      whiskerwidth=0.2,\n",
    "      fillcolor = px.colors.sequential.speed[6],\n",
    "      hoveron = \"boxes+points\",\n",
    " ),\n",
    " col= 2, \n",
    " row= 1\n",
    ")\n",
    "\n",
    "fig_box.add_trace(\n",
    " go.Box(\n",
    "      name= f\"peanutyalmondy\",\n",
    "      x= df.peanutyalmondy,\n",
    "      y= df.winpercent,\n",
    "      boxpoints= \"outliers\",\n",
    "      line= dict(width= 1),\n",
    "      marker= dict(size=2, color= \"white\"),\n",
    "      jitter= 0.5,\n",
    "      whiskerwidth=0.2,\n",
    "      fillcolor = px.colors.sequential.speed[8],\n",
    "      hoveron = \"boxes+points\",\n",
    " ),\n",
    " col= 3, \n",
    " row= 1\n",
    ")\n",
    "\n",
    "fig_box.update_layout(\n",
    "     title= dict(text= \"<b>GOOD CHARACTERISTICS<b>\",font_size= 20, xanchor= \"center\", yanchor= \"top\", y=0.955, x=0.475),\n",
    "     height= 600,\n",
    "     legend_title_text= \"<b>product ingredients</b>\",\n",
    "     legend_title_font_size= 16,\n",
    "     paper_bgcolor='rgba(0,0,0,0)',\n",
    "     plot_bgcolor='rgba(0,0,0,0)',\n",
    "     font= dict(color= \"white\")\n",
    ")\n",
    "\n",
    "fig_box.update_yaxes(title_text=\"<b>winpercent %</b>\", title_font= dict(size= 14), col=1, row=1)\n",
    "fig_box.update_xaxes(title_text=\"<b>product ingredients</b>\", title_font= dict(size= 14), col=2, row= 1)\n",
    "fig_box.show()"
   ]
  },
  {
   "cell_type": "code",
   "execution_count": 109,
   "metadata": {},
   "outputs": [
    {
     "data": {
      "application/vnd.plotly.v1+json": {
       "config": {
        "plotlyServerURL": "https://plot.ly"
       },
       "data": [
        {
         "boxpoints": "outliers",
         "fillcolor": "rgb(149, 19, 39)",
         "hoveron": "boxes+points",
         "jitter": 0.5,
         "line": {
          "width": 1
         },
         "marker": {
          "color": "white",
          "size": 2
         },
         "name": "fruity",
         "type": "box",
         "whiskerwidth": 0.2,
         "x": [
          0,
          0,
          0,
          0,
          1,
          0,
          0,
          0,
          0,
          1,
          0,
          1,
          1,
          1,
          1,
          1,
          1,
          1,
          1,
          0,
          1,
          1,
          0,
          0,
          0,
          0,
          1,
          0,
          0,
          1,
          1,
          1,
          0,
          0,
          1,
          0,
          0,
          0,
          0,
          0,
          0,
          1,
          0,
          0,
          1,
          1,
          0,
          0,
          0,
          1,
          1,
          0,
          0,
          0,
          0,
          1,
          0,
          0,
          1,
          0,
          1,
          1,
          0,
          1,
          0,
          0,
          1,
          1,
          1,
          1,
          0,
          0,
          1,
          1,
          1,
          0,
          0,
          0,
          1,
          0,
          1,
          1,
          1,
          0,
          0
         ],
         "xaxis": "x",
         "y": [
          66.971725,
          67.602936,
          32.261086,
          46.116505,
          52.341465,
          50.347546,
          56.914547,
          23.417824,
          38.010963,
          34.517681,
          38.975037,
          36.017628,
          24.524988,
          42.272076,
          39.460556,
          43.088924,
          39.185505,
          46.783348,
          57.11974,
          34.158958,
          51.41243,
          42.178772,
          55.375454,
          62.284481,
          56.490501,
          59.236122,
          28.127439,
          57.21925,
          76.7686,
          41.389557,
          39.141056,
          52.911392,
          71.46505,
          66.574585,
          46.411716,
          55.064072,
          73.099556,
          60.800701,
          64.35334,
          47.829754,
          54.526451,
          55.354046,
          70.735641,
          66.47068,
          22.445341,
          39.4468,
          46.296597,
          69.483788,
          37.722336,
          41.265511,
          37.348522,
          81.866257,
          84.18029,
          73.43499,
          72.887901,
          35.290756,
          65.716286,
          29.703691,
          42.849144,
          34.722,
          63.08514,
          55.103695,
          37.887188,
          45.995827,
          76.673782,
          59.529251,
          59.863998,
          52.825947,
          67.037628,
          34.578991,
          33.43755,
          32.230995,
          27.303865,
          54.861111,
          48.982651,
          43.068897,
          45.736748,
          49.653503,
          47.173229,
          81.642914,
          45.466282,
          39.011898,
          44.375519,
          41.904308,
          49.524113
         ],
         "yaxis": "y"
        },
        {
         "boxpoints": "outliers",
         "fillcolor": "rgb(172, 44, 36)",
         "hoveron": "boxes+points",
         "jitter": 0.5,
         "line": {
          "width": 1
         },
         "marker": {
          "color": "white",
          "size": 2
         },
         "name": "hard",
         "type": "box",
         "whiskerwidth": 0.2,
         "x": [
          0,
          0,
          0,
          0,
          0,
          0,
          0,
          0,
          0,
          0,
          0,
          0,
          0,
          0,
          1,
          0,
          1,
          1,
          0,
          0,
          0,
          0,
          0,
          0,
          0,
          0,
          1,
          0,
          0,
          0,
          1,
          0,
          0,
          0,
          0,
          0,
          0,
          0,
          0,
          0,
          0,
          1,
          0,
          0,
          0,
          0,
          0,
          0,
          0,
          1,
          0,
          0,
          0,
          0,
          0,
          1,
          0,
          1,
          1,
          0,
          0,
          0,
          0,
          1,
          0,
          0,
          0,
          0,
          0,
          1,
          0,
          0,
          0,
          0,
          1,
          0,
          0,
          0,
          0,
          0,
          0,
          1,
          0,
          1,
          0
         ],
         "xaxis": "x2",
         "y": [
          66.971725,
          67.602936,
          32.261086,
          46.116505,
          52.341465,
          50.347546,
          56.914547,
          23.417824,
          38.010963,
          34.517681,
          38.975037,
          36.017628,
          24.524988,
          42.272076,
          39.460556,
          43.088924,
          39.185505,
          46.783348,
          57.11974,
          34.158958,
          51.41243,
          42.178772,
          55.375454,
          62.284481,
          56.490501,
          59.236122,
          28.127439,
          57.21925,
          76.7686,
          41.389557,
          39.141056,
          52.911392,
          71.46505,
          66.574585,
          46.411716,
          55.064072,
          73.099556,
          60.800701,
          64.35334,
          47.829754,
          54.526451,
          55.354046,
          70.735641,
          66.47068,
          22.445341,
          39.4468,
          46.296597,
          69.483788,
          37.722336,
          41.265511,
          37.348522,
          81.866257,
          84.18029,
          73.43499,
          72.887901,
          35.290756,
          65.716286,
          29.703691,
          42.849144,
          34.722,
          63.08514,
          55.103695,
          37.887188,
          45.995827,
          76.673782,
          59.529251,
          59.863998,
          52.825947,
          67.037628,
          34.578991,
          33.43755,
          32.230995,
          27.303865,
          54.861111,
          48.982651,
          43.068897,
          45.736748,
          49.653503,
          47.173229,
          81.642914,
          45.466282,
          39.011898,
          44.375519,
          41.904308,
          49.524113
         ],
         "yaxis": "y2"
        },
        {
         "boxpoints": "outliers",
         "fillcolor": "rgb(186, 74, 47)",
         "hoveron": "boxes+points",
         "jitter": 0.5,
         "line": {
          "width": 1
         },
         "marker": {
          "color": "white",
          "size": 2
         },
         "name": "pluribus",
         "type": "box",
         "whiskerwidth": 0.2,
         "x": [
          0,
          0,
          0,
          0,
          0,
          0,
          0,
          1,
          1,
          0,
          0,
          1,
          1,
          1,
          0,
          1,
          0,
          1,
          1,
          1,
          1,
          1,
          1,
          0,
          0,
          0,
          1,
          1,
          0,
          0,
          0,
          0,
          1,
          1,
          1,
          1,
          0,
          0,
          0,
          0,
          0,
          1,
          0,
          0,
          1,
          1,
          0,
          1,
          1,
          1,
          1,
          0,
          0,
          1,
          0,
          0,
          1,
          1,
          1,
          1,
          1,
          1,
          1,
          1,
          0,
          0,
          1,
          1,
          1,
          1,
          1,
          0,
          0,
          1,
          0,
          0,
          1,
          0,
          1,
          0,
          0,
          0,
          1,
          0,
          1
         ],
         "xaxis": "x3",
         "y": [
          66.971725,
          67.602936,
          32.261086,
          46.116505,
          52.341465,
          50.347546,
          56.914547,
          23.417824,
          38.010963,
          34.517681,
          38.975037,
          36.017628,
          24.524988,
          42.272076,
          39.460556,
          43.088924,
          39.185505,
          46.783348,
          57.11974,
          34.158958,
          51.41243,
          42.178772,
          55.375454,
          62.284481,
          56.490501,
          59.236122,
          28.127439,
          57.21925,
          76.7686,
          41.389557,
          39.141056,
          52.911392,
          71.46505,
          66.574585,
          46.411716,
          55.064072,
          73.099556,
          60.800701,
          64.35334,
          47.829754,
          54.526451,
          55.354046,
          70.735641,
          66.47068,
          22.445341,
          39.4468,
          46.296597,
          69.483788,
          37.722336,
          41.265511,
          37.348522,
          81.866257,
          84.18029,
          73.43499,
          72.887901,
          35.290756,
          65.716286,
          29.703691,
          42.849144,
          34.722,
          63.08514,
          55.103695,
          37.887188,
          45.995827,
          76.673782,
          59.529251,
          59.863998,
          52.825947,
          67.037628,
          34.578991,
          33.43755,
          32.230995,
          27.303865,
          54.861111,
          48.982651,
          43.068897,
          45.736748,
          49.653503,
          47.173229,
          81.642914,
          45.466282,
          39.011898,
          44.375519,
          41.904308,
          49.524113
         ],
         "yaxis": "y3"
        }
       ],
       "layout": {
        "annotations": [
         {
          "font": {
           "size": 16
          },
          "showarrow": false,
          "text": "fruity",
          "x": 0.13333333333333333,
          "xanchor": "center",
          "xref": "paper",
          "y": 1,
          "yanchor": "bottom",
          "yref": "paper"
         },
         {
          "font": {
           "size": 16
          },
          "showarrow": false,
          "text": "hard",
          "x": 0.5,
          "xanchor": "center",
          "xref": "paper",
          "y": 1,
          "yanchor": "bottom",
          "yref": "paper"
         },
         {
          "font": {
           "size": 16
          },
          "showarrow": false,
          "text": "pluribus",
          "x": 0.8666666666666667,
          "xanchor": "center",
          "xref": "paper",
          "y": 1,
          "yanchor": "bottom",
          "yref": "paper"
         }
        ],
        "font": {
         "color": "white"
        },
        "height": 600,
        "legend": {
         "title": {
          "font": {
           "size": 16
          },
          "text": "<b>product ingredients</b>"
         }
        },
        "paper_bgcolor": "rgba(0,0,0,0)",
        "plot_bgcolor": "rgba(0,0,0,0)",
        "template": {
         "data": {
          "bar": [
           {
            "error_x": {
             "color": "#2a3f5f"
            },
            "error_y": {
             "color": "#2a3f5f"
            },
            "marker": {
             "line": {
              "color": "#E5ECF6",
              "width": 0.5
             },
             "pattern": {
              "fillmode": "overlay",
              "size": 10,
              "solidity": 0.2
             }
            },
            "type": "bar"
           }
          ],
          "barpolar": [
           {
            "marker": {
             "line": {
              "color": "#E5ECF6",
              "width": 0.5
             },
             "pattern": {
              "fillmode": "overlay",
              "size": 10,
              "solidity": 0.2
             }
            },
            "type": "barpolar"
           }
          ],
          "carpet": [
           {
            "aaxis": {
             "endlinecolor": "#2a3f5f",
             "gridcolor": "white",
             "linecolor": "white",
             "minorgridcolor": "white",
             "startlinecolor": "#2a3f5f"
            },
            "baxis": {
             "endlinecolor": "#2a3f5f",
             "gridcolor": "white",
             "linecolor": "white",
             "minorgridcolor": "white",
             "startlinecolor": "#2a3f5f"
            },
            "type": "carpet"
           }
          ],
          "choropleth": [
           {
            "colorbar": {
             "outlinewidth": 0,
             "ticks": ""
            },
            "type": "choropleth"
           }
          ],
          "contour": [
           {
            "colorbar": {
             "outlinewidth": 0,
             "ticks": ""
            },
            "colorscale": [
             [
              0,
              "#0d0887"
             ],
             [
              0.1111111111111111,
              "#46039f"
             ],
             [
              0.2222222222222222,
              "#7201a8"
             ],
             [
              0.3333333333333333,
              "#9c179e"
             ],
             [
              0.4444444444444444,
              "#bd3786"
             ],
             [
              0.5555555555555556,
              "#d8576b"
             ],
             [
              0.6666666666666666,
              "#ed7953"
             ],
             [
              0.7777777777777778,
              "#fb9f3a"
             ],
             [
              0.8888888888888888,
              "#fdca26"
             ],
             [
              1,
              "#f0f921"
             ]
            ],
            "type": "contour"
           }
          ],
          "contourcarpet": [
           {
            "colorbar": {
             "outlinewidth": 0,
             "ticks": ""
            },
            "type": "contourcarpet"
           }
          ],
          "heatmap": [
           {
            "colorbar": {
             "outlinewidth": 0,
             "ticks": ""
            },
            "colorscale": [
             [
              0,
              "#0d0887"
             ],
             [
              0.1111111111111111,
              "#46039f"
             ],
             [
              0.2222222222222222,
              "#7201a8"
             ],
             [
              0.3333333333333333,
              "#9c179e"
             ],
             [
              0.4444444444444444,
              "#bd3786"
             ],
             [
              0.5555555555555556,
              "#d8576b"
             ],
             [
              0.6666666666666666,
              "#ed7953"
             ],
             [
              0.7777777777777778,
              "#fb9f3a"
             ],
             [
              0.8888888888888888,
              "#fdca26"
             ],
             [
              1,
              "#f0f921"
             ]
            ],
            "type": "heatmap"
           }
          ],
          "heatmapgl": [
           {
            "colorbar": {
             "outlinewidth": 0,
             "ticks": ""
            },
            "colorscale": [
             [
              0,
              "#0d0887"
             ],
             [
              0.1111111111111111,
              "#46039f"
             ],
             [
              0.2222222222222222,
              "#7201a8"
             ],
             [
              0.3333333333333333,
              "#9c179e"
             ],
             [
              0.4444444444444444,
              "#bd3786"
             ],
             [
              0.5555555555555556,
              "#d8576b"
             ],
             [
              0.6666666666666666,
              "#ed7953"
             ],
             [
              0.7777777777777778,
              "#fb9f3a"
             ],
             [
              0.8888888888888888,
              "#fdca26"
             ],
             [
              1,
              "#f0f921"
             ]
            ],
            "type": "heatmapgl"
           }
          ],
          "histogram": [
           {
            "marker": {
             "pattern": {
              "fillmode": "overlay",
              "size": 10,
              "solidity": 0.2
             }
            },
            "type": "histogram"
           }
          ],
          "histogram2d": [
           {
            "colorbar": {
             "outlinewidth": 0,
             "ticks": ""
            },
            "colorscale": [
             [
              0,
              "#0d0887"
             ],
             [
              0.1111111111111111,
              "#46039f"
             ],
             [
              0.2222222222222222,
              "#7201a8"
             ],
             [
              0.3333333333333333,
              "#9c179e"
             ],
             [
              0.4444444444444444,
              "#bd3786"
             ],
             [
              0.5555555555555556,
              "#d8576b"
             ],
             [
              0.6666666666666666,
              "#ed7953"
             ],
             [
              0.7777777777777778,
              "#fb9f3a"
             ],
             [
              0.8888888888888888,
              "#fdca26"
             ],
             [
              1,
              "#f0f921"
             ]
            ],
            "type": "histogram2d"
           }
          ],
          "histogram2dcontour": [
           {
            "colorbar": {
             "outlinewidth": 0,
             "ticks": ""
            },
            "colorscale": [
             [
              0,
              "#0d0887"
             ],
             [
              0.1111111111111111,
              "#46039f"
             ],
             [
              0.2222222222222222,
              "#7201a8"
             ],
             [
              0.3333333333333333,
              "#9c179e"
             ],
             [
              0.4444444444444444,
              "#bd3786"
             ],
             [
              0.5555555555555556,
              "#d8576b"
             ],
             [
              0.6666666666666666,
              "#ed7953"
             ],
             [
              0.7777777777777778,
              "#fb9f3a"
             ],
             [
              0.8888888888888888,
              "#fdca26"
             ],
             [
              1,
              "#f0f921"
             ]
            ],
            "type": "histogram2dcontour"
           }
          ],
          "mesh3d": [
           {
            "colorbar": {
             "outlinewidth": 0,
             "ticks": ""
            },
            "type": "mesh3d"
           }
          ],
          "parcoords": [
           {
            "line": {
             "colorbar": {
              "outlinewidth": 0,
              "ticks": ""
             }
            },
            "type": "parcoords"
           }
          ],
          "pie": [
           {
            "automargin": true,
            "type": "pie"
           }
          ],
          "scatter": [
           {
            "fillpattern": {
             "fillmode": "overlay",
             "size": 10,
             "solidity": 0.2
            },
            "type": "scatter"
           }
          ],
          "scatter3d": [
           {
            "line": {
             "colorbar": {
              "outlinewidth": 0,
              "ticks": ""
             }
            },
            "marker": {
             "colorbar": {
              "outlinewidth": 0,
              "ticks": ""
             }
            },
            "type": "scatter3d"
           }
          ],
          "scattercarpet": [
           {
            "marker": {
             "colorbar": {
              "outlinewidth": 0,
              "ticks": ""
             }
            },
            "type": "scattercarpet"
           }
          ],
          "scattergeo": [
           {
            "marker": {
             "colorbar": {
              "outlinewidth": 0,
              "ticks": ""
             }
            },
            "type": "scattergeo"
           }
          ],
          "scattergl": [
           {
            "marker": {
             "colorbar": {
              "outlinewidth": 0,
              "ticks": ""
             }
            },
            "type": "scattergl"
           }
          ],
          "scattermapbox": [
           {
            "marker": {
             "colorbar": {
              "outlinewidth": 0,
              "ticks": ""
             }
            },
            "type": "scattermapbox"
           }
          ],
          "scatterpolar": [
           {
            "marker": {
             "colorbar": {
              "outlinewidth": 0,
              "ticks": ""
             }
            },
            "type": "scatterpolar"
           }
          ],
          "scatterpolargl": [
           {
            "marker": {
             "colorbar": {
              "outlinewidth": 0,
              "ticks": ""
             }
            },
            "type": "scatterpolargl"
           }
          ],
          "scatterternary": [
           {
            "marker": {
             "colorbar": {
              "outlinewidth": 0,
              "ticks": ""
             }
            },
            "type": "scatterternary"
           }
          ],
          "surface": [
           {
            "colorbar": {
             "outlinewidth": 0,
             "ticks": ""
            },
            "colorscale": [
             [
              0,
              "#0d0887"
             ],
             [
              0.1111111111111111,
              "#46039f"
             ],
             [
              0.2222222222222222,
              "#7201a8"
             ],
             [
              0.3333333333333333,
              "#9c179e"
             ],
             [
              0.4444444444444444,
              "#bd3786"
             ],
             [
              0.5555555555555556,
              "#d8576b"
             ],
             [
              0.6666666666666666,
              "#ed7953"
             ],
             [
              0.7777777777777778,
              "#fb9f3a"
             ],
             [
              0.8888888888888888,
              "#fdca26"
             ],
             [
              1,
              "#f0f921"
             ]
            ],
            "type": "surface"
           }
          ],
          "table": [
           {
            "cells": {
             "fill": {
              "color": "#EBF0F8"
             },
             "line": {
              "color": "white"
             }
            },
            "header": {
             "fill": {
              "color": "#C8D4E3"
             },
             "line": {
              "color": "white"
             }
            },
            "type": "table"
           }
          ]
         },
         "layout": {
          "annotationdefaults": {
           "arrowcolor": "#2a3f5f",
           "arrowhead": 0,
           "arrowwidth": 1
          },
          "autotypenumbers": "strict",
          "coloraxis": {
           "colorbar": {
            "outlinewidth": 0,
            "ticks": ""
           }
          },
          "colorscale": {
           "diverging": [
            [
             0,
             "#8e0152"
            ],
            [
             0.1,
             "#c51b7d"
            ],
            [
             0.2,
             "#de77ae"
            ],
            [
             0.3,
             "#f1b6da"
            ],
            [
             0.4,
             "#fde0ef"
            ],
            [
             0.5,
             "#f7f7f7"
            ],
            [
             0.6,
             "#e6f5d0"
            ],
            [
             0.7,
             "#b8e186"
            ],
            [
             0.8,
             "#7fbc41"
            ],
            [
             0.9,
             "#4d9221"
            ],
            [
             1,
             "#276419"
            ]
           ],
           "sequential": [
            [
             0,
             "#0d0887"
            ],
            [
             0.1111111111111111,
             "#46039f"
            ],
            [
             0.2222222222222222,
             "#7201a8"
            ],
            [
             0.3333333333333333,
             "#9c179e"
            ],
            [
             0.4444444444444444,
             "#bd3786"
            ],
            [
             0.5555555555555556,
             "#d8576b"
            ],
            [
             0.6666666666666666,
             "#ed7953"
            ],
            [
             0.7777777777777778,
             "#fb9f3a"
            ],
            [
             0.8888888888888888,
             "#fdca26"
            ],
            [
             1,
             "#f0f921"
            ]
           ],
           "sequentialminus": [
            [
             0,
             "#0d0887"
            ],
            [
             0.1111111111111111,
             "#46039f"
            ],
            [
             0.2222222222222222,
             "#7201a8"
            ],
            [
             0.3333333333333333,
             "#9c179e"
            ],
            [
             0.4444444444444444,
             "#bd3786"
            ],
            [
             0.5555555555555556,
             "#d8576b"
            ],
            [
             0.6666666666666666,
             "#ed7953"
            ],
            [
             0.7777777777777778,
             "#fb9f3a"
            ],
            [
             0.8888888888888888,
             "#fdca26"
            ],
            [
             1,
             "#f0f921"
            ]
           ]
          },
          "colorway": [
           "#636efa",
           "#EF553B",
           "#00cc96",
           "#ab63fa",
           "#FFA15A",
           "#19d3f3",
           "#FF6692",
           "#B6E880",
           "#FF97FF",
           "#FECB52"
          ],
          "font": {
           "color": "#2a3f5f"
          },
          "geo": {
           "bgcolor": "white",
           "lakecolor": "white",
           "landcolor": "#E5ECF6",
           "showlakes": true,
           "showland": true,
           "subunitcolor": "white"
          },
          "hoverlabel": {
           "align": "left"
          },
          "hovermode": "closest",
          "mapbox": {
           "style": "light"
          },
          "paper_bgcolor": "white",
          "plot_bgcolor": "#E5ECF6",
          "polar": {
           "angularaxis": {
            "gridcolor": "white",
            "linecolor": "white",
            "ticks": ""
           },
           "bgcolor": "#E5ECF6",
           "radialaxis": {
            "gridcolor": "white",
            "linecolor": "white",
            "ticks": ""
           }
          },
          "scene": {
           "xaxis": {
            "backgroundcolor": "#E5ECF6",
            "gridcolor": "white",
            "gridwidth": 2,
            "linecolor": "white",
            "showbackground": true,
            "ticks": "",
            "zerolinecolor": "white"
           },
           "yaxis": {
            "backgroundcolor": "#E5ECF6",
            "gridcolor": "white",
            "gridwidth": 2,
            "linecolor": "white",
            "showbackground": true,
            "ticks": "",
            "zerolinecolor": "white"
           },
           "zaxis": {
            "backgroundcolor": "#E5ECF6",
            "gridcolor": "white",
            "gridwidth": 2,
            "linecolor": "white",
            "showbackground": true,
            "ticks": "",
            "zerolinecolor": "white"
           }
          },
          "shapedefaults": {
           "line": {
            "color": "#2a3f5f"
           }
          },
          "ternary": {
           "aaxis": {
            "gridcolor": "white",
            "linecolor": "white",
            "ticks": ""
           },
           "baxis": {
            "gridcolor": "white",
            "linecolor": "white",
            "ticks": ""
           },
           "bgcolor": "#E5ECF6",
           "caxis": {
            "gridcolor": "white",
            "linecolor": "white",
            "ticks": ""
           }
          },
          "title": {
           "x": 0.05
          },
          "xaxis": {
           "automargin": true,
           "gridcolor": "white",
           "linecolor": "white",
           "ticks": "",
           "title": {
            "standoff": 15
           },
           "zerolinecolor": "white",
           "zerolinewidth": 2
          },
          "yaxis": {
           "automargin": true,
           "gridcolor": "white",
           "linecolor": "white",
           "ticks": "",
           "title": {
            "standoff": 15
           },
           "zerolinecolor": "white",
           "zerolinewidth": 2
          }
         }
        },
        "title": {
         "font": {
          "size": 20
         },
         "text": "<b>BAD CHARACTERISTICS<b>",
         "x": 0.475,
         "xanchor": "center",
         "y": 0.955,
         "yanchor": "top"
        },
        "xaxis": {
         "anchor": "y",
         "domain": [
          0,
          0.26666666666666666
         ]
        },
        "xaxis2": {
         "anchor": "y2",
         "domain": [
          0.3666666666666667,
          0.6333333333333333
         ],
         "title": {
          "font": {
           "size": 14
          },
          "text": "<b>product ingredients</b>"
         }
        },
        "xaxis3": {
         "anchor": "y3",
         "domain": [
          0.7333333333333334,
          1
         ]
        },
        "yaxis": {
         "anchor": "x",
         "domain": [
          0,
          1
         ],
         "title": {
          "font": {
           "size": 14
          },
          "text": "<b>winpercent %</b>"
         }
        },
        "yaxis2": {
         "anchor": "x2",
         "domain": [
          0,
          1
         ]
        },
        "yaxis3": {
         "anchor": "x3",
         "domain": [
          0,
          1
         ]
        }
       }
      }
     },
     "metadata": {},
     "output_type": "display_data"
    }
   ],
   "source": [
    "fig_box1 = make_subplots(cols=3, rows= 1, horizontal_spacing= 0.1, subplot_titles= (\"fruity\", \"hard\", \"pluribus\"))\n",
    "\n",
    "\n",
    "fig_box1.add_trace(\n",
    " go.Box(\n",
    "      name= f\"fruity\",\n",
    "      x= df.fruity,\n",
    "      y= df.winpercent,\n",
    "      boxpoints= \"outliers\",\n",
    "      line= dict(width= 1),\n",
    "      marker= dict(size=2, color= \"white\"),\n",
    "      jitter= 0.5,\n",
    "      whiskerwidth=0.2,\n",
    "      fillcolor = px.colors.sequential.amp[8],\n",
    "      hoveron = \"boxes+points\",\n",
    " ),\n",
    " col= 1,\n",
    " row= 1\n",
    ")\n",
    "\n",
    "fig_box1.add_trace(\n",
    " go.Box(\n",
    "      name= f\"hard\",\n",
    "      x= df.hard,\n",
    "      y= df.winpercent,\n",
    "      boxpoints= \"outliers\",\n",
    "      line= dict(width= 1),\n",
    "      marker= dict(size=2, color= \"white\"),\n",
    "      jitter= 0.5,\n",
    "      whiskerwidth=0.2,\n",
    "      fillcolor = px.colors.sequential.amp[7],\n",
    "      hoveron = \"boxes+points\",\n",
    " ),\n",
    " col= 2, \n",
    " row= 1\n",
    ")\n",
    "\n",
    "fig_box1.add_trace(\n",
    " go.Box(\n",
    "      name= f\"pluribus\",\n",
    "      x= df.pluribus,\n",
    "      y= df.winpercent,\n",
    "      boxpoints= \"outliers\",\n",
    "      line= dict(width= 1),\n",
    "      marker= dict(size=2, color= \"white\"),\n",
    "      jitter= 0.5,\n",
    "      whiskerwidth=0.2,\n",
    "      fillcolor = px.colors.sequential.amp[6],\n",
    "      hoveron = \"boxes+points\",\n",
    " ),\n",
    " col= 3, \n",
    " row= 1\n",
    ")\n",
    "\n",
    "fig_box1.update_layout(\n",
    "     title= dict(text= \"<b>BAD CHARACTERISTICS<b>\", font_size= 20, xanchor= \"center\", yanchor= \"top\", y=0.955, x=0.475),\n",
    "     height= 600,\n",
    "     legend_title_text= \"<b>product ingredients</b>\",\n",
    "     legend_title_font_size= 16,\n",
    "     paper_bgcolor='rgba(0,0,0,0)',\n",
    "     plot_bgcolor='rgba(0,0,0,0)',\n",
    "     font= dict(color= \"white\")\n",
    ")\n",
    "\n",
    "fig_box1.update_yaxes(title_text=\"<b>winpercent %</b>\", title_font= dict(size= 14), col=1, row=1)\n",
    "fig_box1.update_xaxes(title_text=\"<b>product ingredients</b>\", title_font= dict(size= 14), col=2, row= 1)\n",
    "fig_box1.show()"
   ]
  },
  {
   "attachments": {},
   "cell_type": "markdown",
   "metadata": {},
   "source": [
    "So we finally realize that the products having the characteristics chocolate, caramel, peanutyalmondy perform significantly better and products having the characteristics fruity, hard, pluribus perform significantly worse. "
   ]
  },
  {
   "attachments": {},
   "cell_type": "markdown",
   "metadata": {},
   "source": [
    "**CORRELATION**\n",
    "\n",
    "Next we look at the correlation of the attributes in the dataframe.\n",
    "For this we plot it in a heatmap."
   ]
  },
  {
   "cell_type": "code",
   "execution_count": 110,
   "metadata": {},
   "outputs": [
    {
     "data": {
      "text/plain": [
       "Text(0.5, 1.0, 'Correlation')"
      ]
     },
     "execution_count": 110,
     "metadata": {},
     "output_type": "execute_result"
    },
    {
     "data": {
      "image/png": "[encoded data removed]",
      "text/plain": [
       "<Figure size 1080x720 with 2 Axes>"
      ]
     },
     "metadata": {
      "needs_background": "light"
     },
     "output_type": "display_data"
    }
   ],
   "source": [
    "fig_corr = plt.figure(figsize= (15,10))\n",
    "sns.heatmap(df.corr(), cmap= \"Greens\", annot= True).set_title(\"Correlation\")"
   ]
  },
  {
   "attachments": {},
   "cell_type": "markdown",
   "metadata": {},
   "source": [
    "We recognize the correlation already established above between chocolate, caramel, peanutyalmondy and winpercent. Now we check their p-value to prove the significance of our observed correlation:"
   ]
  },
  {
   "cell_type": "code",
   "execution_count": 111,
   "metadata": {},
   "outputs": [
    {
     "name": "stdout",
     "output_type": "stream",
     "text": [
      "LinregressResult(slope=18.77927240540544, intercept=42.142256999999994, rvalue=0.6365167485397073, pvalue=5.859698106039011e-11, stderr=2.4976541943911545, intercept_stderr=1.6478728876096413)\n",
      "LinregressResult(slope=8.416369460764596, intercept=48.930538253521135, rvalue=0.2134162955676798, pvalue=0.049864431705954324, stderr=4.2289792318294985, intercept_stderr=1.7162877682933382)\n",
      "LinregressResult(slope=16.018756377263593, intercept=47.678380408450714, rvalue=0.40619220218098295, pvalue=0.0001147207635657216, stderr=3.955518856976342, intercept_stderr=1.6053066849763733)\n",
      "LinregressResult(slope=14.58101794717261, intercept=46.71439467187501, rvalue=0.42992932818934837, pvalue=4.0186353452792626e-05, stderr=3.361037533844676, intercept_stderr=1.6706041153961144)\n"
     ]
    }
   ],
   "source": [
    "print(linregress(df.chocolate, df.winpercent))\n",
    "print(linregress(df.caramel, df.winpercent))\n",
    "print(linregress(df.peanutyalmondy, df.winpercent))\n",
    "print(linregress(df.bar, df.winpercent))"
   ]
  },
  {
   "attachments": {},
   "cell_type": "markdown",
   "metadata": {},
   "source": [
    "**BEST COMBINATIONS**\n",
    "\n",
    "Above we have established dependecies and correlations of characteristics. We have only ever looked at these in isolation. However, these are usually present together.  Therefore, we now want to look for the best combination of these to maximize our winpercentage."
   ]
  },
  {
   "cell_type": "code",
   "execution_count": 112,
   "metadata": {},
   "outputs": [],
   "source": [
    "table1 = df.pivot_table(\n",
    " values= [\"winpercent\"],\n",
    " columns= [\"chocolate\", \"peanutyalmondy\", \"caramel\"],\n",
    " aggfunc= dict(winpercent= \"mean\")\n",
    ")\n",
    "\n",
    "table2 = df.pivot_table(\n",
    " values= [\"winpercent\"],\n",
    " columns= [\"chocolate\", \"peanutyalmondy\"],\n",
    " aggfunc= dict(winpercent= \"mean\"),\n",
    " fill_value= 0\n",
    ")\n",
    "\n",
    "table3 = df.pivot_table(\n",
    " values= [\"winpercent\"],\n",
    " columns= [\"chocolate\", \"caramel\"],\n",
    " aggfunc= dict(winpercent= \"mean\"),\n",
    " fill_value= 0\n",
    ")\n",
    "\n",
    "table4 = df.pivot_table(\n",
    " values= [\"winpercent\"],\n",
    " columns= [\"peanutyalmondy\", \"caramel\"],\n",
    " aggfunc= dict(winpercent= \"mean\"),\n",
    " fill_value= 0\n",
    ")"
   ]
  },
  {
   "cell_type": "code",
   "execution_count": 113,
   "metadata": {},
   "outputs": [
    {
     "data": {
      "text/html": [
       "<div>\n",
       "<style scoped>\n",
       "    .dataframe tbody tr th:only-of-type {\n",
       "        vertical-align: middle;\n",
       "    }\n",
       "\n",
       "    .dataframe tbody tr th {\n",
       "        vertical-align: top;\n",
       "    }\n",
       "\n",
       "    .dataframe thead tr th {\n",
       "        text-align: left;\n",
       "    }\n",
       "</style>\n",
       "<table border=\"1\" class=\"dataframe\">\n",
       "  <thead>\n",
       "    <tr>\n",
       "      <th>chocolate</th>\n",
       "      <th colspan=\"3\" halign=\"left\">0</th>\n",
       "      <th colspan=\"4\" halign=\"left\">1</th>\n",
       "    </tr>\n",
       "    <tr>\n",
       "      <th>peanutyalmondy</th>\n",
       "      <th colspan=\"2\" halign=\"left\">0</th>\n",
       "      <th>1</th>\n",
       "      <th colspan=\"2\" halign=\"left\">0</th>\n",
       "      <th colspan=\"2\" halign=\"left\">1</th>\n",
       "    </tr>\n",
       "    <tr>\n",
       "      <th>caramel</th>\n",
       "      <th>0</th>\n",
       "      <th>1</th>\n",
       "      <th>0</th>\n",
       "      <th>0</th>\n",
       "      <th>1</th>\n",
       "      <th>0</th>\n",
       "      <th>1</th>\n",
       "    </tr>\n",
       "  </thead>\n",
       "  <tbody>\n",
       "    <tr>\n",
       "      <th>winpercent</th>\n",
       "      <td>43.119604</td>\n",
       "      <td>35.522633</td>\n",
       "      <td>34.857211</td>\n",
       "      <td>53.577917</td>\n",
       "      <td>66.806942</td>\n",
       "      <td>69.880879</td>\n",
       "      <td>64.372527</td>\n",
       "    </tr>\n",
       "  </tbody>\n",
       "</table>\n",
       "</div>"
      ],
      "text/plain": [
       "chocolate               0                                1             \\\n",
       "peanutyalmondy          0                     1          0              \n",
       "caramel                 0          1          0          0          1   \n",
       "winpercent      43.119604  35.522633  34.857211  53.577917  66.806942   \n",
       "\n",
       "chocolate                             \n",
       "peanutyalmondy          1             \n",
       "caramel                 0          1  \n",
       "winpercent      69.880879  64.372527  "
      ]
     },
     "execution_count": 113,
     "metadata": {},
     "output_type": "execute_result"
    }
   ],
   "source": [
    "table1"
   ]
  },
  {
   "cell_type": "code",
   "execution_count": 114,
   "metadata": {},
   "outputs": [
    {
     "data": {
      "text/html": [
       "<div>\n",
       "<style scoped>\n",
       "    .dataframe tbody tr th:only-of-type {\n",
       "        vertical-align: middle;\n",
       "    }\n",
       "\n",
       "    .dataframe tbody tr th {\n",
       "        vertical-align: top;\n",
       "    }\n",
       "\n",
       "    .dataframe thead tr th {\n",
       "        text-align: left;\n",
       "    }\n",
       "</style>\n",
       "<table border=\"1\" class=\"dataframe\">\n",
       "  <thead>\n",
       "    <tr>\n",
       "      <th>chocolate</th>\n",
       "      <th colspan=\"2\" halign=\"left\">0</th>\n",
       "      <th colspan=\"2\" halign=\"left\">1</th>\n",
       "    </tr>\n",
       "    <tr>\n",
       "      <th>peanutyalmondy</th>\n",
       "      <th>0</th>\n",
       "      <th>1</th>\n",
       "      <th>0</th>\n",
       "      <th>1</th>\n",
       "    </tr>\n",
       "  </thead>\n",
       "  <tbody>\n",
       "    <tr>\n",
       "      <th>winpercent</th>\n",
       "      <td>42.458998</td>\n",
       "      <td>34.857211</td>\n",
       "      <td>57.282044</td>\n",
       "      <td>68.503791</td>\n",
       "    </tr>\n",
       "  </tbody>\n",
       "</table>\n",
       "</div>"
      ],
      "text/plain": [
       "chocolate               0                     1           \n",
       "peanutyalmondy          0          1          0          1\n",
       "winpercent      42.458998  34.857211  57.282044  68.503791"
      ]
     },
     "execution_count": 114,
     "metadata": {},
     "output_type": "execute_result"
    }
   ],
   "source": [
    "table2"
   ]
  },
  {
   "cell_type": "code",
   "execution_count": 115,
   "metadata": {},
   "outputs": [
    {
     "data": {
      "text/html": [
       "<div>\n",
       "<style scoped>\n",
       "    .dataframe tbody tr th:only-of-type {\n",
       "        vertical-align: middle;\n",
       "    }\n",
       "\n",
       "    .dataframe tbody tr th {\n",
       "        vertical-align: top;\n",
       "    }\n",
       "\n",
       "    .dataframe thead tr th {\n",
       "        text-align: left;\n",
       "    }\n",
       "</style>\n",
       "<table border=\"1\" class=\"dataframe\">\n",
       "  <thead>\n",
       "    <tr>\n",
       "      <th>chocolate</th>\n",
       "      <th colspan=\"2\" halign=\"left\">0</th>\n",
       "      <th colspan=\"2\" halign=\"left\">1</th>\n",
       "    </tr>\n",
       "    <tr>\n",
       "      <th>caramel</th>\n",
       "      <th>0</th>\n",
       "      <th>1</th>\n",
       "      <th>0</th>\n",
       "      <th>1</th>\n",
       "    </tr>\n",
       "  </thead>\n",
       "  <tbody>\n",
       "    <tr>\n",
       "      <th>winpercent</th>\n",
       "      <td>42.744041</td>\n",
       "      <td>35.522633</td>\n",
       "      <td>59.012238</td>\n",
       "      <td>66.076617</td>\n",
       "    </tr>\n",
       "  </tbody>\n",
       "</table>\n",
       "</div>"
      ],
      "text/plain": [
       "chocolate           0                     1           \n",
       "caramel             0          1          0          1\n",
       "winpercent  42.744041  35.522633  59.012238  66.076617"
      ]
     },
     "execution_count": 115,
     "metadata": {},
     "output_type": "execute_result"
    }
   ],
   "source": [
    "table3"
   ]
  },
  {
   "cell_type": "code",
   "execution_count": 116,
   "metadata": {},
   "outputs": [
    {
     "data": {
      "text/html": [
       "<div>\n",
       "<style scoped>\n",
       "    .dataframe tbody tr th:only-of-type {\n",
       "        vertical-align: middle;\n",
       "    }\n",
       "\n",
       "    .dataframe tbody tr th {\n",
       "        vertical-align: top;\n",
       "    }\n",
       "\n",
       "    .dataframe thead tr th {\n",
       "        text-align: left;\n",
       "    }\n",
       "</style>\n",
       "<table border=\"1\" class=\"dataframe\">\n",
       "  <thead>\n",
       "    <tr>\n",
       "      <th>peanutyalmondy</th>\n",
       "      <th colspan=\"2\" halign=\"left\">0</th>\n",
       "      <th colspan=\"2\" halign=\"left\">1</th>\n",
       "    </tr>\n",
       "    <tr>\n",
       "      <th>caramel</th>\n",
       "      <th>0</th>\n",
       "      <th>1</th>\n",
       "      <th>0</th>\n",
       "      <th>1</th>\n",
       "    </tr>\n",
       "  </thead>\n",
       "  <tbody>\n",
       "    <tr>\n",
       "      <th>winpercent</th>\n",
       "      <td>46.257098</td>\n",
       "      <td>55.43083</td>\n",
       "      <td>63.51294</td>\n",
       "      <td>64.372527</td>\n",
       "    </tr>\n",
       "  </tbody>\n",
       "</table>\n",
       "</div>"
      ],
      "text/plain": [
       "peanutyalmondy          0                   1           \n",
       "caramel                 0         1         0          1\n",
       "winpercent      46.257098  55.43083  63.51294  64.372527"
      ]
     },
     "execution_count": 116,
     "metadata": {},
     "output_type": "execute_result"
    }
   ],
   "source": [
    "table4"
   ]
  },
  {
   "cell_type": "code",
   "execution_count": 117,
   "metadata": {},
   "outputs": [
    {
     "data": {
      "text/html": [
       "<div>\n",
       "<style scoped>\n",
       "    .dataframe tbody tr th:only-of-type {\n",
       "        vertical-align: middle;\n",
       "    }\n",
       "\n",
       "    .dataframe tbody tr th {\n",
       "        vertical-align: top;\n",
       "    }\n",
       "\n",
       "    .dataframe thead tr th {\n",
       "        text-align: left;\n",
       "    }\n",
       "</style>\n",
       "<table border=\"1\" class=\"dataframe\">\n",
       "  <thead>\n",
       "    <tr>\n",
       "      <th>chocolate</th>\n",
       "      <th colspan=\"2\" halign=\"left\">0</th>\n",
       "      <th colspan=\"2\" halign=\"left\">1</th>\n",
       "      <th colspan=\"2\" halign=\"left\">0</th>\n",
       "      <th colspan=\"2\" halign=\"left\">1</th>\n",
       "      <th colspan=\"2\" halign=\"left\">0</th>\n",
       "      <th colspan=\"2\" halign=\"left\">1</th>\n",
       "    </tr>\n",
       "    <tr>\n",
       "      <th>peanutyalmondy</th>\n",
       "      <th>0</th>\n",
       "      <th>1</th>\n",
       "      <th>0</th>\n",
       "      <th>1</th>\n",
       "      <th>0</th>\n",
       "      <th>1</th>\n",
       "      <th>0</th>\n",
       "      <th>1</th>\n",
       "      <th>0</th>\n",
       "      <th>1</th>\n",
       "      <th>0</th>\n",
       "      <th>1</th>\n",
       "    </tr>\n",
       "  </thead>\n",
       "  <tbody>\n",
       "    <tr>\n",
       "      <th>winpercent</th>\n",
       "      <td>42.458998</td>\n",
       "      <td>34.857211</td>\n",
       "      <td>57.282044</td>\n",
       "      <td>68.503791</td>\n",
       "      <td>42.744041</td>\n",
       "      <td>35.522633</td>\n",
       "      <td>59.012238</td>\n",
       "      <td>66.076617</td>\n",
       "      <td>46.257098</td>\n",
       "      <td>55.43083</td>\n",
       "      <td>63.51294</td>\n",
       "      <td>64.372527</td>\n",
       "    </tr>\n",
       "  </tbody>\n",
       "</table>\n",
       "</div>"
      ],
      "text/plain": [
       "chocolate               0                     1                     0  \\\n",
       "peanutyalmondy          0          1          0          1          0   \n",
       "winpercent      42.458998  34.857211  57.282044  68.503791  42.744041   \n",
       "\n",
       "chocolate                          1                     0            \\\n",
       "peanutyalmondy          1          0          1          0         1   \n",
       "winpercent      35.522633  59.012238  66.076617  46.257098  55.43083   \n",
       "\n",
       "chocolate              1             \n",
       "peanutyalmondy         0          1  \n",
       "winpercent      63.51294  64.372527  "
      ]
     },
     "execution_count": 117,
     "metadata": {},
     "output_type": "execute_result"
    }
   ],
   "source": [
    "pd.concat([table2, table3, table4], sort= True, axis=1)"
   ]
  },
  {
   "attachments": {},
   "cell_type": "markdown",
   "metadata": {},
   "source": [
    "We recognize that products with chocolate and peanutyalmondy but without caramel have the best winpercentage and therefore the best combination of characteristics."
   ]
  },
  {
   "attachments": {},
   "cell_type": "markdown",
   "metadata": {},
   "source": [
    "#### **MACHINE LEARNING** "
   ]
  },
  {
   "attachments": {},
   "cell_type": "markdown",
   "metadata": {},
   "source": [
    "In our analysis earlier, we took a closer look at the data and found correlations. Based on this, we now want to create smaller machine learning algorithms that will allow us to predict the classification and regression of some attributes."
   ]
  },
  {
   "attachments": {},
   "cell_type": "markdown",
   "metadata": {},
   "source": [
    "**FEATURE IMPORTANCE**\n",
    "\n",
    "Let's first take a look at the weighting of our features. We use Principal Component Analysis to determine the variance that each feature explains."
   ]
  },
  {
   "cell_type": "code",
   "execution_count": 118,
   "metadata": {},
   "outputs": [],
   "source": [
    "X = df.drop([\"competitorname\"], axis= 1)"
   ]
  },
  {
   "cell_type": "code",
   "execution_count": 119,
   "metadata": {},
   "outputs": [
    {
     "data": {
      "text/html": [
       "<style>#sk-container-id-2 {color: black;background-color: white;}#sk-container-id-2 pre{padding: 0;}#sk-container-id-2 div.sk-toggleable {background-color: white;}#sk-container-id-2 label.sk-toggleable__label {cursor: pointer;display: block;width: 100%;margin-bottom: 0;padding: 0.3em;box-sizing: border-box;text-align: center;}#sk-container-id-2 label.sk-toggleable__label-arrow:before {content: \"▸\";float: left;margin-right: 0.25em;color: #696969;}#sk-container-id-2 label.sk-toggleable__label-arrow:hover:before {color: black;}#sk-container-id-2 div.sk-estimator:hover label.sk-toggleable__label-arrow:before {color: black;}#sk-container-id-2 div.sk-toggleable__content {max-height: 0;max-width: 0;overflow: hidden;text-align: left;background-color: #f0f8ff;}#sk-container-id-2 div.sk-toggleable__content pre {margin: 0.2em;color: black;border-radius: 0.25em;background-color: #f0f8ff;}#sk-container-id-2 input.sk-toggleable__control:checked~div.sk-toggleable__content {max-height: 200px;max-width: 100%;overflow: auto;}#sk-container-id-2 input.sk-toggleable__control:checked~label.sk-toggleable__label-arrow:before {content: \"▾\";}#sk-container-id-2 div.sk-estimator input.sk-toggleable__control:checked~label.sk-toggleable__label {background-color: #d4ebff;}#sk-container-id-2 div.sk-label input.sk-toggleable__control:checked~label.sk-toggleable__label {background-color: #d4ebff;}#sk-container-id-2 input.sk-hidden--visually {border: 0;clip: rect(1px 1px 1px 1px);clip: rect(1px, 1px, 1px, 1px);height: 1px;margin: -1px;overflow: hidden;padding: 0;position: absolute;width: 1px;}#sk-container-id-2 div.sk-estimator {font-family: monospace;background-color: #f0f8ff;border: 1px dotted black;border-radius: 0.25em;box-sizing: border-box;margin-bottom: 0.5em;}#sk-container-id-2 div.sk-estimator:hover {background-color: #d4ebff;}#sk-container-id-2 div.sk-parallel-item::after {content: \"\";width: 100%;border-bottom: 1px solid gray;flex-grow: 1;}#sk-container-id-2 div.sk-label:hover label.sk-toggleable__label {background-color: #d4ebff;}#sk-container-id-2 div.sk-serial::before {content: \"\";position: absolute;border-left: 1px solid gray;box-sizing: border-box;top: 0;bottom: 0;left: 50%;z-index: 0;}#sk-container-id-2 div.sk-serial {display: flex;flex-direction: column;align-items: center;background-color: white;padding-right: 0.2em;padding-left: 0.2em;position: relative;}#sk-container-id-2 div.sk-item {position: relative;z-index: 1;}#sk-container-id-2 div.sk-parallel {display: flex;align-items: stretch;justify-content: center;background-color: white;position: relative;}#sk-container-id-2 div.sk-item::before, #sk-container-id-2 div.sk-parallel-item::before {content: \"\";position: absolute;border-left: 1px solid gray;box-sizing: border-box;top: 0;bottom: 0;left: 50%;z-index: -1;}#sk-container-id-2 div.sk-parallel-item {display: flex;flex-direction: column;z-index: 1;position: relative;background-color: white;}#sk-container-id-2 div.sk-parallel-item:first-child::after {align-self: flex-end;width: 50%;}#sk-container-id-2 div.sk-parallel-item:last-child::after {align-self: flex-start;width: 50%;}#sk-container-id-2 div.sk-parallel-item:only-child::after {width: 0;}#sk-container-id-2 div.sk-dashed-wrapped {border: 1px dashed gray;margin: 0 0.4em 0.5em 0.4em;box-sizing: border-box;padding-bottom: 0.4em;background-color: white;}#sk-container-id-2 div.sk-label label {font-family: monospace;font-weight: bold;display: inline-block;line-height: 1.2em;}#sk-container-id-2 div.sk-label-container {text-align: center;}#sk-container-id-2 div.sk-container {/* jupyter's `normalize.less` sets `[hidden] { display: none; }` but bootstrap.min.css set `[hidden] { display: none !important; }` so we also need the `!important` here to be able to override the default hidden behavior on the sphinx rendered scikit-learn.org. See: https://github.com/scikit-learn/scikit-learn/issues/21755 */display: inline-block !important;position: relative;}#sk-container-id-2 div.sk-text-repr-fallback {display: none;}</style><div id=\"sk-container-id-2\" class=\"sk-top-container\"><div class=\"sk-text-repr-fallback\"><pre>PCA()</pre><b>In a Jupyter environment, please rerun this cell to show the HTML representation or trust the notebook. <br />On GitHub, the HTML representation is unable to render, please try loading this page with nbviewer.org.</b></div><div class=\"sk-container\" hidden><div class=\"sk-item\"><div class=\"sk-estimator sk-toggleable\"><input class=\"sk-toggleable__control sk-hidden--visually\" id=\"sk-estimator-id-2\" type=\"checkbox\" checked><label for=\"sk-estimator-id-2\" class=\"sk-toggleable__label sk-toggleable__label-arrow\">PCA</label><div class=\"sk-toggleable__content\"><pre>PCA()</pre></div></div></div></div></div>"
      ],
      "text/plain": [
       "PCA()"
      ]
     },
     "execution_count": 119,
     "metadata": {},
     "output_type": "execute_result"
    }
   ],
   "source": [
    "pc = PCA()\n",
    "pc.fit(X)"
   ]
  },
  {
   "cell_type": "code",
   "execution_count": 120,
   "metadata": {},
   "outputs": [],
   "source": [
    "df_pca = pd.DataFrame(pc.explained_variance_ratio_)"
   ]
  },
  {
   "cell_type": "code",
   "execution_count": 121,
   "metadata": {},
   "outputs": [
    {
     "data": {
      "text/html": [
       "<div>\n",
       "<style scoped>\n",
       "    .dataframe tbody tr th:only-of-type {\n",
       "        vertical-align: middle;\n",
       "    }\n",
       "\n",
       "    .dataframe tbody tr th {\n",
       "        vertical-align: top;\n",
       "    }\n",
       "\n",
       "    .dataframe thead th {\n",
       "        text-align: right;\n",
       "    }\n",
       "</style>\n",
       "<table border=\"1\" class=\"dataframe\">\n",
       "  <thead>\n",
       "    <tr style=\"text-align: right;\">\n",
       "      <th></th>\n",
       "      <th>chocolate</th>\n",
       "      <th>fruity</th>\n",
       "      <th>caramel</th>\n",
       "      <th>peanutyalmondy</th>\n",
       "      <th>nougat</th>\n",
       "      <th>crispedricewafer</th>\n",
       "      <th>hard</th>\n",
       "      <th>bar</th>\n",
       "      <th>pluribus</th>\n",
       "      <th>sugarpercent</th>\n",
       "      <th>pricepercent</th>\n",
       "      <th>winpercent</th>\n",
       "    </tr>\n",
       "  </thead>\n",
       "  <tbody>\n",
       "    <tr>\n",
       "      <th>0</th>\n",
       "      <td>1</td>\n",
       "      <td>0</td>\n",
       "      <td>1</td>\n",
       "      <td>0</td>\n",
       "      <td>0</td>\n",
       "      <td>1</td>\n",
       "      <td>0</td>\n",
       "      <td>1</td>\n",
       "      <td>0</td>\n",
       "      <td>0.732</td>\n",
       "      <td>0.860</td>\n",
       "      <td>66.971725</td>\n",
       "    </tr>\n",
       "    <tr>\n",
       "      <th>1</th>\n",
       "      <td>1</td>\n",
       "      <td>0</td>\n",
       "      <td>0</td>\n",
       "      <td>0</td>\n",
       "      <td>1</td>\n",
       "      <td>0</td>\n",
       "      <td>0</td>\n",
       "      <td>1</td>\n",
       "      <td>0</td>\n",
       "      <td>0.604</td>\n",
       "      <td>0.511</td>\n",
       "      <td>67.602936</td>\n",
       "    </tr>\n",
       "    <tr>\n",
       "      <th>2</th>\n",
       "      <td>0</td>\n",
       "      <td>0</td>\n",
       "      <td>0</td>\n",
       "      <td>0</td>\n",
       "      <td>0</td>\n",
       "      <td>0</td>\n",
       "      <td>0</td>\n",
       "      <td>0</td>\n",
       "      <td>0</td>\n",
       "      <td>0.011</td>\n",
       "      <td>0.116</td>\n",
       "      <td>32.261086</td>\n",
       "    </tr>\n",
       "    <tr>\n",
       "      <th>3</th>\n",
       "      <td>0</td>\n",
       "      <td>0</td>\n",
       "      <td>0</td>\n",
       "      <td>0</td>\n",
       "      <td>0</td>\n",
       "      <td>0</td>\n",
       "      <td>0</td>\n",
       "      <td>0</td>\n",
       "      <td>0</td>\n",
       "      <td>0.011</td>\n",
       "      <td>0.511</td>\n",
       "      <td>46.116505</td>\n",
       "    </tr>\n",
       "    <tr>\n",
       "      <th>4</th>\n",
       "      <td>0</td>\n",
       "      <td>1</td>\n",
       "      <td>0</td>\n",
       "      <td>0</td>\n",
       "      <td>0</td>\n",
       "      <td>0</td>\n",
       "      <td>0</td>\n",
       "      <td>0</td>\n",
       "      <td>0</td>\n",
       "      <td>0.906</td>\n",
       "      <td>0.511</td>\n",
       "      <td>52.341465</td>\n",
       "    </tr>\n",
       "    <tr>\n",
       "      <th>...</th>\n",
       "      <td>...</td>\n",
       "      <td>...</td>\n",
       "      <td>...</td>\n",
       "      <td>...</td>\n",
       "      <td>...</td>\n",
       "      <td>...</td>\n",
       "      <td>...</td>\n",
       "      <td>...</td>\n",
       "      <td>...</td>\n",
       "      <td>...</td>\n",
       "      <td>...</td>\n",
       "      <td>...</td>\n",
       "    </tr>\n",
       "    <tr>\n",
       "      <th>80</th>\n",
       "      <td>0</td>\n",
       "      <td>1</td>\n",
       "      <td>0</td>\n",
       "      <td>0</td>\n",
       "      <td>0</td>\n",
       "      <td>0</td>\n",
       "      <td>0</td>\n",
       "      <td>0</td>\n",
       "      <td>0</td>\n",
       "      <td>0.220</td>\n",
       "      <td>0.116</td>\n",
       "      <td>45.466282</td>\n",
       "    </tr>\n",
       "    <tr>\n",
       "      <th>81</th>\n",
       "      <td>0</td>\n",
       "      <td>1</td>\n",
       "      <td>0</td>\n",
       "      <td>0</td>\n",
       "      <td>0</td>\n",
       "      <td>0</td>\n",
       "      <td>1</td>\n",
       "      <td>0</td>\n",
       "      <td>0</td>\n",
       "      <td>0.093</td>\n",
       "      <td>0.116</td>\n",
       "      <td>39.011898</td>\n",
       "    </tr>\n",
       "    <tr>\n",
       "      <th>82</th>\n",
       "      <td>0</td>\n",
       "      <td>1</td>\n",
       "      <td>0</td>\n",
       "      <td>0</td>\n",
       "      <td>0</td>\n",
       "      <td>0</td>\n",
       "      <td>0</td>\n",
       "      <td>0</td>\n",
       "      <td>1</td>\n",
       "      <td>0.313</td>\n",
       "      <td>0.313</td>\n",
       "      <td>44.375519</td>\n",
       "    </tr>\n",
       "    <tr>\n",
       "      <th>83</th>\n",
       "      <td>0</td>\n",
       "      <td>0</td>\n",
       "      <td>1</td>\n",
       "      <td>0</td>\n",
       "      <td>0</td>\n",
       "      <td>0</td>\n",
       "      <td>1</td>\n",
       "      <td>0</td>\n",
       "      <td>0</td>\n",
       "      <td>0.186</td>\n",
       "      <td>0.267</td>\n",
       "      <td>41.904308</td>\n",
       "    </tr>\n",
       "    <tr>\n",
       "      <th>84</th>\n",
       "      <td>1</td>\n",
       "      <td>0</td>\n",
       "      <td>0</td>\n",
       "      <td>0</td>\n",
       "      <td>0</td>\n",
       "      <td>1</td>\n",
       "      <td>0</td>\n",
       "      <td>0</td>\n",
       "      <td>1</td>\n",
       "      <td>0.872</td>\n",
       "      <td>0.848</td>\n",
       "      <td>49.524113</td>\n",
       "    </tr>\n",
       "  </tbody>\n",
       "</table>\n",
       "<p>85 rows × 12 columns</p>\n",
       "</div>"
      ],
      "text/plain": [
       "    chocolate  fruity  caramel  peanutyalmondy  nougat  crispedricewafer  \\\n",
       "0           1       0        1               0       0                 1   \n",
       "1           1       0        0               0       1                 0   \n",
       "2           0       0        0               0       0                 0   \n",
       "3           0       0        0               0       0                 0   \n",
       "4           0       1        0               0       0                 0   \n",
       "..        ...     ...      ...             ...     ...               ...   \n",
       "80          0       1        0               0       0                 0   \n",
       "81          0       1        0               0       0                 0   \n",
       "82          0       1        0               0       0                 0   \n",
       "83          0       0        1               0       0                 0   \n",
       "84          1       0        0               0       0                 1   \n",
       "\n",
       "    hard  bar  pluribus  sugarpercent  pricepercent  winpercent  \n",
       "0      0    1         0         0.732         0.860   66.971725  \n",
       "1      0    1         0         0.604         0.511   67.602936  \n",
       "2      0    0         0         0.011         0.116   32.261086  \n",
       "3      0    0         0         0.011         0.511   46.116505  \n",
       "4      0    0         0         0.906         0.511   52.341465  \n",
       "..   ...  ...       ...           ...           ...         ...  \n",
       "80     0    0         0         0.220         0.116   45.466282  \n",
       "81     1    0         0         0.093         0.116   39.011898  \n",
       "82     0    0         1         0.313         0.313   44.375519  \n",
       "83     1    0         0         0.186         0.267   41.904308  \n",
       "84     0    0         1         0.872         0.848   49.524113  \n",
       "\n",
       "[85 rows x 12 columns]"
      ]
     },
     "execution_count": 121,
     "metadata": {},
     "output_type": "execute_result"
    }
   ],
   "source": [
    "X"
   ]
  },
  {
   "cell_type": "code",
   "execution_count": 122,
   "metadata": {},
   "outputs": [
    {
     "data": {
      "image/png": "[encoded data removed]",
      "text/plain": [
       "<Figure size 1440x360 with 1 Axes>"
      ]
     },
     "metadata": {
      "needs_background": "light"
     },
     "output_type": "display_data"
    }
   ],
   "source": [
    "plt.figure(figsize= (20, 5))\n",
    "plt.plot(df_pca)\n",
    "plt.xticks(df_pca.index)\n",
    "plt.show()"
   ]
  },
  {
   "cell_type": "code",
   "execution_count": 123,
   "metadata": {},
   "outputs": [
    {
     "data": {
      "text/plain": [
       "Index(['chocolate', 'fruity', 'caramel', 'peanutyalmondy', 'nougat',\n",
       "       'crispedricewafer', 'hard', 'bar', 'pluribus', 'sugarpercent',\n",
       "       'pricepercent', 'winpercent'],\n",
       "      dtype='object')"
      ]
     },
     "execution_count": 123,
     "metadata": {},
     "output_type": "execute_result"
    }
   ],
   "source": [
    "X.columns"
   ]
  },
  {
   "cell_type": "code",
   "execution_count": 124,
   "metadata": {},
   "outputs": [
    {
     "data": {
      "text/plain": [
       "array([2.16768672e+02, 4.93376209e-01, 2.28118989e-01, 1.39067582e-01,\n",
       "       1.20000939e-01, 1.12987619e-01, 9.45445030e-02, 7.51682793e-02,\n",
       "       5.67693343e-02, 4.59438204e-02, 3.39804902e-02, 2.35025405e-02])"
      ]
     },
     "execution_count": 124,
     "metadata": {},
     "output_type": "execute_result"
    }
   ],
   "source": [
    "pc.explained_variance_"
   ]
  },
  {
   "attachments": {},
   "cell_type": "markdown",
   "metadata": {},
   "source": [
    "As we can see the feature chocolate is most important later for our prediction."
   ]
  },
  {
   "attachments": {},
   "cell_type": "markdown",
   "metadata": {},
   "source": [
    "**CLASSIFICATION**\n",
    "\n",
    "In our analysis above we have established that chocolate is one of the most important attributes for the prediction of the winpercentage. But now we want to turn tables and try to classify whether a product contains chocolate.\n",
    "\n",
    "- lets split our data in train and test sets first"
   ]
  },
  {
   "cell_type": "code",
   "execution_count": 125,
   "metadata": {},
   "outputs": [],
   "source": [
    "df_clf = df.copy()"
   ]
  },
  {
   "cell_type": "code",
   "execution_count": 126,
   "metadata": {},
   "outputs": [],
   "source": [
    "X = df_clf.drop([\"chocolate\", \"competitorname\"], axis= 1)\n",
    "y = df_clf[\"chocolate\"]"
   ]
  },
  {
   "cell_type": "code",
   "execution_count": 127,
   "metadata": {},
   "outputs": [],
   "source": [
    "X_train, X_test, y_train, y_test = train_test_split(X, y, test_size= 0.35, random_state=0)"
   ]
  },
  {
   "attachments": {},
   "cell_type": "markdown",
   "metadata": {},
   "source": [
    "Since we want to try out several alogrithms, we first create a basic model and then try to improve it. At the same time we want to find the best parameters to achieve the highest accuracy. We do this with a 10-fold cross validation using GridSearchCV.\n",
    "\n",
    "- as a basic model we take a normal decision tree"
   ]
  },
  {
   "attachments": {},
   "cell_type": "markdown",
   "metadata": {},
   "source": [
    "DecisionTree (Basemodell):"
   ]
  },
  {
   "cell_type": "code",
   "execution_count": 128,
   "metadata": {},
   "outputs": [
    {
     "name": "stdout",
     "output_type": "stream",
     "text": [
      "Best param: {'max_depth': 3, 'min_samples_split': 10, 'random_state': 0} with best acc-score: 0.9266666666666667\n"
     ]
    }
   ],
   "source": [
    "dtc_cv = GridSearchCV(\n",
    " estimator= DecisionTreeClassifier(),\n",
    " param_grid= dict(min_samples_split= [2, 10, 20, 50], max_depth= [1, 3, 6, 9], random_state= [0]),\n",
    " scoring= \"accuracy\",\n",
    " n_jobs= -1,\n",
    " cv= 10\n",
    ").fit(X_train, y_train)\n",
    "\n",
    "print(f\"Best param: {dtc_cv.best_params_} with best acc-score: {dtc_cv.best_score_}\")"
   ]
  },
  {
   "cell_type": "code",
   "execution_count": 129,
   "metadata": {},
   "outputs": [
    {
     "name": "stdout",
     "output_type": "stream",
     "text": [
      "              precision    recall  f1-score   support\n",
      "\n",
      "           0       0.82      1.00      0.90        18\n",
      "           1       1.00      0.67      0.80        12\n",
      "\n",
      "    accuracy                           0.87        30\n",
      "   macro avg       0.91      0.83      0.85        30\n",
      "weighted avg       0.89      0.87      0.86        30\n",
      "\n",
      "<sklearn.metrics._plot.confusion_matrix.ConfusionMatrixDisplay object at 0x7f9fa54c2c10>\n"
     ]
    },
    {
     "data": {
      "image/png": "[encoded data removed]",
      "text/plain": [
       "<Figure size 432x288 with 2 Axes>"
      ]
     },
     "metadata": {
      "needs_background": "light"
     },
     "output_type": "display_data"
    }
   ],
   "source": [
    "best_dtc = DecisionTreeClassifier(max_depth= 3, min_samples_split= 10, random_state= 0).fit(X_train, y_train)\n",
    "\n",
    "y_pred_train_best_dtc = best_dtc.predict(X_train)\n",
    "y_pred_test_best_dtc = best_dtc.predict(X_test)\n",
    "\n",
    "print(classification_report(y_test, y_pred_test_best_dtc))\n",
    "print(ConfusionMatrixDisplay.from_predictions(y_test, y_pred_test_best_dtc, cmap= \"Greens\"))"
   ]
  },
  {
   "attachments": {},
   "cell_type": "markdown",
   "metadata": {},
   "source": [
    "We achieve 87% accuracy on our test data. Now we try to improve this value a little bit. For this we use methodes from the ensemble of sklearn."
   ]
  },
  {
   "attachments": {},
   "cell_type": "markdown",
   "metadata": {},
   "source": [
    "Gradient Boosting:"
   ]
  },
  {
   "cell_type": "code",
   "execution_count": 130,
   "metadata": {},
   "outputs": [
    {
     "name": "stdout",
     "output_type": "stream",
     "text": [
      "Best parameters: {'learning_rate': 0.1, 'max_depth': 1, 'random_state': 0}, with best acc-score: 0.9272727272727274\n"
     ]
    }
   ],
   "source": [
    "gbc_cv = GridSearchCV(\n",
    " estimator= GradientBoostingClassifier(),\n",
    " param_grid= dict(learning_rate= [0.001, 0.01, 0.1], max_depth= [1,3,5,9], random_state= [0]),\n",
    " scoring= \"accuracy\",\n",
    " n_jobs= -1,\n",
    " ).fit(X_train, y_train)\n",
    " \n",
    "print(f\"Best parameters: {gbc_cv.best_params_}, with best acc-score: {gbc_cv.best_score_}\")"
   ]
  },
  {
   "cell_type": "code",
   "execution_count": 131,
   "metadata": {},
   "outputs": [
    {
     "name": "stdout",
     "output_type": "stream",
     "text": [
      "              precision    recall  f1-score   support\n",
      "\n",
      "           0       0.89      0.89      0.89        18\n",
      "           1       0.83      0.83      0.83        12\n",
      "\n",
      "    accuracy                           0.87        30\n",
      "   macro avg       0.86      0.86      0.86        30\n",
      "weighted avg       0.87      0.87      0.87        30\n",
      "\n",
      "<sklearn.metrics._plot.confusion_matrix.ConfusionMatrixDisplay object at 0x7f9fa654c6a0>\n"
     ]
    },
    {
     "data": {
      "image/png": "[encoded data removed]",
      "text/plain": [
       "<Figure size 432x288 with 2 Axes>"
      ]
     },
     "metadata": {
      "needs_background": "light"
     },
     "output_type": "display_data"
    }
   ],
   "source": [
    "best_gbc = GradientBoostingClassifier(max_depth= 1, random_state= 0, learning_rate= 0.1).fit(X_train, y_train)\n",
    "\n",
    "y_pred_train_best_gbc = best_gbc.predict(X_train)\n",
    "y_pred_test_best_gbc = best_gbc.predict(X_test)\n",
    "\n",
    "print(classification_report(y_test, y_pred_test_best_gbc))\n",
    "print(ConfusionMatrixDisplay.from_predictions(y_test, y_pred_test_best_gbc, cmap= \"Greens\"))"
   ]
  },
  {
   "attachments": {},
   "cell_type": "markdown",
   "metadata": {},
   "source": [
    "Random Forest:"
   ]
  },
  {
   "cell_type": "code",
   "execution_count": 132,
   "metadata": {},
   "outputs": [
    {
     "name": "stdout",
     "output_type": "stream",
     "text": [
      "Best parameters: {'criterion': 'gini', 'max_features': 3, 'n_estimators': 150, 'random_state': 0}, with best acc-score: 0.9636363636363636\n"
     ]
    }
   ],
   "source": [
    "rfc_cv = GridSearchCV(\n",
    " estimator= RandomForestClassifier(),\n",
    " param_grid= dict(n_estimators= [100, 150, 300], criterion= [\"gini\", \"entropy\"], max_features= [3, 5, 11], random_state= [0]),\n",
    " scoring= \"accuracy\",\n",
    " n_jobs= -1,\n",
    " ).fit(X_train, y_train)\n",
    " \n",
    "print(f\"Best parameters: {rfc_cv.best_params_}, with best acc-score: {rfc_cv.best_score_}\")"
   ]
  },
  {
   "cell_type": "code",
   "execution_count": 133,
   "metadata": {},
   "outputs": [
    {
     "name": "stdout",
     "output_type": "stream",
     "text": [
      "              precision    recall  f1-score   support\n",
      "\n",
      "           0       0.86      1.00      0.92        18\n",
      "           1       1.00      0.75      0.86        12\n",
      "\n",
      "    accuracy                           0.90        30\n",
      "   macro avg       0.93      0.88      0.89        30\n",
      "weighted avg       0.91      0.90      0.90        30\n",
      "\n",
      "<sklearn.metrics._plot.confusion_matrix.ConfusionMatrixDisplay object at 0x7f9fa6944e20>\n"
     ]
    },
    {
     "data": {
      "image/png": "[encoded data removed]",
      "text/plain": [
       "<Figure size 432x288 with 2 Axes>"
      ]
     },
     "metadata": {
      "needs_background": "light"
     },
     "output_type": "display_data"
    }
   ],
   "source": [
    "best_rfc = RandomForestClassifier(random_state= 0, criterion= \"gini\", max_features= 3, n_estimators= 150).fit(X_train, y_train)\n",
    "\n",
    "y_pred_train_best_rfc = best_rfc.predict(X_train)\n",
    "y_pred_test_best_rfc = best_rfc.predict(X_test)\n",
    "\n",
    "print(classification_report(y_test, y_pred_test_best_rfc))\n",
    "print(ConfusionMatrixDisplay.from_predictions(y_test, y_pred_test_best_rfc, cmap= \"Greens\"))"
   ]
  },
  {
   "cell_type": "code",
   "execution_count": 134,
   "metadata": {},
   "outputs": [
    {
     "data": {
      "image/png": "[encoded data removed]",
      "text/plain": [
       "<Figure size 1440x720 with 1 Axes>"
      ]
     },
     "metadata": {
      "needs_background": "light"
     },
     "output_type": "display_data"
    }
   ],
   "source": [
    "y_predict= [\n",
    " [best_dtc, y_pred_test_best_dtc, \"DecisionTreeClassifier\"],\n",
    " [best_gbc, y_pred_test_best_gbc, \"GradientBoostingClassifier\"],\n",
    " [best_rfc, y_pred_test_best_rfc, \"RandomForestClassifier\"]\n",
    "]\n",
    "\n",
    "\n",
    "plt.figure(figsize= (20,10))\n",
    "    \n",
    "for model in y_predict:\n",
    " fpr, tpr, thr = roc_curve(y_test, model[0].predict_proba(X_test)[:,1])\n",
    " auc = roc_auc_score(y_test, model[1])\n",
    " plt.step(x=fpr, y=tpr, label=f\"{model[2]} (AUC = {auc.round(2)})\")\n",
    "\n",
    " plt.legend()"
   ]
  },
  {
   "attachments": {},
   "cell_type": "markdown",
   "metadata": {},
   "source": [
    "As we can see, our baseline model performs the best."
   ]
  },
  {
   "cell_type": "code",
   "execution_count": 135,
   "metadata": {},
   "outputs": [],
   "source": [
    "df_clf_scatter = df_clf.copy()"
   ]
  },
  {
   "cell_type": "code",
   "execution_count": 136,
   "metadata": {},
   "outputs": [],
   "source": [
    "df_clf_scatter[\"pred_y\"] = best_rfc.predict(X)"
   ]
  },
  {
   "cell_type": "code",
   "execution_count": 137,
   "metadata": {},
   "outputs": [],
   "source": [
    "df_clf_scatter[\"pred_false\"] = 1  \n",
    "\n",
    "df_clf_scatter.loc[df_clf_scatter.chocolate != df_clf_scatter.pred_y, \"pred_false\"] = 0"
   ]
  },
  {
   "cell_type": "code",
   "execution_count": 138,
   "metadata": {},
   "outputs": [
    {
     "data": {
      "application/vnd.plotly.v1+json": {
       "config": {
        "plotlyServerURL": "https://plot.ly"
       },
       "data": [
        {
         "marker": {
          "color": [
           1,
           1,
           0,
           0,
           0,
           1,
           1,
           0,
           0,
           0,
           1,
           0,
           0,
           0,
           0,
           0,
           0,
           0,
           0,
           0,
           0,
           0,
           1,
           1,
           1,
           1,
           0,
           1,
           1,
           0,
           0,
           0,
           1,
           1,
           0,
           1,
           1,
           1,
           1,
           1,
           1,
           0,
           1,
           1,
           0,
           0,
           0,
           1,
           0,
           0,
           0,
           1,
           1,
           1,
           1,
           0,
           1,
           0,
           0,
           1,
           0,
           0,
           1,
           0,
           1,
           1,
           0,
           0,
           0,
           0,
           0,
           0,
           0,
           0,
           0,
           0,
           0,
           1,
           0,
           1,
           0,
           0,
           0,
           0,
           1
          ],
          "colorscale": [
           [
            0,
            "rgb(149, 19, 39)"
           ],
           [
            1,
            "rgb(11, 100, 44)"
           ]
          ]
         },
         "mode": "markers",
         "name": "Predicited Label",
         "type": "scatter",
         "x": [
          "100 Grand",
          "3 Musketeers",
          "One dime",
          "One quarter",
          "Air Heads",
          "Almond Joy",
          "Baby Ruth",
          "Boston Baked Beans",
          "Candy Corn",
          "Caramel Apple Pops",
          "Charleston Chew",
          "Chewey Lemonhead Fruit Mix",
          "Chiclets",
          "Dots",
          "Dum Dums",
          "Fruit Chews",
          "Fun Dip",
          "Gobstopper",
          "Haribo Gold Bears",
          "Haribo Happy Cola",
          "Haribo Sour Bears",
          "Haribo Twin Snakes",
          "Hershey's Kisses",
          "Hershey's Krackel",
          "Hershey's Milk Chocolate",
          "Hershey's Special Dark",
          "Jawbusters",
          "Junior Mints",
          "Kit Kat",
          "Laffy Taffy",
          "Lemonhead",
          "Lifesavers big ring gummies",
          "Peanut butter M&M's",
          "M&M's",
          "Mike & Ike",
          "Milk Duds",
          "Milky Way",
          "Milky Way Midnight",
          "Milky Way Simply Caramel",
          "Mounds",
          "Mr Good Bar",
          "Nerds",
          "Nestle Butterfinger",
          "Nestle Crunch",
          "Nik L Nip",
          "Now & Later",
          "Payday",
          "Peanut M&Ms",
          "Pixie Sticks",
          "Pop Rocks",
          "Red vines",
          "Reese's Miniatures",
          "Reese's Peanut Butter cup",
          "Reese's pieces",
          "Reese's stuffed with pieces",
          "Ring pop",
          "Rolo",
          "Root Beer Barrels",
          "Runts",
          "Sixlets",
          "Skittles original",
          "Skittles wildberry",
          "Nestle Smarties",
          "Smarties candy",
          "Snickers",
          "Snickers Crisper",
          "Sour Patch Kids",
          "Sour Patch Tricksters",
          "Starburst",
          "Strawberry bon bons",
          "Sugar Babies",
          "Sugar Daddy",
          "Super Bubble",
          "Swedish Fish",
          "Tootsie Pop",
          "Tootsie Roll Juniors",
          "Tootsie Roll Midgies",
          "Tootsie Roll Snack Bars",
          "Trolli Sour Bites",
          "Twix",
          "Twizzlers",
          "Warheads",
          "Welch's Fruit Snacks",
          "Werther's Original Caramel",
          "Whoppers"
         ],
         "xaxis": "x",
         "y": [
          66.971725,
          67.602936,
          32.261086,
          46.116505,
          52.341465,
          50.347546,
          56.914547,
          23.417824,
          38.010963,
          34.517681,
          38.975037,
          36.017628,
          24.524988,
          42.272076,
          39.460556,
          43.088924,
          39.185505,
          46.783348,
          57.11974,
          34.158958,
          51.41243,
          42.178772,
          55.375454,
          62.284481,
          56.490501,
          59.236122,
          28.127439,
          57.21925,
          76.7686,
          41.389557,
          39.141056,
          52.911392,
          71.46505,
          66.574585,
          46.411716,
          55.064072,
          73.099556,
          60.800701,
          64.35334,
          47.829754,
          54.526451,
          55.354046,
          70.735641,
          66.47068,
          22.445341,
          39.4468,
          46.296597,
          69.483788,
          37.722336,
          41.265511,
          37.348522,
          81.866257,
          84.18029,
          73.43499,
          72.887901,
          35.290756,
          65.716286,
          29.703691,
          42.849144,
          34.722,
          63.08514,
          55.103695,
          37.887188,
          45.995827,
          76.673782,
          59.529251,
          59.863998,
          52.825947,
          67.037628,
          34.578991,
          33.43755,
          32.230995,
          27.303865,
          54.861111,
          48.982651,
          43.068897,
          45.736748,
          49.653503,
          47.173229,
          81.642914,
          45.466282,
          39.011898,
          44.375519,
          41.904308,
          49.524113
         ],
         "yaxis": "y"
        },
        {
         "marker": {
          "color": [
           1,
           1,
           1,
           1,
           1,
           1,
           1,
           1,
           1,
           1,
           1,
           1,
           1,
           1,
           1,
           1,
           1,
           1,
           1,
           1,
           1,
           1,
           1,
           1,
           1,
           1,
           1,
           1,
           1,
           1,
           1,
           1,
           1,
           1,
           1,
           1,
           1,
           1,
           1,
           1,
           1,
           1,
           1,
           1,
           1,
           1,
           1,
           1,
           1,
           1,
           1,
           1,
           1,
           1,
           1,
           1,
           1,
           1,
           1,
           1,
           1,
           1,
           1,
           1,
           1,
           1,
           1,
           1,
           1,
           1,
           1,
           1,
           1,
           1,
           0,
           0,
           0,
           1,
           1,
           1,
           1,
           1,
           1,
           1,
           1
          ],
          "colorscale": [
           [
            0,
            "rgb(149, 19, 39)"
           ],
           [
            1,
            "grey"
           ]
          ]
         },
         "mode": "markers",
         "name": "True Label",
         "type": "scatter",
         "x": [
          "100 Grand",
          "3 Musketeers",
          "One dime",
          "One quarter",
          "Air Heads",
          "Almond Joy",
          "Baby Ruth",
          "Boston Baked Beans",
          "Candy Corn",
          "Caramel Apple Pops",
          "Charleston Chew",
          "Chewey Lemonhead Fruit Mix",
          "Chiclets",
          "Dots",
          "Dum Dums",
          "Fruit Chews",
          "Fun Dip",
          "Gobstopper",
          "Haribo Gold Bears",
          "Haribo Happy Cola",
          "Haribo Sour Bears",
          "Haribo Twin Snakes",
          "Hershey's Kisses",
          "Hershey's Krackel",
          "Hershey's Milk Chocolate",
          "Hershey's Special Dark",
          "Jawbusters",
          "Junior Mints",
          "Kit Kat",
          "Laffy Taffy",
          "Lemonhead",
          "Lifesavers big ring gummies",
          "Peanut butter M&M's",
          "M&M's",
          "Mike & Ike",
          "Milk Duds",
          "Milky Way",
          "Milky Way Midnight",
          "Milky Way Simply Caramel",
          "Mounds",
          "Mr Good Bar",
          "Nerds",
          "Nestle Butterfinger",
          "Nestle Crunch",
          "Nik L Nip",
          "Now & Later",
          "Payday",
          "Peanut M&Ms",
          "Pixie Sticks",
          "Pop Rocks",
          "Red vines",
          "Reese's Miniatures",
          "Reese's Peanut Butter cup",
          "Reese's pieces",
          "Reese's stuffed with pieces",
          "Ring pop",
          "Rolo",
          "Root Beer Barrels",
          "Runts",
          "Sixlets",
          "Skittles original",
          "Skittles wildberry",
          "Nestle Smarties",
          "Smarties candy",
          "Snickers",
          "Snickers Crisper",
          "Sour Patch Kids",
          "Sour Patch Tricksters",
          "Starburst",
          "Strawberry bon bons",
          "Sugar Babies",
          "Sugar Daddy",
          "Super Bubble",
          "Swedish Fish",
          "Tootsie Pop",
          "Tootsie Roll Juniors",
          "Tootsie Roll Midgies",
          "Tootsie Roll Snack Bars",
          "Trolli Sour Bites",
          "Twix",
          "Twizzlers",
          "Warheads",
          "Welch's Fruit Snacks",
          "Werther's Original Caramel",
          "Whoppers"
         ],
         "xaxis": "x2",
         "y": [
          66.971725,
          67.602936,
          32.261086,
          46.116505,
          52.341465,
          50.347546,
          56.914547,
          23.417824,
          38.010963,
          34.517681,
          38.975037,
          36.017628,
          24.524988,
          42.272076,
          39.460556,
          43.088924,
          39.185505,
          46.783348,
          57.11974,
          34.158958,
          51.41243,
          42.178772,
          55.375454,
          62.284481,
          56.490501,
          59.236122,
          28.127439,
          57.21925,
          76.7686,
          41.389557,
          39.141056,
          52.911392,
          71.46505,
          66.574585,
          46.411716,
          55.064072,
          73.099556,
          60.800701,
          64.35334,
          47.829754,
          54.526451,
          55.354046,
          70.735641,
          66.47068,
          22.445341,
          39.4468,
          46.296597,
          69.483788,
          37.722336,
          41.265511,
          37.348522,
          81.866257,
          84.18029,
          73.43499,
          72.887901,
          35.290756,
          65.716286,
          29.703691,
          42.849144,
          34.722,
          63.08514,
          55.103695,
          37.887188,
          45.995827,
          76.673782,
          59.529251,
          59.863998,
          52.825947,
          67.037628,
          34.578991,
          33.43755,
          32.230995,
          27.303865,
          54.861111,
          48.982651,
          43.068897,
          45.736748,
          49.653503,
          47.173229,
          81.642914,
          45.466282,
          39.011898,
          44.375519,
          41.904308,
          49.524113
         ],
         "yaxis": "y2"
        }
       ],
       "layout": {
        "font": {
         "color": "white"
        },
        "height": 600,
        "legend": {
         "title": {
          "font": {
           "size": 16
          },
          "text": "<b>chocolate</b>"
         }
        },
        "paper_bgcolor": "rgba(0,0,0,0)",
        "plot_bgcolor": "rgba(0,0,0,0)",
        "template": {
         "data": {
          "bar": [
           {
            "error_x": {
             "color": "#2a3f5f"
            },
            "error_y": {
             "color": "#2a3f5f"
            },
            "marker": {
             "line": {
              "color": "#E5ECF6",
              "width": 0.5
             },
             "pattern": {
              "fillmode": "overlay",
              "size": 10,
              "solidity": 0.2
             }
            },
            "type": "bar"
           }
          ],
          "barpolar": [
           {
            "marker": {
             "line": {
              "color": "#E5ECF6",
              "width": 0.5
             },
             "pattern": {
              "fillmode": "overlay",
              "size": 10,
              "solidity": 0.2
             }
            },
            "type": "barpolar"
           }
          ],
          "carpet": [
           {
            "aaxis": {
             "endlinecolor": "#2a3f5f",
             "gridcolor": "white",
             "linecolor": "white",
             "minorgridcolor": "white",
             "startlinecolor": "#2a3f5f"
            },
            "baxis": {
             "endlinecolor": "#2a3f5f",
             "gridcolor": "white",
             "linecolor": "white",
             "minorgridcolor": "white",
             "startlinecolor": "#2a3f5f"
            },
            "type": "carpet"
           }
          ],
          "choropleth": [
           {
            "colorbar": {
             "outlinewidth": 0,
             "ticks": ""
            },
            "type": "choropleth"
           }
          ],
          "contour": [
           {
            "colorbar": {
             "outlinewidth": 0,
             "ticks": ""
            },
            "colorscale": [
             [
              0,
              "#0d0887"
             ],
             [
              0.1111111111111111,
              "#46039f"
             ],
             [
              0.2222222222222222,
              "#7201a8"
             ],
             [
              0.3333333333333333,
              "#9c179e"
             ],
             [
              0.4444444444444444,
              "#bd3786"
             ],
             [
              0.5555555555555556,
              "#d8576b"
             ],
             [
              0.6666666666666666,
              "#ed7953"
             ],
             [
              0.7777777777777778,
              "#fb9f3a"
             ],
             [
              0.8888888888888888,
              "#fdca26"
             ],
             [
              1,
              "#f0f921"
             ]
            ],
            "type": "contour"
           }
          ],
          "contourcarpet": [
           {
            "colorbar": {
             "outlinewidth": 0,
             "ticks": ""
            },
            "type": "contourcarpet"
           }
          ],
          "heatmap": [
           {
            "colorbar": {
             "outlinewidth": 0,
             "ticks": ""
            },
            "colorscale": [
             [
              0,
              "#0d0887"
             ],
             [
              0.1111111111111111,
              "#46039f"
             ],
             [
              0.2222222222222222,
              "#7201a8"
             ],
             [
              0.3333333333333333,
              "#9c179e"
             ],
             [
              0.4444444444444444,
              "#bd3786"
             ],
             [
              0.5555555555555556,
              "#d8576b"
             ],
             [
              0.6666666666666666,
              "#ed7953"
             ],
             [
              0.7777777777777778,
              "#fb9f3a"
             ],
             [
              0.8888888888888888,
              "#fdca26"
             ],
             [
              1,
              "#f0f921"
             ]
            ],
            "type": "heatmap"
           }
          ],
          "heatmapgl": [
           {
            "colorbar": {
             "outlinewidth": 0,
             "ticks": ""
            },
            "colorscale": [
             [
              0,
              "#0d0887"
             ],
             [
              0.1111111111111111,
              "#46039f"
             ],
             [
              0.2222222222222222,
              "#7201a8"
             ],
             [
              0.3333333333333333,
              "#9c179e"
             ],
             [
              0.4444444444444444,
              "#bd3786"
             ],
             [
              0.5555555555555556,
              "#d8576b"
             ],
             [
              0.6666666666666666,
              "#ed7953"
             ],
             [
              0.7777777777777778,
              "#fb9f3a"
             ],
             [
              0.8888888888888888,
              "#fdca26"
             ],
             [
              1,
              "#f0f921"
             ]
            ],
            "type": "heatmapgl"
           }
          ],
          "histogram": [
           {
            "marker": {
             "pattern": {
              "fillmode": "overlay",
              "size": 10,
              "solidity": 0.2
             }
            },
            "type": "histogram"
           }
          ],
          "histogram2d": [
           {
            "colorbar": {
             "outlinewidth": 0,
             "ticks": ""
            },
            "colorscale": [
             [
              0,
              "#0d0887"
             ],
             [
              0.1111111111111111,
              "#46039f"
             ],
             [
              0.2222222222222222,
              "#7201a8"
             ],
             [
              0.3333333333333333,
              "#9c179e"
             ],
             [
              0.4444444444444444,
              "#bd3786"
             ],
             [
              0.5555555555555556,
              "#d8576b"
             ],
             [
              0.6666666666666666,
              "#ed7953"
             ],
             [
              0.7777777777777778,
              "#fb9f3a"
             ],
             [
              0.8888888888888888,
              "#fdca26"
             ],
             [
              1,
              "#f0f921"
             ]
            ],
            "type": "histogram2d"
           }
          ],
          "histogram2dcontour": [
           {
            "colorbar": {
             "outlinewidth": 0,
             "ticks": ""
            },
            "colorscale": [
             [
              0,
              "#0d0887"
             ],
             [
              0.1111111111111111,
              "#46039f"
             ],
             [
              0.2222222222222222,
              "#7201a8"
             ],
             [
              0.3333333333333333,
              "#9c179e"
             ],
             [
              0.4444444444444444,
              "#bd3786"
             ],
             [
              0.5555555555555556,
              "#d8576b"
             ],
             [
              0.6666666666666666,
              "#ed7953"
             ],
             [
              0.7777777777777778,
              "#fb9f3a"
             ],
             [
              0.8888888888888888,
              "#fdca26"
             ],
             [
              1,
              "#f0f921"
             ]
            ],
            "type": "histogram2dcontour"
           }
          ],
          "mesh3d": [
           {
            "colorbar": {
             "outlinewidth": 0,
             "ticks": ""
            },
            "type": "mesh3d"
           }
          ],
          "parcoords": [
           {
            "line": {
             "colorbar": {
              "outlinewidth": 0,
              "ticks": ""
             }
            },
            "type": "parcoords"
           }
          ],
          "pie": [
           {
            "automargin": true,
            "type": "pie"
           }
          ],
          "scatter": [
           {
            "fillpattern": {
             "fillmode": "overlay",
             "size": 10,
             "solidity": 0.2
            },
            "type": "scatter"
           }
          ],
          "scatter3d": [
           {
            "line": {
             "colorbar": {
              "outlinewidth": 0,
              "ticks": ""
             }
            },
            "marker": {
             "colorbar": {
              "outlinewidth": 0,
              "ticks": ""
             }
            },
            "type": "scatter3d"
           }
          ],
          "scattercarpet": [
           {
            "marker": {
             "colorbar": {
              "outlinewidth": 0,
              "ticks": ""
             }
            },
            "type": "scattercarpet"
           }
          ],
          "scattergeo": [
           {
            "marker": {
             "colorbar": {
              "outlinewidth": 0,
              "ticks": ""
             }
            },
            "type": "scattergeo"
           }
          ],
          "scattergl": [
           {
            "marker": {
             "colorbar": {
              "outlinewidth": 0,
              "ticks": ""
             }
            },
            "type": "scattergl"
           }
          ],
          "scattermapbox": [
           {
            "marker": {
             "colorbar": {
              "outlinewidth": 0,
              "ticks": ""
             }
            },
            "type": "scattermapbox"
           }
          ],
          "scatterpolar": [
           {
            "marker": {
             "colorbar": {
              "outlinewidth": 0,
              "ticks": ""
             }
            },
            "type": "scatterpolar"
           }
          ],
          "scatterpolargl": [
           {
            "marker": {
             "colorbar": {
              "outlinewidth": 0,
              "ticks": ""
             }
            },
            "type": "scatterpolargl"
           }
          ],
          "scatterternary": [
           {
            "marker": {
             "colorbar": {
              "outlinewidth": 0,
              "ticks": ""
             }
            },
            "type": "scatterternary"
           }
          ],
          "surface": [
           {
            "colorbar": {
             "outlinewidth": 0,
             "ticks": ""
            },
            "colorscale": [
             [
              0,
              "#0d0887"
             ],
             [
              0.1111111111111111,
              "#46039f"
             ],
             [
              0.2222222222222222,
              "#7201a8"
             ],
             [
              0.3333333333333333,
              "#9c179e"
             ],
             [
              0.4444444444444444,
              "#bd3786"
             ],
             [
              0.5555555555555556,
              "#d8576b"
             ],
             [
              0.6666666666666666,
              "#ed7953"
             ],
             [
              0.7777777777777778,
              "#fb9f3a"
             ],
             [
              0.8888888888888888,
              "#fdca26"
             ],
             [
              1,
              "#f0f921"
             ]
            ],
            "type": "surface"
           }
          ],
          "table": [
           {
            "cells": {
             "fill": {
              "color": "#EBF0F8"
             },
             "line": {
              "color": "white"
             }
            },
            "header": {
             "fill": {
              "color": "#C8D4E3"
             },
             "line": {
              "color": "white"
             }
            },
            "type": "table"
           }
          ]
         },
         "layout": {
          "annotationdefaults": {
           "arrowcolor": "#2a3f5f",
           "arrowhead": 0,
           "arrowwidth": 1
          },
          "autotypenumbers": "strict",
          "coloraxis": {
           "colorbar": {
            "outlinewidth": 0,
            "ticks": ""
           }
          },
          "colorscale": {
           "diverging": [
            [
             0,
             "#8e0152"
            ],
            [
             0.1,
             "#c51b7d"
            ],
            [
             0.2,
             "#de77ae"
            ],
            [
             0.3,
             "#f1b6da"
            ],
            [
             0.4,
             "#fde0ef"
            ],
            [
             0.5,
             "#f7f7f7"
            ],
            [
             0.6,
             "#e6f5d0"
            ],
            [
             0.7,
             "#b8e186"
            ],
            [
             0.8,
             "#7fbc41"
            ],
            [
             0.9,
             "#4d9221"
            ],
            [
             1,
             "#276419"
            ]
           ],
           "sequential": [
            [
             0,
             "#0d0887"
            ],
            [
             0.1111111111111111,
             "#46039f"
            ],
            [
             0.2222222222222222,
             "#7201a8"
            ],
            [
             0.3333333333333333,
             "#9c179e"
            ],
            [
             0.4444444444444444,
             "#bd3786"
            ],
            [
             0.5555555555555556,
             "#d8576b"
            ],
            [
             0.6666666666666666,
             "#ed7953"
            ],
            [
             0.7777777777777778,
             "#fb9f3a"
            ],
            [
             0.8888888888888888,
             "#fdca26"
            ],
            [
             1,
             "#f0f921"
            ]
           ],
           "sequentialminus": [
            [
             0,
             "#0d0887"
            ],
            [
             0.1111111111111111,
             "#46039f"
            ],
            [
             0.2222222222222222,
             "#7201a8"
            ],
            [
             0.3333333333333333,
             "#9c179e"
            ],
            [
             0.4444444444444444,
             "#bd3786"
            ],
            [
             0.5555555555555556,
             "#d8576b"
            ],
            [
             0.6666666666666666,
             "#ed7953"
            ],
            [
             0.7777777777777778,
             "#fb9f3a"
            ],
            [
             0.8888888888888888,
             "#fdca26"
            ],
            [
             1,
             "#f0f921"
            ]
           ]
          },
          "colorway": [
           "#636efa",
           "#EF553B",
           "#00cc96",
           "#ab63fa",
           "#FFA15A",
           "#19d3f3",
           "#FF6692",
           "#B6E880",
           "#FF97FF",
           "#FECB52"
          ],
          "font": {
           "color": "#2a3f5f"
          },
          "geo": {
           "bgcolor": "white",
           "lakecolor": "white",
           "landcolor": "#E5ECF6",
           "showlakes": true,
           "showland": true,
           "subunitcolor": "white"
          },
          "hoverlabel": {
           "align": "left"
          },
          "hovermode": "closest",
          "mapbox": {
           "style": "light"
          },
          "paper_bgcolor": "white",
          "plot_bgcolor": "#E5ECF6",
          "polar": {
           "angularaxis": {
            "gridcolor": "white",
            "linecolor": "white",
            "ticks": ""
           },
           "bgcolor": "#E5ECF6",
           "radialaxis": {
            "gridcolor": "white",
            "linecolor": "white",
            "ticks": ""
           }
          },
          "scene": {
           "xaxis": {
            "backgroundcolor": "#E5ECF6",
            "gridcolor": "white",
            "gridwidth": 2,
            "linecolor": "white",
            "showbackground": true,
            "ticks": "",
            "zerolinecolor": "white"
           },
           "yaxis": {
            "backgroundcolor": "#E5ECF6",
            "gridcolor": "white",
            "gridwidth": 2,
            "linecolor": "white",
            "showbackground": true,
            "ticks": "",
            "zerolinecolor": "white"
           },
           "zaxis": {
            "backgroundcolor": "#E5ECF6",
            "gridcolor": "white",
            "gridwidth": 2,
            "linecolor": "white",
            "showbackground": true,
            "ticks": "",
            "zerolinecolor": "white"
           }
          },
          "shapedefaults": {
           "line": {
            "color": "#2a3f5f"
           }
          },
          "ternary": {
           "aaxis": {
            "gridcolor": "white",
            "linecolor": "white",
            "ticks": ""
           },
           "baxis": {
            "gridcolor": "white",
            "linecolor": "white",
            "ticks": ""
           },
           "bgcolor": "#E5ECF6",
           "caxis": {
            "gridcolor": "white",
            "linecolor": "white",
            "ticks": ""
           }
          },
          "title": {
           "x": 0.05
          },
          "xaxis": {
           "automargin": true,
           "gridcolor": "white",
           "linecolor": "white",
           "ticks": "",
           "title": {
            "standoff": 15
           },
           "zerolinecolor": "white",
           "zerolinewidth": 2
          },
          "yaxis": {
           "automargin": true,
           "gridcolor": "white",
           "linecolor": "white",
           "ticks": "",
           "title": {
            "standoff": 15
           },
           "zerolinecolor": "white",
           "zerolinewidth": 2
          }
         }
        },
        "title": {
         "font": {
          "size": 20
         },
         "text": "<b>CHOCOLATE PREDICTION<b>",
         "x": 0.475,
         "xanchor": "center",
         "y": 0.955,
         "yanchor": "top"
        },
        "xaxis": {
         "anchor": "y",
         "domain": [
          0,
          0.45
         ],
         "showgrid": false
        },
        "xaxis2": {
         "anchor": "y2",
         "domain": [
          0.55,
          1
         ],
         "showgrid": false
        },
        "yaxis": {
         "anchor": "x",
         "domain": [
          0,
          1
         ],
         "showgrid": false,
         "title": {
          "font": {
           "size": 14
          },
          "text": "<b>winpercent %</b>"
         }
        },
        "yaxis2": {
         "anchor": "x2",
         "domain": [
          0,
          1
         ],
         "showgrid": false
        }
       }
      }
     },
     "metadata": {},
     "output_type": "display_data"
    }
   ],
   "source": [
    "fig_pred = make_subplots(cols= 2, rows= 1)\n",
    "\n",
    "fig_pred.add_trace(\n",
    " go.Scatter(\n",
    "  x= df_clf_scatter.competitorname,\n",
    "  y= df_clf_scatter.winpercent,\n",
    "  mode= \"markers\",\n",
    "  marker= dict(color= df_clf_scatter.pred_y, colorscale= [(0, px.colors.sequential.amp[8]), (1, px.colors.sequential.speed[8])]),\n",
    "  name= \"Predicited Label\"\n",
    " ),\n",
    " col= 1,\n",
    " row= 1\n",
    ")\n",
    "\n",
    "fig_pred.add_trace(\n",
    " go.Scatter(\n",
    "  x= df_clf_scatter.competitorname,\n",
    "  y= df_clf_scatter.winpercent,\n",
    "  mode= \"markers\",\n",
    "  marker= dict(color= df_clf_scatter.pred_false, colorscale= [(0, px.colors.sequential.amp[8]), (1, \"grey\")]),\n",
    "  name = \"True Label\"\n",
    " ),\n",
    " col= 2,\n",
    " row= 1\n",
    ")\n",
    "\n",
    "fig_pred.update_layout(\n",
    "     title= dict(text= \"<b>CHOCOLATE PREDICTION<b>\", font_size= 20, xanchor= \"center\", yanchor= \"top\", y=0.955, x=0.475),\n",
    "     height= 600,\n",
    "     legend_title_text= \"<b>chocolate</b>\",\n",
    "     legend_title_font_size= 16,\n",
    "     paper_bgcolor='rgba(0,0,0,0)',\n",
    "     plot_bgcolor='rgba(0,0,0,0)',\n",
    "     font= dict(color= \"white\")\n",
    ")\n",
    "\n",
    "fig_pred.update_yaxes(title_text=\"<b>winpercent %</b>\", title_font= dict(size= 14), col=1, row=1, showgrid= False)\n",
    "fig_pred.update_xaxes(showgrid= False)\n",
    "fig_pred.update_yaxes(showgrid= False, col=2, row= 1)\n",
    "fig_pred.update_xaxes(showgrid= False, col=1, row= 1)\n",
    "fig_pred.show()"
   ]
  },
  {
   "attachments": {},
   "cell_type": "markdown",
   "metadata": {},
   "source": [
    "**REGRESSION**\n",
    "\n",
    "Let us now try to predict the winpercentage with our data by regression. Therefore we again make a Basemodel.\n",
    "\n",
    "- we also hope to be able to use the feature_importance of our models later to confirm our findings from the analysis above"
   ]
  },
  {
   "cell_type": "markdown",
   "metadata": {},
   "source": [
    "LinearRegression (Basemodel)"
   ]
  },
  {
   "cell_type": "code",
   "execution_count": 139,
   "metadata": {},
   "outputs": [],
   "source": [
    "df_r = df.copy()"
   ]
  },
  {
   "cell_type": "code",
   "execution_count": 140,
   "metadata": {},
   "outputs": [],
   "source": [
    "X = df_r.drop([\"winpercent\", \"competitorname\"], axis= 1)\n",
    "y= df_r[\"winpercent\"]"
   ]
  },
  {
   "cell_type": "code",
   "execution_count": 141,
   "metadata": {},
   "outputs": [],
   "source": [
    "X_train, X_test, y_train, y_test = train_test_split(X, y, test_size= 0.35, random_state=0)"
   ]
  },
  {
   "cell_type": "code",
   "execution_count": 142,
   "metadata": {},
   "outputs": [],
   "source": [
    "X_train = StandardScaler().fit_transform(X_train)\n",
    "X_test = StandardScaler().fit_transform(X_test)"
   ]
  },
  {
   "cell_type": "code",
   "execution_count": 143,
   "metadata": {},
   "outputs": [],
   "source": [
    "lr_model = LinearRegression(n_jobs= -1).fit(X_train, y_train)"
   ]
  },
  {
   "cell_type": "code",
   "execution_count": 144,
   "metadata": {},
   "outputs": [
    {
     "data": {
      "text/plain": [
       "0.544173686718049"
      ]
     },
     "execution_count": 144,
     "metadata": {},
     "output_type": "execute_result"
    }
   ],
   "source": [
    "lr_model.score(X_train, y_train)"
   ]
  },
  {
   "cell_type": "code",
   "execution_count": 145,
   "metadata": {},
   "outputs": [
    {
     "name": "stdout",
     "output_type": "stream",
     "text": [
      "Train r2: 0.544173686718049\n",
      " Test r2: 0.3328906658802806\n",
      "Train mse: 99.80621879989836\n",
      " Test mse: 133.3192512030649\n"
     ]
    }
   ],
   "source": [
    "y_pred_train_lr_model = lr_model.predict(X_train)\n",
    "y_pred_test_lr_model = lr_model.predict(X_test)\n",
    "\n",
    "print(f\"Train r2: {r2_score(y_train, y_pred_train_lr_model)}\\n Test r2: {r2_score(y_test, y_pred_test_lr_model)}\")\n",
    "print(f\"Train mse: {mean_squared_error(y_train, y_pred_train_lr_model)}\\n Test mse: {mean_squared_error(y_test, y_pred_test_lr_model)}\")"
   ]
  },
  {
   "cell_type": "markdown",
   "metadata": {},
   "source": [
    "Gradient Boosting Regressor"
   ]
  },
  {
   "cell_type": "code",
   "execution_count": 146,
   "metadata": {},
   "outputs": [],
   "source": [
    "gbr = GradientBoostingRegressor(random_state= 0).fit(X_train, y_train)"
   ]
  },
  {
   "cell_type": "code",
   "execution_count": 147,
   "metadata": {},
   "outputs": [
    {
     "data": {
      "text/plain": [
       "0.9391706485789999"
      ]
     },
     "execution_count": 147,
     "metadata": {},
     "output_type": "execute_result"
    }
   ],
   "source": [
    "gbr.score(X_train, y_train)"
   ]
  },
  {
   "cell_type": "code",
   "execution_count": 148,
   "metadata": {},
   "outputs": [
    {
     "name": "stdout",
     "output_type": "stream",
     "text": [
      "Train r2: 0.9391706485789999\n",
      " Test r2: 0.014225975477869524\n",
      "Train mse: 13.318993178932487\n",
      " Test mse: 197.00317186858172\n"
     ]
    }
   ],
   "source": [
    "y_pred_train_gbr = gbr.predict(X_train)\n",
    "y_pred_test_gbr = gbr.predict(X_test)\n",
    "\n",
    "print(f\"Train r2: {r2_score(y_train, y_pred_train_gbr)}\\n Test r2: {r2_score(y_test, y_pred_test_gbr)}\")\n",
    "print(f\"Train mse: {mean_squared_error(y_train, y_pred_train_gbr)}\\n Test mse: {mean_squared_error(y_test, y_pred_test_gbr)}\")"
   ]
  },
  {
   "cell_type": "code",
   "execution_count": 149,
   "metadata": {},
   "outputs": [],
   "source": [
    "feature_importances_gbr = pd.DataFrame.from_dict(dict(zip(X.columns, gbr.feature_importances_)), orient= \"index\", columns= [\"feature_importance\"])\n",
    "\n",
    "df_feature_imp_gbr = feature_importances_gbr.reset_index().rename(columns= {\"index\": \"feature\"})"
   ]
  },
  {
   "cell_type": "code",
   "execution_count": 150,
   "metadata": {},
   "outputs": [
    {
     "data": {
      "text/html": [
       "<div>\n",
       "<style scoped>\n",
       "    .dataframe tbody tr th:only-of-type {\n",
       "        vertical-align: middle;\n",
       "    }\n",
       "\n",
       "    .dataframe tbody tr th {\n",
       "        vertical-align: top;\n",
       "    }\n",
       "\n",
       "    .dataframe thead th {\n",
       "        text-align: right;\n",
       "    }\n",
       "</style>\n",
       "<table border=\"1\" class=\"dataframe\">\n",
       "  <thead>\n",
       "    <tr style=\"text-align: right;\">\n",
       "      <th></th>\n",
       "      <th>feature</th>\n",
       "      <th>feature_importance</th>\n",
       "    </tr>\n",
       "  </thead>\n",
       "  <tbody>\n",
       "    <tr>\n",
       "      <th>0</th>\n",
       "      <td>chocolate</td>\n",
       "      <td>0.453898</td>\n",
       "    </tr>\n",
       "    <tr>\n",
       "      <th>1</th>\n",
       "      <td>fruity</td>\n",
       "      <td>0.026437</td>\n",
       "    </tr>\n",
       "    <tr>\n",
       "      <th>2</th>\n",
       "      <td>caramel</td>\n",
       "      <td>0.034531</td>\n",
       "    </tr>\n",
       "    <tr>\n",
       "      <th>3</th>\n",
       "      <td>peanutyalmondy</td>\n",
       "      <td>0.027182</td>\n",
       "    </tr>\n",
       "    <tr>\n",
       "      <th>4</th>\n",
       "      <td>nougat</td>\n",
       "      <td>0.003562</td>\n",
       "    </tr>\n",
       "    <tr>\n",
       "      <th>5</th>\n",
       "      <td>crispedricewafer</td>\n",
       "      <td>0.050711</td>\n",
       "    </tr>\n",
       "    <tr>\n",
       "      <th>6</th>\n",
       "      <td>hard</td>\n",
       "      <td>0.005938</td>\n",
       "    </tr>\n",
       "    <tr>\n",
       "      <th>7</th>\n",
       "      <td>bar</td>\n",
       "      <td>0.002513</td>\n",
       "    </tr>\n",
       "    <tr>\n",
       "      <th>8</th>\n",
       "      <td>pluribus</td>\n",
       "      <td>0.009295</td>\n",
       "    </tr>\n",
       "    <tr>\n",
       "      <th>9</th>\n",
       "      <td>sugarpercent</td>\n",
       "      <td>0.115806</td>\n",
       "    </tr>\n",
       "    <tr>\n",
       "      <th>10</th>\n",
       "      <td>pricepercent</td>\n",
       "      <td>0.270126</td>\n",
       "    </tr>\n",
       "  </tbody>\n",
       "</table>\n",
       "</div>"
      ],
      "text/plain": [
       "             feature  feature_importance\n",
       "0          chocolate            0.453898\n",
       "1             fruity            0.026437\n",
       "2            caramel            0.034531\n",
       "3     peanutyalmondy            0.027182\n",
       "4             nougat            0.003562\n",
       "5   crispedricewafer            0.050711\n",
       "6               hard            0.005938\n",
       "7                bar            0.002513\n",
       "8           pluribus            0.009295\n",
       "9       sugarpercent            0.115806\n",
       "10      pricepercent            0.270126"
      ]
     },
     "execution_count": 150,
     "metadata": {},
     "output_type": "execute_result"
    }
   ],
   "source": [
    "df_feature_imp_gbr"
   ]
  },
  {
   "cell_type": "markdown",
   "metadata": {},
   "source": [
    "Random Forest Regressor"
   ]
  },
  {
   "cell_type": "code",
   "execution_count": 151,
   "metadata": {},
   "outputs": [],
   "source": [
    "rfr = RandomForestRegressor().fit(X_train, y_train)"
   ]
  },
  {
   "cell_type": "code",
   "execution_count": 152,
   "metadata": {},
   "outputs": [
    {
     "data": {
      "text/plain": [
       "0.8658458073144762"
      ]
     },
     "execution_count": 152,
     "metadata": {},
     "output_type": "execute_result"
    }
   ],
   "source": [
    "rfr.score(X_train, y_train)"
   ]
  },
  {
   "cell_type": "code",
   "execution_count": 153,
   "metadata": {},
   "outputs": [
    {
     "name": "stdout",
     "output_type": "stream",
     "text": [
      "Train r2: 0.8658458073144762\n",
      " Test r2: 0.44321912286793974\n",
      "Train mse: 29.373957399894753\n",
      " Test mse: 111.27053067152966\n"
     ]
    }
   ],
   "source": [
    "y_pred_train_rfr = rfr.predict(X_train)\n",
    "y_pred_test_rfr = rfr.predict(X_test)\n",
    "\n",
    "print(f\"Train r2: {r2_score(y_train, y_pred_train_rfr)}\\n Test r2: {r2_score(y_test, y_pred_test_rfr)}\")\n",
    "print(f\"Train mse: {mean_squared_error(y_train, y_pred_train_rfr)}\\n Test mse: {mean_squared_error(y_test, y_pred_test_rfr)}\")"
   ]
  },
  {
   "cell_type": "code",
   "execution_count": 154,
   "metadata": {},
   "outputs": [],
   "source": [
    "feature_importances_rfr = pd.DataFrame.from_dict(dict(zip(X.columns, rfr.feature_importances_)), orient= \"index\", columns= [\"feature_importance\"])\n",
    "\n",
    "df_feature_imp_rfr = feature_importances_rfr.reset_index().rename(columns= {\"index\": \"feature\"})"
   ]
  },
  {
   "cell_type": "code",
   "execution_count": 155,
   "metadata": {},
   "outputs": [
    {
     "data": {
      "text/html": [
       "<div>\n",
       "<style scoped>\n",
       "    .dataframe tbody tr th:only-of-type {\n",
       "        vertical-align: middle;\n",
       "    }\n",
       "\n",
       "    .dataframe tbody tr th {\n",
       "        vertical-align: top;\n",
       "    }\n",
       "\n",
       "    .dataframe thead th {\n",
       "        text-align: right;\n",
       "    }\n",
       "</style>\n",
       "<table border=\"1\" class=\"dataframe\">\n",
       "  <thead>\n",
       "    <tr style=\"text-align: right;\">\n",
       "      <th></th>\n",
       "      <th>feature</th>\n",
       "      <th>feature_importance</th>\n",
       "    </tr>\n",
       "  </thead>\n",
       "  <tbody>\n",
       "    <tr>\n",
       "      <th>0</th>\n",
       "      <td>chocolate</td>\n",
       "      <td>0.441450</td>\n",
       "    </tr>\n",
       "    <tr>\n",
       "      <th>1</th>\n",
       "      <td>fruity</td>\n",
       "      <td>0.025326</td>\n",
       "    </tr>\n",
       "    <tr>\n",
       "      <th>2</th>\n",
       "      <td>caramel</td>\n",
       "      <td>0.040398</td>\n",
       "    </tr>\n",
       "    <tr>\n",
       "      <th>3</th>\n",
       "      <td>peanutyalmondy</td>\n",
       "      <td>0.024159</td>\n",
       "    </tr>\n",
       "    <tr>\n",
       "      <th>4</th>\n",
       "      <td>nougat</td>\n",
       "      <td>0.007886</td>\n",
       "    </tr>\n",
       "    <tr>\n",
       "      <th>5</th>\n",
       "      <td>crispedricewafer</td>\n",
       "      <td>0.026664</td>\n",
       "    </tr>\n",
       "    <tr>\n",
       "      <th>6</th>\n",
       "      <td>hard</td>\n",
       "      <td>0.012895</td>\n",
       "    </tr>\n",
       "    <tr>\n",
       "      <th>7</th>\n",
       "      <td>bar</td>\n",
       "      <td>0.011901</td>\n",
       "    </tr>\n",
       "    <tr>\n",
       "      <th>8</th>\n",
       "      <td>pluribus</td>\n",
       "      <td>0.022654</td>\n",
       "    </tr>\n",
       "    <tr>\n",
       "      <th>9</th>\n",
       "      <td>sugarpercent</td>\n",
       "      <td>0.181396</td>\n",
       "    </tr>\n",
       "    <tr>\n",
       "      <th>10</th>\n",
       "      <td>pricepercent</td>\n",
       "      <td>0.205269</td>\n",
       "    </tr>\n",
       "  </tbody>\n",
       "</table>\n",
       "</div>"
      ],
      "text/plain": [
       "             feature  feature_importance\n",
       "0          chocolate            0.441450\n",
       "1             fruity            0.025326\n",
       "2            caramel            0.040398\n",
       "3     peanutyalmondy            0.024159\n",
       "4             nougat            0.007886\n",
       "5   crispedricewafer            0.026664\n",
       "6               hard            0.012895\n",
       "7                bar            0.011901\n",
       "8           pluribus            0.022654\n",
       "9       sugarpercent            0.181396\n",
       "10      pricepercent            0.205269"
      ]
     },
     "execution_count": 155,
     "metadata": {},
     "output_type": "execute_result"
    }
   ],
   "source": [
    "df_feature_imp_rfr"
   ]
  },
  {
   "attachments": {},
   "cell_type": "markdown",
   "metadata": {},
   "source": [
    "Plotting our predicted label in comparison to our true label of winpercent:"
   ]
  },
  {
   "cell_type": "code",
   "execution_count": 156,
   "metadata": {},
   "outputs": [],
   "source": [
    "df_r_pred = df_r.copy()"
   ]
  },
  {
   "cell_type": "code",
   "execution_count": 157,
   "metadata": {},
   "outputs": [
    {
     "name": "stderr",
     "output_type": "stream",
     "text": [
      "/Library/Frameworks/Python.framework/Versions/3.9/lib/python3.9/site-packages/sklearn/base.py:443: UserWarning:\n",
      "\n",
      "X has feature names, but RandomForestRegressor was fitted without feature names\n",
      "\n"
     ]
    }
   ],
   "source": [
    "df_r_pred[\"y_pred\"] = rfr.predict(X)"
   ]
  },
  {
   "cell_type": "code",
   "execution_count": 158,
   "metadata": {},
   "outputs": [
    {
     "data": {
      "application/vnd.plotly.v1+json": {
       "config": {
        "plotlyServerURL": "https://plot.ly"
       },
       "data": [
        {
         "marker": {
          "color": "grey"
         },
         "mode": "lines+markers",
         "name": "True Label",
         "type": "scatter",
         "x": [
          "100 Grand",
          "3 Musketeers",
          "One dime",
          "One quarter",
          "Air Heads",
          "Almond Joy",
          "Baby Ruth",
          "Boston Baked Beans",
          "Candy Corn",
          "Caramel Apple Pops",
          "Charleston Chew",
          "Chewey Lemonhead Fruit Mix",
          "Chiclets",
          "Dots",
          "Dum Dums",
          "Fruit Chews",
          "Fun Dip",
          "Gobstopper",
          "Haribo Gold Bears",
          "Haribo Happy Cola",
          "Haribo Sour Bears",
          "Haribo Twin Snakes",
          "Hershey's Kisses",
          "Hershey's Krackel",
          "Hershey's Milk Chocolate",
          "Hershey's Special Dark",
          "Jawbusters",
          "Junior Mints",
          "Kit Kat",
          "Laffy Taffy",
          "Lemonhead",
          "Lifesavers big ring gummies",
          "Peanut butter M&M's",
          "M&M's",
          "Mike & Ike",
          "Milk Duds",
          "Milky Way",
          "Milky Way Midnight",
          "Milky Way Simply Caramel",
          "Mounds",
          "Mr Good Bar",
          "Nerds",
          "Nestle Butterfinger",
          "Nestle Crunch",
          "Nik L Nip",
          "Now & Later",
          "Payday",
          "Peanut M&Ms",
          "Pixie Sticks",
          "Pop Rocks",
          "Red vines",
          "Reese's Miniatures",
          "Reese's Peanut Butter cup",
          "Reese's pieces",
          "Reese's stuffed with pieces",
          "Ring pop",
          "Rolo",
          "Root Beer Barrels",
          "Runts",
          "Sixlets",
          "Skittles original",
          "Skittles wildberry",
          "Nestle Smarties",
          "Smarties candy",
          "Snickers",
          "Snickers Crisper",
          "Sour Patch Kids",
          "Sour Patch Tricksters",
          "Starburst",
          "Strawberry bon bons",
          "Sugar Babies",
          "Sugar Daddy",
          "Super Bubble",
          "Swedish Fish",
          "Tootsie Pop",
          "Tootsie Roll Juniors",
          "Tootsie Roll Midgies",
          "Tootsie Roll Snack Bars",
          "Trolli Sour Bites",
          "Twix",
          "Twizzlers",
          "Warheads",
          "Welch's Fruit Snacks",
          "Werther's Original Caramel",
          "Whoppers"
         ],
         "y": [
          66.971725,
          67.602936,
          32.261086,
          46.116505,
          52.341465,
          50.347546,
          56.914547,
          23.417824,
          38.010963,
          34.517681,
          38.975037,
          36.017628,
          24.524988,
          42.272076,
          39.460556,
          43.088924,
          39.185505,
          46.783348,
          57.11974,
          34.158958,
          51.41243,
          42.178772,
          55.375454,
          62.284481,
          56.490501,
          59.236122,
          28.127439,
          57.21925,
          76.7686,
          41.389557,
          39.141056,
          52.911392,
          71.46505,
          66.574585,
          46.411716,
          55.064072,
          73.099556,
          60.800701,
          64.35334,
          47.829754,
          54.526451,
          55.354046,
          70.735641,
          66.47068,
          22.445341,
          39.4468,
          46.296597,
          69.483788,
          37.722336,
          41.265511,
          37.348522,
          81.866257,
          84.18029,
          73.43499,
          72.887901,
          35.290756,
          65.716286,
          29.703691,
          42.849144,
          34.722,
          63.08514,
          55.103695,
          37.887188,
          45.995827,
          76.673782,
          59.529251,
          59.863998,
          52.825947,
          67.037628,
          34.578991,
          33.43755,
          32.230995,
          27.303865,
          54.861111,
          48.982651,
          43.068897,
          45.736748,
          49.653503,
          47.173229,
          81.642914,
          45.466282,
          39.011898,
          44.375519,
          41.904308,
          49.524113
         ]
        },
        {
         "marker": {
          "color": "rgb(149, 19, 39)"
         },
         "mode": "lines+markers",
         "name": "Predicited Label",
         "type": "scatter",
         "x": [
          "100 Grand",
          "3 Musketeers",
          "One dime",
          "One quarter",
          "Air Heads",
          "Almond Joy",
          "Baby Ruth",
          "Boston Baked Beans",
          "Candy Corn",
          "Caramel Apple Pops",
          "Charleston Chew",
          "Chewey Lemonhead Fruit Mix",
          "Chiclets",
          "Dots",
          "Dum Dums",
          "Fruit Chews",
          "Fun Dip",
          "Gobstopper",
          "Haribo Gold Bears",
          "Haribo Happy Cola",
          "Haribo Sour Bears",
          "Haribo Twin Snakes",
          "Hershey's Kisses",
          "Hershey's Krackel",
          "Hershey's Milk Chocolate",
          "Hershey's Special Dark",
          "Jawbusters",
          "Junior Mints",
          "Kit Kat",
          "Laffy Taffy",
          "Lemonhead",
          "Lifesavers big ring gummies",
          "Peanut butter M&M's",
          "M&M's",
          "Mike & Ike",
          "Milk Duds",
          "Milky Way",
          "Milky Way Midnight",
          "Milky Way Simply Caramel",
          "Mounds",
          "Mr Good Bar",
          "Nerds",
          "Nestle Butterfinger",
          "Nestle Crunch",
          "Nik L Nip",
          "Now & Later",
          "Payday",
          "Peanut M&Ms",
          "Pixie Sticks",
          "Pop Rocks",
          "Red vines",
          "Reese's Miniatures",
          "Reese's Peanut Butter cup",
          "Reese's pieces",
          "Reese's stuffed with pieces",
          "Ring pop",
          "Rolo",
          "Root Beer Barrels",
          "Runts",
          "Sixlets",
          "Skittles original",
          "Skittles wildberry",
          "Nestle Smarties",
          "Smarties candy",
          "Snickers",
          "Snickers Crisper",
          "Sour Patch Kids",
          "Sour Patch Tricksters",
          "Starburst",
          "Strawberry bon bons",
          "Sugar Babies",
          "Sugar Daddy",
          "Super Bubble",
          "Swedish Fish",
          "Tootsie Pop",
          "Tootsie Roll Juniors",
          "Tootsie Roll Midgies",
          "Tootsie Roll Snack Bars",
          "Trolli Sour Bites",
          "Twix",
          "Twizzlers",
          "Warheads",
          "Welch's Fruit Snacks",
          "Werther's Original Caramel",
          "Whoppers"
         ],
         "y": [
          65.73087549000005,
          62.686516905000026,
          38.095258854333345,
          40.715952616000024,
          45.48850391633337,
          60.20195927999998,
          64.08611299999995,
          42.740979510000024,
          35.73597114000003,
          41.87429392266668,
          62.686516905000026,
          45.48850391633337,
          48.043064567833355,
          45.48850391633337,
          41.46609835300004,
          48.043064567833355,
          41.414636303000044,
          42.186761946333384,
          47.23789382300004,
          38.61777421000002,
          47.23789382300004,
          47.23789382300004,
          61.15390856600001,
          57.41733092500001,
          57.41733092500001,
          57.41733092500001,
          51.52654155733339,
          66.21333612,
          63.977676870000025,
          46.38513581183336,
          48.043064567833355,
          46.38513581183336,
          68.26539633499992,
          63.89481047999997,
          41.414636303000044,
          67.02577591499998,
          67.20711437500005,
          66.80485417000004,
          65.68319040000002,
          58.75137976500002,
          59.76800690999998,
          41.414636303000044,
          60.20195927999998,
          58.75137976500002,
          49.461930536333384,
          46.33367376183336,
          41.99106977000003,
          67.60936029499996,
          38.095258854333345,
          50.60931505633339,
          46.00316569183335,
          64.16847584499999,
          67.94728845499998,
          68.14396006499996,
          68.22772131499991,
          44.34810844633336,
          65.7214953,
          35.829754180000016,
          41.46609835300004,
          61.10430837000002,
          41.35901811300005,
          41.35901811300005,
          59.98264192500001,
          46.38513581183336,
          66.94328663999995,
          66.94328663999995,
          48.043064567833355,
          48.043064567833355,
          46.38513581183336,
          46.00316569183335,
          36.50353553000004,
          35.52950235333335,
          46.38513581183336,
          50.60931505633339,
          63.03482269166667,
          64.38224678000002,
          60.95628724000002,
          62.66095320000002,
          46.38513581183336,
          65.65665843500004,
          46.38513581183336,
          48.043064567833355,
          46.33367376183336,
          35.68468857333334,
          59.62492277999998
         ]
        }
       ],
       "layout": {
        "font": {
         "color": "white"
        },
        "height": 600,
        "legend": {
         "title": {
          "font": {
           "size": 16
          },
          "text": "<b>WINPERCENT</b>"
         }
        },
        "paper_bgcolor": "rgba(0,0,0,0)",
        "plot_bgcolor": "rgba(0,0,0,0)",
        "template": {
         "data": {
          "bar": [
           {
            "error_x": {
             "color": "#2a3f5f"
            },
            "error_y": {
             "color": "#2a3f5f"
            },
            "marker": {
             "line": {
              "color": "#E5ECF6",
              "width": 0.5
             },
             "pattern": {
              "fillmode": "overlay",
              "size": 10,
              "solidity": 0.2
             }
            },
            "type": "bar"
           }
          ],
          "barpolar": [
           {
            "marker": {
             "line": {
              "color": "#E5ECF6",
              "width": 0.5
             },
             "pattern": {
              "fillmode": "overlay",
              "size": 10,
              "solidity": 0.2
             }
            },
            "type": "barpolar"
           }
          ],
          "carpet": [
           {
            "aaxis": {
             "endlinecolor": "#2a3f5f",
             "gridcolor": "white",
             "linecolor": "white",
             "minorgridcolor": "white",
             "startlinecolor": "#2a3f5f"
            },
            "baxis": {
             "endlinecolor": "#2a3f5f",
             "gridcolor": "white",
             "linecolor": "white",
             "minorgridcolor": "white",
             "startlinecolor": "#2a3f5f"
            },
            "type": "carpet"
           }
          ],
          "choropleth": [
           {
            "colorbar": {
             "outlinewidth": 0,
             "ticks": ""
            },
            "type": "choropleth"
           }
          ],
          "contour": [
           {
            "colorbar": {
             "outlinewidth": 0,
             "ticks": ""
            },
            "colorscale": [
             [
              0,
              "#0d0887"
             ],
             [
              0.1111111111111111,
              "#46039f"
             ],
             [
              0.2222222222222222,
              "#7201a8"
             ],
             [
              0.3333333333333333,
              "#9c179e"
             ],
             [
              0.4444444444444444,
              "#bd3786"
             ],
             [
              0.5555555555555556,
              "#d8576b"
             ],
             [
              0.6666666666666666,
              "#ed7953"
             ],
             [
              0.7777777777777778,
              "#fb9f3a"
             ],
             [
              0.8888888888888888,
              "#fdca26"
             ],
             [
              1,
              "#f0f921"
             ]
            ],
            "type": "contour"
           }
          ],
          "contourcarpet": [
           {
            "colorbar": {
             "outlinewidth": 0,
             "ticks": ""
            },
            "type": "contourcarpet"
           }
          ],
          "heatmap": [
           {
            "colorbar": {
             "outlinewidth": 0,
             "ticks": ""
            },
            "colorscale": [
             [
              0,
              "#0d0887"
             ],
             [
              0.1111111111111111,
              "#46039f"
             ],
             [
              0.2222222222222222,
              "#7201a8"
             ],
             [
              0.3333333333333333,
              "#9c179e"
             ],
             [
              0.4444444444444444,
              "#bd3786"
             ],
             [
              0.5555555555555556,
              "#d8576b"
             ],
             [
              0.6666666666666666,
              "#ed7953"
             ],
             [
              0.7777777777777778,
              "#fb9f3a"
             ],
             [
              0.8888888888888888,
              "#fdca26"
             ],
             [
              1,
              "#f0f921"
             ]
            ],
            "type": "heatmap"
           }
          ],
          "heatmapgl": [
           {
            "colorbar": {
             "outlinewidth": 0,
             "ticks": ""
            },
            "colorscale": [
             [
              0,
              "#0d0887"
             ],
             [
              0.1111111111111111,
              "#46039f"
             ],
             [
              0.2222222222222222,
              "#7201a8"
             ],
             [
              0.3333333333333333,
              "#9c179e"
             ],
             [
              0.4444444444444444,
              "#bd3786"
             ],
             [
              0.5555555555555556,
              "#d8576b"
             ],
             [
              0.6666666666666666,
              "#ed7953"
             ],
             [
              0.7777777777777778,
              "#fb9f3a"
             ],
             [
              0.8888888888888888,
              "#fdca26"
             ],
             [
              1,
              "#f0f921"
             ]
            ],
            "type": "heatmapgl"
           }
          ],
          "histogram": [
           {
            "marker": {
             "pattern": {
              "fillmode": "overlay",
              "size": 10,
              "solidity": 0.2
             }
            },
            "type": "histogram"
           }
          ],
          "histogram2d": [
           {
            "colorbar": {
             "outlinewidth": 0,
             "ticks": ""
            },
            "colorscale": [
             [
              0,
              "#0d0887"
             ],
             [
              0.1111111111111111,
              "#46039f"
             ],
             [
              0.2222222222222222,
              "#7201a8"
             ],
             [
              0.3333333333333333,
              "#9c179e"
             ],
             [
              0.4444444444444444,
              "#bd3786"
             ],
             [
              0.5555555555555556,
              "#d8576b"
             ],
             [
              0.6666666666666666,
              "#ed7953"
             ],
             [
              0.7777777777777778,
              "#fb9f3a"
             ],
             [
              0.8888888888888888,
              "#fdca26"
             ],
             [
              1,
              "#f0f921"
             ]
            ],
            "type": "histogram2d"
           }
          ],
          "histogram2dcontour": [
           {
            "colorbar": {
             "outlinewidth": 0,
             "ticks": ""
            },
            "colorscale": [
             [
              0,
              "#0d0887"
             ],
             [
              0.1111111111111111,
              "#46039f"
             ],
             [
              0.2222222222222222,
              "#7201a8"
             ],
             [
              0.3333333333333333,
              "#9c179e"
             ],
             [
              0.4444444444444444,
              "#bd3786"
             ],
             [
              0.5555555555555556,
              "#d8576b"
             ],
             [
              0.6666666666666666,
              "#ed7953"
             ],
             [
              0.7777777777777778,
              "#fb9f3a"
             ],
             [
              0.8888888888888888,
              "#fdca26"
             ],
             [
              1,
              "#f0f921"
             ]
            ],
            "type": "histogram2dcontour"
           }
          ],
          "mesh3d": [
           {
            "colorbar": {
             "outlinewidth": 0,
             "ticks": ""
            },
            "type": "mesh3d"
           }
          ],
          "parcoords": [
           {
            "line": {
             "colorbar": {
              "outlinewidth": 0,
              "ticks": ""
             }
            },
            "type": "parcoords"
           }
          ],
          "pie": [
           {
            "automargin": true,
            "type": "pie"
           }
          ],
          "scatter": [
           {
            "fillpattern": {
             "fillmode": "overlay",
             "size": 10,
             "solidity": 0.2
            },
            "type": "scatter"
           }
          ],
          "scatter3d": [
           {
            "line": {
             "colorbar": {
              "outlinewidth": 0,
              "ticks": ""
             }
            },
            "marker": {
             "colorbar": {
              "outlinewidth": 0,
              "ticks": ""
             }
            },
            "type": "scatter3d"
           }
          ],
          "scattercarpet": [
           {
            "marker": {
             "colorbar": {
              "outlinewidth": 0,
              "ticks": ""
             }
            },
            "type": "scattercarpet"
           }
          ],
          "scattergeo": [
           {
            "marker": {
             "colorbar": {
              "outlinewidth": 0,
              "ticks": ""
             }
            },
            "type": "scattergeo"
           }
          ],
          "scattergl": [
           {
            "marker": {
             "colorbar": {
              "outlinewidth": 0,
              "ticks": ""
             }
            },
            "type": "scattergl"
           }
          ],
          "scattermapbox": [
           {
            "marker": {
             "colorbar": {
              "outlinewidth": 0,
              "ticks": ""
             }
            },
            "type": "scattermapbox"
           }
          ],
          "scatterpolar": [
           {
            "marker": {
             "colorbar": {
              "outlinewidth": 0,
              "ticks": ""
             }
            },
            "type": "scatterpolar"
           }
          ],
          "scatterpolargl": [
           {
            "marker": {
             "colorbar": {
              "outlinewidth": 0,
              "ticks": ""
             }
            },
            "type": "scatterpolargl"
           }
          ],
          "scatterternary": [
           {
            "marker": {
             "colorbar": {
              "outlinewidth": 0,
              "ticks": ""
             }
            },
            "type": "scatterternary"
           }
          ],
          "surface": [
           {
            "colorbar": {
             "outlinewidth": 0,
             "ticks": ""
            },
            "colorscale": [
             [
              0,
              "#0d0887"
             ],
             [
              0.1111111111111111,
              "#46039f"
             ],
             [
              0.2222222222222222,
              "#7201a8"
             ],
             [
              0.3333333333333333,
              "#9c179e"
             ],
             [
              0.4444444444444444,
              "#bd3786"
             ],
             [
              0.5555555555555556,
              "#d8576b"
             ],
             [
              0.6666666666666666,
              "#ed7953"
             ],
             [
              0.7777777777777778,
              "#fb9f3a"
             ],
             [
              0.8888888888888888,
              "#fdca26"
             ],
             [
              1,
              "#f0f921"
             ]
            ],
            "type": "surface"
           }
          ],
          "table": [
           {
            "cells": {
             "fill": {
              "color": "#EBF0F8"
             },
             "line": {
              "color": "white"
             }
            },
            "header": {
             "fill": {
              "color": "#C8D4E3"
             },
             "line": {
              "color": "white"
             }
            },
            "type": "table"
           }
          ]
         },
         "layout": {
          "annotationdefaults": {
           "arrowcolor": "#2a3f5f",
           "arrowhead": 0,
           "arrowwidth": 1
          },
          "autotypenumbers": "strict",
          "coloraxis": {
           "colorbar": {
            "outlinewidth": 0,
            "ticks": ""
           }
          },
          "colorscale": {
           "diverging": [
            [
             0,
             "#8e0152"
            ],
            [
             0.1,
             "#c51b7d"
            ],
            [
             0.2,
             "#de77ae"
            ],
            [
             0.3,
             "#f1b6da"
            ],
            [
             0.4,
             "#fde0ef"
            ],
            [
             0.5,
             "#f7f7f7"
            ],
            [
             0.6,
             "#e6f5d0"
            ],
            [
             0.7,
             "#b8e186"
            ],
            [
             0.8,
             "#7fbc41"
            ],
            [
             0.9,
             "#4d9221"
            ],
            [
             1,
             "#276419"
            ]
           ],
           "sequential": [
            [
             0,
             "#0d0887"
            ],
            [
             0.1111111111111111,
             "#46039f"
            ],
            [
             0.2222222222222222,
             "#7201a8"
            ],
            [
             0.3333333333333333,
             "#9c179e"
            ],
            [
             0.4444444444444444,
             "#bd3786"
            ],
            [
             0.5555555555555556,
             "#d8576b"
            ],
            [
             0.6666666666666666,
             "#ed7953"
            ],
            [
             0.7777777777777778,
             "#fb9f3a"
            ],
            [
             0.8888888888888888,
             "#fdca26"
            ],
            [
             1,
             "#f0f921"
            ]
           ],
           "sequentialminus": [
            [
             0,
             "#0d0887"
            ],
            [
             0.1111111111111111,
             "#46039f"
            ],
            [
             0.2222222222222222,
             "#7201a8"
            ],
            [
             0.3333333333333333,
             "#9c179e"
            ],
            [
             0.4444444444444444,
             "#bd3786"
            ],
            [
             0.5555555555555556,
             "#d8576b"
            ],
            [
             0.6666666666666666,
             "#ed7953"
            ],
            [
             0.7777777777777778,
             "#fb9f3a"
            ],
            [
             0.8888888888888888,
             "#fdca26"
            ],
            [
             1,
             "#f0f921"
            ]
           ]
          },
          "colorway": [
           "#636efa",
           "#EF553B",
           "#00cc96",
           "#ab63fa",
           "#FFA15A",
           "#19d3f3",
           "#FF6692",
           "#B6E880",
           "#FF97FF",
           "#FECB52"
          ],
          "font": {
           "color": "#2a3f5f"
          },
          "geo": {
           "bgcolor": "white",
           "lakecolor": "white",
           "landcolor": "#E5ECF6",
           "showlakes": true,
           "showland": true,
           "subunitcolor": "white"
          },
          "hoverlabel": {
           "align": "left"
          },
          "hovermode": "closest",
          "mapbox": {
           "style": "light"
          },
          "paper_bgcolor": "white",
          "plot_bgcolor": "#E5ECF6",
          "polar": {
           "angularaxis": {
            "gridcolor": "white",
            "linecolor": "white",
            "ticks": ""
           },
           "bgcolor": "#E5ECF6",
           "radialaxis": {
            "gridcolor": "white",
            "linecolor": "white",
            "ticks": ""
           }
          },
          "scene": {
           "xaxis": {
            "backgroundcolor": "#E5ECF6",
            "gridcolor": "white",
            "gridwidth": 2,
            "linecolor": "white",
            "showbackground": true,
            "ticks": "",
            "zerolinecolor": "white"
           },
           "yaxis": {
            "backgroundcolor": "#E5ECF6",
            "gridcolor": "white",
            "gridwidth": 2,
            "linecolor": "white",
            "showbackground": true,
            "ticks": "",
            "zerolinecolor": "white"
           },
           "zaxis": {
            "backgroundcolor": "#E5ECF6",
            "gridcolor": "white",
            "gridwidth": 2,
            "linecolor": "white",
            "showbackground": true,
            "ticks": "",
            "zerolinecolor": "white"
           }
          },
          "shapedefaults": {
           "line": {
            "color": "#2a3f5f"
           }
          },
          "ternary": {
           "aaxis": {
            "gridcolor": "white",
            "linecolor": "white",
            "ticks": ""
           },
           "baxis": {
            "gridcolor": "white",
            "linecolor": "white",
            "ticks": ""
           },
           "bgcolor": "#E5ECF6",
           "caxis": {
            "gridcolor": "white",
            "linecolor": "white",
            "ticks": ""
           }
          },
          "title": {
           "x": 0.05
          },
          "xaxis": {
           "automargin": true,
           "gridcolor": "white",
           "linecolor": "white",
           "ticks": "",
           "title": {
            "standoff": 15
           },
           "zerolinecolor": "white",
           "zerolinewidth": 2
          },
          "yaxis": {
           "automargin": true,
           "gridcolor": "white",
           "linecolor": "white",
           "ticks": "",
           "title": {
            "standoff": 15
           },
           "zerolinecolor": "white",
           "zerolinewidth": 2
          }
         }
        },
        "title": {
         "font": {
          "size": 20
         },
         "text": "<b>WINPERCENT PREDICTION<b>",
         "x": 0.475,
         "xanchor": "center",
         "y": 0.955,
         "yanchor": "top"
        },
        "xaxis": {
         "showgrid": false,
         "title": {
          "font": {
           "size": 14
          }
         }
        },
        "yaxis": {
         "showgrid": false,
         "title": {
          "font": {
           "size": 14
          },
          "text": "<b>winpercent %</b>"
         }
        }
       }
      }
     },
     "metadata": {},
     "output_type": "display_data"
    }
   ],
   "source": [
    "fig_pred = go.Figure()\n",
    "\n",
    "fig_pred.add_trace(\n",
    " go.Scatter(\n",
    "  x= df_r_pred.competitorname,\n",
    "  y= df_r_pred.winpercent,\n",
    "  mode= 'lines+markers',\n",
    "  marker= dict(color= \"grey\"),\n",
    "  name= \"True Label\"\n",
    " )\n",
    ")\n",
    "\n",
    "fig_pred.add_trace(\n",
    " go.Scatter(\n",
    "  x= df_r_pred.competitorname,\n",
    "  y= df_r_pred.y_pred,\n",
    "  mode= 'lines+markers',\n",
    "  name = \"Predicited Label\",\n",
    "  marker= dict(color= px.colors.sequential.amp[8])\n",
    " )\n",
    ")\n",
    "\n",
    "fig_pred.update_layout(\n",
    "     title= dict(text= \"<b>WINPERCENT PREDICTION<b>\", font_size= 20, xanchor= \"center\", yanchor= \"top\", y=0.955, x=0.475),\n",
    "     height= 600,\n",
    "     legend_title_text= \"<b>WINPERCENT</b>\",\n",
    "     legend_title_font_size= 16,\n",
    "     paper_bgcolor='rgba(0,0,0,0)',\n",
    "     plot_bgcolor='rgba(0,0,0,0)',\n",
    "     font= dict(color= \"white\")\n",
    ")\n",
    "\n",
    "fig_pred.update_yaxes(title_text=\"<b>winpercent %</b>\", title_font= dict(size= 14), showgrid= False)\n",
    "fig_pred.update_xaxes(title_font= dict(size= 14), showgrid= False)\n",
    "fig_pred.show()"
   ]
  },
  {
   "attachments": {},
   "cell_type": "markdown",
   "metadata": {},
   "source": [
    "As you can see, we don't really get usable values from our models. Even with GradientBoostingRegressor and RandomForestRegressor we only get acceptable values, and both tend to overfit. However, the feature_importance of our models confirms the findings in the analysis from above. \n",
    "\n",
    "- We can see that the attribute chocolate is of extreme importance for the prediction. even if our models are only acceptable, they would be even worse without the attribute."
   ]
  },
  {
   "cell_type": "code",
   "execution_count": 159,
   "metadata": {},
   "outputs": [],
   "source": [
    "df_rc = df.copy()"
   ]
  },
  {
   "cell_type": "code",
   "execution_count": 160,
   "metadata": {},
   "outputs": [],
   "source": [
    "X = df_rc.drop([\"winpercent\", \"competitorname\", \"chocolate\"], axis= 1)\n",
    "y = df_rc[\"winpercent\"]"
   ]
  },
  {
   "cell_type": "code",
   "execution_count": 161,
   "metadata": {},
   "outputs": [],
   "source": [
    "X_train, X_test, y_train, y_test = train_test_split(X, y, test_size= 0.35, random_state=0)"
   ]
  },
  {
   "cell_type": "code",
   "execution_count": 162,
   "metadata": {},
   "outputs": [],
   "source": [
    "X_train = StandardScaler().fit_transform(X_train)\n",
    "X_test = StandardScaler().fit_transform(X_test)"
   ]
  },
  {
   "cell_type": "code",
   "execution_count": 163,
   "metadata": {},
   "outputs": [],
   "source": [
    "rfr_c = RandomForestRegressor().fit(X_train, y_train)"
   ]
  },
  {
   "cell_type": "code",
   "execution_count": 164,
   "metadata": {},
   "outputs": [
    {
     "data": {
      "text/plain": [
       "0.8485684175642961"
      ]
     },
     "execution_count": 164,
     "metadata": {},
     "output_type": "execute_result"
    }
   ],
   "source": [
    "rfr_c.score(X_train, y_train)"
   ]
  },
  {
   "cell_type": "code",
   "execution_count": 165,
   "metadata": {},
   "outputs": [
    {
     "name": "stdout",
     "output_type": "stream",
     "text": [
      "Train r2: 0.8485684175642961\n",
      " Test r2: 0.11987797973077408\n",
      "Train mse: 33.15695739671804\n",
      " Test mse: 175.88902254598733\n"
     ]
    }
   ],
   "source": [
    "y_pred_train_rfr_c = rfr_c.predict(X_train)\n",
    "y_pred_test_rfr_c = rfr_c.predict(X_test)\n",
    "\n",
    "print(f\"Train r2: {r2_score(y_train, y_pred_train_rfr_c)}\\n Test r2: {r2_score(y_test, y_pred_test_rfr_c)}\")\n",
    "print(f\"Train mse: {mean_squared_error(y_train, y_pred_train_rfr_c)}\\n Test mse: {mean_squared_error(y_test, y_pred_test_rfr_c)}\")"
   ]
  },
  {
   "cell_type": "code",
   "execution_count": 166,
   "metadata": {},
   "outputs": [],
   "source": [
    "feature_importances_rfr_c = pd.DataFrame.from_dict(dict(zip(X.columns, rfr_c.feature_importances_)), orient= \"index\", columns= [\"feature_importance\"])\n",
    "\n",
    "df_feature_imp_rfr_c = feature_importances_rfr_c.reset_index().rename(columns= {\"index\": \"feature\"})"
   ]
  },
  {
   "cell_type": "code",
   "execution_count": 167,
   "metadata": {},
   "outputs": [
    {
     "data": {
      "text/html": [
       "<div>\n",
       "<style scoped>\n",
       "    .dataframe tbody tr th:only-of-type {\n",
       "        vertical-align: middle;\n",
       "    }\n",
       "\n",
       "    .dataframe tbody tr th {\n",
       "        vertical-align: top;\n",
       "    }\n",
       "\n",
       "    .dataframe thead th {\n",
       "        text-align: right;\n",
       "    }\n",
       "</style>\n",
       "<table border=\"1\" class=\"dataframe\">\n",
       "  <thead>\n",
       "    <tr style=\"text-align: right;\">\n",
       "      <th></th>\n",
       "      <th>feature</th>\n",
       "      <th>feature_importance</th>\n",
       "    </tr>\n",
       "  </thead>\n",
       "  <tbody>\n",
       "    <tr>\n",
       "      <th>0</th>\n",
       "      <td>fruity</td>\n",
       "      <td>0.091059</td>\n",
       "    </tr>\n",
       "    <tr>\n",
       "      <th>1</th>\n",
       "      <td>caramel</td>\n",
       "      <td>0.052083</td>\n",
       "    </tr>\n",
       "    <tr>\n",
       "      <th>2</th>\n",
       "      <td>peanutyalmondy</td>\n",
       "      <td>0.120227</td>\n",
       "    </tr>\n",
       "    <tr>\n",
       "      <th>3</th>\n",
       "      <td>nougat</td>\n",
       "      <td>0.009395</td>\n",
       "    </tr>\n",
       "    <tr>\n",
       "      <th>4</th>\n",
       "      <td>crispedricewafer</td>\n",
       "      <td>0.043040</td>\n",
       "    </tr>\n",
       "    <tr>\n",
       "      <th>5</th>\n",
       "      <td>hard</td>\n",
       "      <td>0.015117</td>\n",
       "    </tr>\n",
       "    <tr>\n",
       "      <th>6</th>\n",
       "      <td>bar</td>\n",
       "      <td>0.134456</td>\n",
       "    </tr>\n",
       "    <tr>\n",
       "      <th>7</th>\n",
       "      <td>pluribus</td>\n",
       "      <td>0.017508</td>\n",
       "    </tr>\n",
       "    <tr>\n",
       "      <th>8</th>\n",
       "      <td>sugarpercent</td>\n",
       "      <td>0.229510</td>\n",
       "    </tr>\n",
       "    <tr>\n",
       "      <th>9</th>\n",
       "      <td>pricepercent</td>\n",
       "      <td>0.287607</td>\n",
       "    </tr>\n",
       "  </tbody>\n",
       "</table>\n",
       "</div>"
      ],
      "text/plain": [
       "            feature  feature_importance\n",
       "0            fruity            0.091059\n",
       "1           caramel            0.052083\n",
       "2    peanutyalmondy            0.120227\n",
       "3            nougat            0.009395\n",
       "4  crispedricewafer            0.043040\n",
       "5              hard            0.015117\n",
       "6               bar            0.134456\n",
       "7          pluribus            0.017508\n",
       "8      sugarpercent            0.229510\n",
       "9      pricepercent            0.287607"
      ]
     },
     "execution_count": 167,
     "metadata": {},
     "output_type": "execute_result"
    }
   ],
   "source": [
    "df_feature_imp_rfr_c"
   ]
  },
  {
   "attachments": {},
   "cell_type": "markdown",
   "metadata": {},
   "source": [
    "Plotting our predicted label in comparison to our true label of winpercent:"
   ]
  },
  {
   "cell_type": "code",
   "execution_count": 168,
   "metadata": {},
   "outputs": [],
   "source": [
    "df_rc_pred = df_rc.copy()"
   ]
  },
  {
   "cell_type": "code",
   "execution_count": 169,
   "metadata": {},
   "outputs": [
    {
     "name": "stderr",
     "output_type": "stream",
     "text": [
      "/Library/Frameworks/Python.framework/Versions/3.9/lib/python3.9/site-packages/sklearn/base.py:443: UserWarning:\n",
      "\n",
      "X has feature names, but RandomForestRegressor was fitted without feature names\n",
      "\n"
     ]
    }
   ],
   "source": [
    "df_rc_pred[\"y_pred\"] = rfr_c.predict(X)"
   ]
  },
  {
   "cell_type": "code",
   "execution_count": 170,
   "metadata": {},
   "outputs": [
    {
     "data": {
      "application/vnd.plotly.v1+json": {
       "config": {
        "plotlyServerURL": "https://plot.ly"
       },
       "data": [
        {
         "marker": {
          "color": "grey"
         },
         "mode": "lines+markers",
         "name": "True Label",
         "type": "scatter",
         "x": [
          "100 Grand",
          "3 Musketeers",
          "One dime",
          "One quarter",
          "Air Heads",
          "Almond Joy",
          "Baby Ruth",
          "Boston Baked Beans",
          "Candy Corn",
          "Caramel Apple Pops",
          "Charleston Chew",
          "Chewey Lemonhead Fruit Mix",
          "Chiclets",
          "Dots",
          "Dum Dums",
          "Fruit Chews",
          "Fun Dip",
          "Gobstopper",
          "Haribo Gold Bears",
          "Haribo Happy Cola",
          "Haribo Sour Bears",
          "Haribo Twin Snakes",
          "Hershey's Kisses",
          "Hershey's Krackel",
          "Hershey's Milk Chocolate",
          "Hershey's Special Dark",
          "Jawbusters",
          "Junior Mints",
          "Kit Kat",
          "Laffy Taffy",
          "Lemonhead",
          "Lifesavers big ring gummies",
          "Peanut butter M&M's",
          "M&M's",
          "Mike & Ike",
          "Milk Duds",
          "Milky Way",
          "Milky Way Midnight",
          "Milky Way Simply Caramel",
          "Mounds",
          "Mr Good Bar",
          "Nerds",
          "Nestle Butterfinger",
          "Nestle Crunch",
          "Nik L Nip",
          "Now & Later",
          "Payday",
          "Peanut M&Ms",
          "Pixie Sticks",
          "Pop Rocks",
          "Red vines",
          "Reese's Miniatures",
          "Reese's Peanut Butter cup",
          "Reese's pieces",
          "Reese's stuffed with pieces",
          "Ring pop",
          "Rolo",
          "Root Beer Barrels",
          "Runts",
          "Sixlets",
          "Skittles original",
          "Skittles wildberry",
          "Nestle Smarties",
          "Smarties candy",
          "Snickers",
          "Snickers Crisper",
          "Sour Patch Kids",
          "Sour Patch Tricksters",
          "Starburst",
          "Strawberry bon bons",
          "Sugar Babies",
          "Sugar Daddy",
          "Super Bubble",
          "Swedish Fish",
          "Tootsie Pop",
          "Tootsie Roll Juniors",
          "Tootsie Roll Midgies",
          "Tootsie Roll Snack Bars",
          "Trolli Sour Bites",
          "Twix",
          "Twizzlers",
          "Warheads",
          "Welch's Fruit Snacks",
          "Werther's Original Caramel",
          "Whoppers"
         ],
         "y": [
          66.971725,
          67.602936,
          32.261086,
          46.116505,
          52.341465,
          50.347546,
          56.914547,
          23.417824,
          38.010963,
          34.517681,
          38.975037,
          36.017628,
          24.524988,
          42.272076,
          39.460556,
          43.088924,
          39.185505,
          46.783348,
          57.11974,
          34.158958,
          51.41243,
          42.178772,
          55.375454,
          62.284481,
          56.490501,
          59.236122,
          28.127439,
          57.21925,
          76.7686,
          41.389557,
          39.141056,
          52.911392,
          71.46505,
          66.574585,
          46.411716,
          55.064072,
          73.099556,
          60.800701,
          64.35334,
          47.829754,
          54.526451,
          55.354046,
          70.735641,
          66.47068,
          22.445341,
          39.4468,
          46.296597,
          69.483788,
          37.722336,
          41.265511,
          37.348522,
          81.866257,
          84.18029,
          73.43499,
          72.887901,
          35.290756,
          65.716286,
          29.703691,
          42.849144,
          34.722,
          63.08514,
          55.103695,
          37.887188,
          45.995827,
          76.673782,
          59.529251,
          59.863998,
          52.825947,
          67.037628,
          34.578991,
          33.43755,
          32.230995,
          27.303865,
          54.861111,
          48.982651,
          43.068897,
          45.736748,
          49.653503,
          47.173229,
          81.642914,
          45.466282,
          39.011898,
          44.375519,
          41.904308,
          49.524113
         ]
        },
        {
         "marker": {
          "color": "rgb(149, 19, 39)"
         },
         "mode": "lines+markers",
         "name": "Predicited Label",
         "type": "scatter",
         "x": [
          "100 Grand",
          "3 Musketeers",
          "One dime",
          "One quarter",
          "Air Heads",
          "Almond Joy",
          "Baby Ruth",
          "Boston Baked Beans",
          "Candy Corn",
          "Caramel Apple Pops",
          "Charleston Chew",
          "Chewey Lemonhead Fruit Mix",
          "Chiclets",
          "Dots",
          "Dum Dums",
          "Fruit Chews",
          "Fun Dip",
          "Gobstopper",
          "Haribo Gold Bears",
          "Haribo Happy Cola",
          "Haribo Sour Bears",
          "Haribo Twin Snakes",
          "Hershey's Kisses",
          "Hershey's Krackel",
          "Hershey's Milk Chocolate",
          "Hershey's Special Dark",
          "Jawbusters",
          "Junior Mints",
          "Kit Kat",
          "Laffy Taffy",
          "Lemonhead",
          "Lifesavers big ring gummies",
          "Peanut butter M&M's",
          "M&M's",
          "Mike & Ike",
          "Milk Duds",
          "Milky Way",
          "Milky Way Midnight",
          "Milky Way Simply Caramel",
          "Mounds",
          "Mr Good Bar",
          "Nerds",
          "Nestle Butterfinger",
          "Nestle Crunch",
          "Nik L Nip",
          "Now & Later",
          "Payday",
          "Peanut M&Ms",
          "Pixie Sticks",
          "Pop Rocks",
          "Red vines",
          "Reese's Miniatures",
          "Reese's Peanut Butter cup",
          "Reese's pieces",
          "Reese's stuffed with pieces",
          "Ring pop",
          "Rolo",
          "Root Beer Barrels",
          "Runts",
          "Sixlets",
          "Skittles original",
          "Skittles wildberry",
          "Nestle Smarties",
          "Smarties candy",
          "Snickers",
          "Snickers Crisper",
          "Sour Patch Kids",
          "Sour Patch Tricksters",
          "Starburst",
          "Strawberry bon bons",
          "Sugar Babies",
          "Sugar Daddy",
          "Super Bubble",
          "Swedish Fish",
          "Tootsie Pop",
          "Tootsie Roll Juniors",
          "Tootsie Roll Midgies",
          "Tootsie Roll Snack Bars",
          "Trolli Sour Bites",
          "Twix",
          "Twizzlers",
          "Warheads",
          "Welch's Fruit Snacks",
          "Werther's Original Caramel",
          "Whoppers"
         ],
         "y": [
          60.882412276000004,
          59.182604618000035,
          49.170423668333335,
          54.067191581666684,
          48.44615490750003,
          55.701082822500005,
          59.59560661499995,
          68.00369735999992,
          52.738569765999955,
          49.18360770516668,
          59.182604618000035,
          48.260302897500054,
          50.87827325916669,
          48.260302897500054,
          43.20567282850003,
          48.20463224583335,
          46.02850645183335,
          46.56719907250002,
          49.98231553750003,
          53.40197569600001,
          49.98231553750003,
          49.98231553750003,
          49.87945612833334,
          54.29598174200006,
          54.29598174200006,
          54.29598174200006,
          53.05315138883338,
          55.579417356000015,
          59.21164980800004,
          46.87303674350002,
          48.39509668583335,
          46.87303674350002,
          68.0555215799999,
          54.058646295999964,
          46.21435846183334,
          54.98729710600002,
          65.59465578100006,
          63.58544431600003,
          60.950923436,
          54.74005581200006,
          55.131194302500006,
          46.21435846183334,
          55.8959850525,
          54.74005581200006,
          48.01985894500005,
          50.032911456833354,
          55.701082822500005,
          67.79544197999991,
          49.87945612833334,
          50.052559722500064,
          46.33407906150001,
          63.96570411666663,
          67.43379192999991,
          67.65850233999993,
          68.0555215799999,
          44.809053180000035,
          51.16531349599998,
          47.49513554766667,
          43.20567282850003,
          49.703088602666675,
          43.09407448850002,
          43.09407448850002,
          49.93330027000004,
          46.87303674350002,
          65.52223633499995,
          65.89742115499993,
          48.39509668583335,
          48.39509668583335,
          46.87303674350002,
          46.33407906150001,
          51.30850952599998,
          54.75716469600002,
          46.87303674350002,
          50.96323446250006,
          49.43474235483337,
          54.64228726600001,
          49.703088602666675,
          59.192349623000034,
          46.81471620350002,
          62.15361017100004,
          46.87303674350002,
          48.20463224583335,
          49.93507889683337,
          51.44640681266668,
          50.04150963600002
         ]
        }
       ],
       "layout": {
        "font": {
         "color": "white"
        },
        "height": 600,
        "legend": {
         "title": {
          "font": {
           "size": 16
          },
          "text": "<b>WINPERCENT</b>"
         }
        },
        "paper_bgcolor": "rgba(0,0,0,0)",
        "plot_bgcolor": "rgba(0,0,0,0)",
        "template": {
         "data": {
          "bar": [
           {
            "error_x": {
             "color": "#2a3f5f"
            },
            "error_y": {
             "color": "#2a3f5f"
            },
            "marker": {
             "line": {
              "color": "#E5ECF6",
              "width": 0.5
             },
             "pattern": {
              "fillmode": "overlay",
              "size": 10,
              "solidity": 0.2
             }
            },
            "type": "bar"
           }
          ],
          "barpolar": [
           {
            "marker": {
             "line": {
              "color": "#E5ECF6",
              "width": 0.5
             },
             "pattern": {
              "fillmode": "overlay",
              "size": 10,
              "solidity": 0.2
             }
            },
            "type": "barpolar"
           }
          ],
          "carpet": [
           {
            "aaxis": {
             "endlinecolor": "#2a3f5f",
             "gridcolor": "white",
             "linecolor": "white",
             "minorgridcolor": "white",
             "startlinecolor": "#2a3f5f"
            },
            "baxis": {
             "endlinecolor": "#2a3f5f",
             "gridcolor": "white",
             "linecolor": "white",
             "minorgridcolor": "white",
             "startlinecolor": "#2a3f5f"
            },
            "type": "carpet"
           }
          ],
          "choropleth": [
           {
            "colorbar": {
             "outlinewidth": 0,
             "ticks": ""
            },
            "type": "choropleth"
           }
          ],
          "contour": [
           {
            "colorbar": {
             "outlinewidth": 0,
             "ticks": ""
            },
            "colorscale": [
             [
              0,
              "#0d0887"
             ],
             [
              0.1111111111111111,
              "#46039f"
             ],
             [
              0.2222222222222222,
              "#7201a8"
             ],
             [
              0.3333333333333333,
              "#9c179e"
             ],
             [
              0.4444444444444444,
              "#bd3786"
             ],
             [
              0.5555555555555556,
              "#d8576b"
             ],
             [
              0.6666666666666666,
              "#ed7953"
             ],
             [
              0.7777777777777778,
              "#fb9f3a"
             ],
             [
              0.8888888888888888,
              "#fdca26"
             ],
             [
              1,
              "#f0f921"
             ]
            ],
            "type": "contour"
           }
          ],
          "contourcarpet": [
           {
            "colorbar": {
             "outlinewidth": 0,
             "ticks": ""
            },
            "type": "contourcarpet"
           }
          ],
          "heatmap": [
           {
            "colorbar": {
             "outlinewidth": 0,
             "ticks": ""
            },
            "colorscale": [
             [
              0,
              "#0d0887"
             ],
             [
              0.1111111111111111,
              "#46039f"
             ],
             [
              0.2222222222222222,
              "#7201a8"
             ],
             [
              0.3333333333333333,
              "#9c179e"
             ],
             [
              0.4444444444444444,
              "#bd3786"
             ],
             [
              0.5555555555555556,
              "#d8576b"
             ],
             [
              0.6666666666666666,
              "#ed7953"
             ],
             [
              0.7777777777777778,
              "#fb9f3a"
             ],
             [
              0.8888888888888888,
              "#fdca26"
             ],
             [
              1,
              "#f0f921"
             ]
            ],
            "type": "heatmap"
           }
          ],
          "heatmapgl": [
           {
            "colorbar": {
             "outlinewidth": 0,
             "ticks": ""
            },
            "colorscale": [
             [
              0,
              "#0d0887"
             ],
             [
              0.1111111111111111,
              "#46039f"
             ],
             [
              0.2222222222222222,
              "#7201a8"
             ],
             [
              0.3333333333333333,
              "#9c179e"
             ],
             [
              0.4444444444444444,
              "#bd3786"
             ],
             [
              0.5555555555555556,
              "#d8576b"
             ],
             [
              0.6666666666666666,
              "#ed7953"
             ],
             [
              0.7777777777777778,
              "#fb9f3a"
             ],
             [
              0.8888888888888888,
              "#fdca26"
             ],
             [
              1,
              "#f0f921"
             ]
            ],
            "type": "heatmapgl"
           }
          ],
          "histogram": [
           {
            "marker": {
             "pattern": {
              "fillmode": "overlay",
              "size": 10,
              "solidity": 0.2
             }
            },
            "type": "histogram"
           }
          ],
          "histogram2d": [
           {
            "colorbar": {
             "outlinewidth": 0,
             "ticks": ""
            },
            "colorscale": [
             [
              0,
              "#0d0887"
             ],
             [
              0.1111111111111111,
              "#46039f"
             ],
             [
              0.2222222222222222,
              "#7201a8"
             ],
             [
              0.3333333333333333,
              "#9c179e"
             ],
             [
              0.4444444444444444,
              "#bd3786"
             ],
             [
              0.5555555555555556,
              "#d8576b"
             ],
             [
              0.6666666666666666,
              "#ed7953"
             ],
             [
              0.7777777777777778,
              "#fb9f3a"
             ],
             [
              0.8888888888888888,
              "#fdca26"
             ],
             [
              1,
              "#f0f921"
             ]
            ],
            "type": "histogram2d"
           }
          ],
          "histogram2dcontour": [
           {
            "colorbar": {
             "outlinewidth": 0,
             "ticks": ""
            },
            "colorscale": [
             [
              0,
              "#0d0887"
             ],
             [
              0.1111111111111111,
              "#46039f"
             ],
             [
              0.2222222222222222,
              "#7201a8"
             ],
             [
              0.3333333333333333,
              "#9c179e"
             ],
             [
              0.4444444444444444,
              "#bd3786"
             ],
             [
              0.5555555555555556,
              "#d8576b"
             ],
             [
              0.6666666666666666,
              "#ed7953"
             ],
             [
              0.7777777777777778,
              "#fb9f3a"
             ],
             [
              0.8888888888888888,
              "#fdca26"
             ],
             [
              1,
              "#f0f921"
             ]
            ],
            "type": "histogram2dcontour"
           }
          ],
          "mesh3d": [
           {
            "colorbar": {
             "outlinewidth": 0,
             "ticks": ""
            },
            "type": "mesh3d"
           }
          ],
          "parcoords": [
           {
            "line": {
             "colorbar": {
              "outlinewidth": 0,
              "ticks": ""
             }
            },
            "type": "parcoords"
           }
          ],
          "pie": [
           {
            "automargin": true,
            "type": "pie"
           }
          ],
          "scatter": [
           {
            "fillpattern": {
             "fillmode": "overlay",
             "size": 10,
             "solidity": 0.2
            },
            "type": "scatter"
           }
          ],
          "scatter3d": [
           {
            "line": {
             "colorbar": {
              "outlinewidth": 0,
              "ticks": ""
             }
            },
            "marker": {
             "colorbar": {
              "outlinewidth": 0,
              "ticks": ""
             }
            },
            "type": "scatter3d"
           }
          ],
          "scattercarpet": [
           {
            "marker": {
             "colorbar": {
              "outlinewidth": 0,
              "ticks": ""
             }
            },
            "type": "scattercarpet"
           }
          ],
          "scattergeo": [
           {
            "marker": {
             "colorbar": {
              "outlinewidth": 0,
              "ticks": ""
             }
            },
            "type": "scattergeo"
           }
          ],
          "scattergl": [
           {
            "marker": {
             "colorbar": {
              "outlinewidth": 0,
              "ticks": ""
             }
            },
            "type": "scattergl"
           }
          ],
          "scattermapbox": [
           {
            "marker": {
             "colorbar": {
              "outlinewidth": 0,
              "ticks": ""
             }
            },
            "type": "scattermapbox"
           }
          ],
          "scatterpolar": [
           {
            "marker": {
             "colorbar": {
              "outlinewidth": 0,
              "ticks": ""
             }
            },
            "type": "scatterpolar"
           }
          ],
          "scatterpolargl": [
           {
            "marker": {
             "colorbar": {
              "outlinewidth": 0,
              "ticks": ""
             }
            },
            "type": "scatterpolargl"
           }
          ],
          "scatterternary": [
           {
            "marker": {
             "colorbar": {
              "outlinewidth": 0,
              "ticks": ""
             }
            },
            "type": "scatterternary"
           }
          ],
          "surface": [
           {
            "colorbar": {
             "outlinewidth": 0,
             "ticks": ""
            },
            "colorscale": [
             [
              0,
              "#0d0887"
             ],
             [
              0.1111111111111111,
              "#46039f"
             ],
             [
              0.2222222222222222,
              "#7201a8"
             ],
             [
              0.3333333333333333,
              "#9c179e"
             ],
             [
              0.4444444444444444,
              "#bd3786"
             ],
             [
              0.5555555555555556,
              "#d8576b"
             ],
             [
              0.6666666666666666,
              "#ed7953"
             ],
             [
              0.7777777777777778,
              "#fb9f3a"
             ],
             [
              0.8888888888888888,
              "#fdca26"
             ],
             [
              1,
              "#f0f921"
             ]
            ],
            "type": "surface"
           }
          ],
          "table": [
           {
            "cells": {
             "fill": {
              "color": "#EBF0F8"
             },
             "line": {
              "color": "white"
             }
            },
            "header": {
             "fill": {
              "color": "#C8D4E3"
             },
             "line": {
              "color": "white"
             }
            },
            "type": "table"
           }
          ]
         },
         "layout": {
          "annotationdefaults": {
           "arrowcolor": "#2a3f5f",
           "arrowhead": 0,
           "arrowwidth": 1
          },
          "autotypenumbers": "strict",
          "coloraxis": {
           "colorbar": {
            "outlinewidth": 0,
            "ticks": ""
           }
          },
          "colorscale": {
           "diverging": [
            [
             0,
             "#8e0152"
            ],
            [
             0.1,
             "#c51b7d"
            ],
            [
             0.2,
             "#de77ae"
            ],
            [
             0.3,
             "#f1b6da"
            ],
            [
             0.4,
             "#fde0ef"
            ],
            [
             0.5,
             "#f7f7f7"
            ],
            [
             0.6,
             "#e6f5d0"
            ],
            [
             0.7,
             "#b8e186"
            ],
            [
             0.8,
             "#7fbc41"
            ],
            [
             0.9,
             "#4d9221"
            ],
            [
             1,
             "#276419"
            ]
           ],
           "sequential": [
            [
             0,
             "#0d0887"
            ],
            [
             0.1111111111111111,
             "#46039f"
            ],
            [
             0.2222222222222222,
             "#7201a8"
            ],
            [
             0.3333333333333333,
             "#9c179e"
            ],
            [
             0.4444444444444444,
             "#bd3786"
            ],
            [
             0.5555555555555556,
             "#d8576b"
            ],
            [
             0.6666666666666666,
             "#ed7953"
            ],
            [
             0.7777777777777778,
             "#fb9f3a"
            ],
            [
             0.8888888888888888,
             "#fdca26"
            ],
            [
             1,
             "#f0f921"
            ]
           ],
           "sequentialminus": [
            [
             0,
             "#0d0887"
            ],
            [
             0.1111111111111111,
             "#46039f"
            ],
            [
             0.2222222222222222,
             "#7201a8"
            ],
            [
             0.3333333333333333,
             "#9c179e"
            ],
            [
             0.4444444444444444,
             "#bd3786"
            ],
            [
             0.5555555555555556,
             "#d8576b"
            ],
            [
             0.6666666666666666,
             "#ed7953"
            ],
            [
             0.7777777777777778,
             "#fb9f3a"
            ],
            [
             0.8888888888888888,
             "#fdca26"
            ],
            [
             1,
             "#f0f921"
            ]
           ]
          },
          "colorway": [
           "#636efa",
           "#EF553B",
           "#00cc96",
           "#ab63fa",
           "#FFA15A",
           "#19d3f3",
           "#FF6692",
           "#B6E880",
           "#FF97FF",
           "#FECB52"
          ],
          "font": {
           "color": "#2a3f5f"
          },
          "geo": {
           "bgcolor": "white",
           "lakecolor": "white",
           "landcolor": "#E5ECF6",
           "showlakes": true,
           "showland": true,
           "subunitcolor": "white"
          },
          "hoverlabel": {
           "align": "left"
          },
          "hovermode": "closest",
          "mapbox": {
           "style": "light"
          },
          "paper_bgcolor": "white",
          "plot_bgcolor": "#E5ECF6",
          "polar": {
           "angularaxis": {
            "gridcolor": "white",
            "linecolor": "white",
            "ticks": ""
           },
           "bgcolor": "#E5ECF6",
           "radialaxis": {
            "gridcolor": "white",
            "linecolor": "white",
            "ticks": ""
           }
          },
          "scene": {
           "xaxis": {
            "backgroundcolor": "#E5ECF6",
            "gridcolor": "white",
            "gridwidth": 2,
            "linecolor": "white",
            "showbackground": true,
            "ticks": "",
            "zerolinecolor": "white"
           },
           "yaxis": {
            "backgroundcolor": "#E5ECF6",
            "gridcolor": "white",
            "gridwidth": 2,
            "linecolor": "white",
            "showbackground": true,
            "ticks": "",
            "zerolinecolor": "white"
           },
           "zaxis": {
            "backgroundcolor": "#E5ECF6",
            "gridcolor": "white",
            "gridwidth": 2,
            "linecolor": "white",
            "showbackground": true,
            "ticks": "",
            "zerolinecolor": "white"
           }
          },
          "shapedefaults": {
           "line": {
            "color": "#2a3f5f"
           }
          },
          "ternary": {
           "aaxis": {
            "gridcolor": "white",
            "linecolor": "white",
            "ticks": ""
           },
           "baxis": {
            "gridcolor": "white",
            "linecolor": "white",
            "ticks": ""
           },
           "bgcolor": "#E5ECF6",
           "caxis": {
            "gridcolor": "white",
            "linecolor": "white",
            "ticks": ""
           }
          },
          "title": {
           "x": 0.05
          },
          "xaxis": {
           "automargin": true,
           "gridcolor": "white",
           "linecolor": "white",
           "ticks": "",
           "title": {
            "standoff": 15
           },
           "zerolinecolor": "white",
           "zerolinewidth": 2
          },
          "yaxis": {
           "automargin": true,
           "gridcolor": "white",
           "linecolor": "white",
           "ticks": "",
           "title": {
            "standoff": 15
           },
           "zerolinecolor": "white",
           "zerolinewidth": 2
          }
         }
        },
        "title": {
         "font": {
          "size": 20
         },
         "text": "<b>WINPERCENT PREDICTION WITHOUT CHOCOLATE<b>",
         "x": 0.475,
         "xanchor": "center",
         "y": 0.955,
         "yanchor": "top"
        },
        "xaxis": {
         "showgrid": false,
         "title": {
          "font": {
           "size": 14
          }
         }
        },
        "yaxis": {
         "showgrid": false,
         "title": {
          "font": {
           "size": 14
          },
          "text": "<b>winpercent %</b>"
         }
        }
       }
      }
     },
     "metadata": {},
     "output_type": "display_data"
    }
   ],
   "source": [
    "fig_pred = go.Figure()\n",
    "\n",
    "fig_pred.add_trace(\n",
    " go.Scatter(\n",
    "  x= df_rc_pred.competitorname,\n",
    "  y= df_rc_pred.winpercent,\n",
    "  mode= 'lines+markers',\n",
    "  marker= dict(color= \"grey\"),\n",
    "  name= \"True Label\"\n",
    " )\n",
    ")\n",
    "\n",
    "fig_pred.add_trace(\n",
    " go.Scatter(\n",
    "  x= df_rc_pred.competitorname,\n",
    "  y= df_rc_pred.y_pred,\n",
    "  mode= 'lines+markers',\n",
    "  name = \"Predicited Label\",\n",
    "  marker= dict(color= px.colors.sequential.amp[8])\n",
    " )\n",
    ")\n",
    "\n",
    "fig_pred.update_layout(\n",
    "     title= dict(text= \"<b>WINPERCENT PREDICTION WITHOUT CHOCOLATE<b>\", font_size= 20, xanchor= \"center\", yanchor= \"top\", y=0.955, x=0.475),\n",
    "     height= 600,\n",
    "     legend_title_text= \"<b>WINPERCENT</b>\",\n",
    "     legend_title_font_size= 16,\n",
    "     paper_bgcolor='rgba(0,0,0,0)',\n",
    "     plot_bgcolor='rgba(0,0,0,0)',\n",
    "     font= dict(color= \"white\")\n",
    ")\n",
    "\n",
    "fig_pred.update_yaxes(title_text=\"<b>winpercent %</b>\", title_font= dict(size= 14), showgrid= False)\n",
    "fig_pred.update_xaxes(title_font= dict(size= 14), showgrid= False)\n",
    "fig_pred.show()"
   ]
  },
  {
   "attachments": {},
   "cell_type": "markdown",
   "metadata": {},
   "source": [
    "Plotting the difference of predicted and true label of our two regression models (with & without chocolate) in comparison: "
   ]
  },
  {
   "cell_type": "code",
   "execution_count": 171,
   "metadata": {},
   "outputs": [],
   "source": [
    "df_rc_pred[\"diff_c\"] = np.abs(df_rc_pred[\"winpercent\"] - df_rc_pred[\"y_pred\"])\n",
    "\n",
    "df_rc_pred[\"diff\"] = np.abs(df_rc_pred[\"winpercent\"] - df_r_pred[\"y_pred\"])"
   ]
  },
  {
   "cell_type": "code",
   "execution_count": 172,
   "metadata": {},
   "outputs": [
    {
     "data": {
      "application/vnd.plotly.v1+json": {
       "config": {
        "plotlyServerURL": "https://plot.ly"
       },
       "data": [
        {
         "marker": {
          "color": "grey"
         },
         "mode": "lines+markers",
         "name": "without label chocolate",
         "type": "scatter",
         "x": [
          "100 Grand",
          "3 Musketeers",
          "One dime",
          "One quarter",
          "Air Heads",
          "Almond Joy",
          "Baby Ruth",
          "Boston Baked Beans",
          "Candy Corn",
          "Caramel Apple Pops",
          "Charleston Chew",
          "Chewey Lemonhead Fruit Mix",
          "Chiclets",
          "Dots",
          "Dum Dums",
          "Fruit Chews",
          "Fun Dip",
          "Gobstopper",
          "Haribo Gold Bears",
          "Haribo Happy Cola",
          "Haribo Sour Bears",
          "Haribo Twin Snakes",
          "Hershey's Kisses",
          "Hershey's Krackel",
          "Hershey's Milk Chocolate",
          "Hershey's Special Dark",
          "Jawbusters",
          "Junior Mints",
          "Kit Kat",
          "Laffy Taffy",
          "Lemonhead",
          "Lifesavers big ring gummies",
          "Peanut butter M&M's",
          "M&M's",
          "Mike & Ike",
          "Milk Duds",
          "Milky Way",
          "Milky Way Midnight",
          "Milky Way Simply Caramel",
          "Mounds",
          "Mr Good Bar",
          "Nerds",
          "Nestle Butterfinger",
          "Nestle Crunch",
          "Nik L Nip",
          "Now & Later",
          "Payday",
          "Peanut M&Ms",
          "Pixie Sticks",
          "Pop Rocks",
          "Red vines",
          "Reese's Miniatures",
          "Reese's Peanut Butter cup",
          "Reese's pieces",
          "Reese's stuffed with pieces",
          "Ring pop",
          "Rolo",
          "Root Beer Barrels",
          "Runts",
          "Sixlets",
          "Skittles original",
          "Skittles wildberry",
          "Nestle Smarties",
          "Smarties candy",
          "Snickers",
          "Snickers Crisper",
          "Sour Patch Kids",
          "Sour Patch Tricksters",
          "Starburst",
          "Strawberry bon bons",
          "Sugar Babies",
          "Sugar Daddy",
          "Super Bubble",
          "Swedish Fish",
          "Tootsie Pop",
          "Tootsie Roll Juniors",
          "Tootsie Roll Midgies",
          "Tootsie Roll Snack Bars",
          "Trolli Sour Bites",
          "Twix",
          "Twizzlers",
          "Warheads",
          "Welch's Fruit Snacks",
          "Werther's Original Caramel",
          "Whoppers"
         ],
         "y": [
          6.089312724000003,
          8.420331381999965,
          16.909337668333336,
          7.950686581666687,
          3.895310092499969,
          5.353536822500004,
          2.6810596149999526,
          44.58587335999992,
          14.727606765999958,
          14.665926705166676,
          20.207567618000034,
          12.242674897500052,
          26.35328525916669,
          5.988226897500056,
          3.7451168285000307,
          5.115708245833353,
          6.843001451833352,
          0.2161489274999795,
          7.137424462499972,
          19.24301769600001,
          1.4301144624999722,
          7.803543537500026,
          5.49599787166666,
          7.9884992579999405,
          2.194519257999943,
          4.940140257999943,
          24.92571238883338,
          1.6398326439999877,
          17.556950191999967,
          5.48347974350002,
          9.254040685833353,
          6.038355256499976,
          3.4095284200001004,
          12.515938704000035,
          0.19735753816665635,
          0.07677489399998194,
          7.50490021899995,
          2.784743316000032,
          3.4024165640000064,
          6.910301812000057,
          0.6047433025000046,
          9.139687538166655,
          14.839655947499999,
          11.730624187999943,
          25.574517945000053,
          10.58611145683335,
          9.404485822500007,
          1.6883460200000968,
          12.15712012833334,
          8.787048722500067,
          8.98555706150001,
          17.900552883333376,
          16.746498070000086,
          5.776487660000072,
          4.832379420000095,
          9.518297180000033,
          14.550972504000015,
          17.79144454766667,
          0.356528828500025,
          14.981088602666674,
          19.991065511499983,
          12.009620511499982,
          12.046112270000037,
          0.8772097435000248,
          11.151545665000057,
          6.36817015499993,
          11.46890131416665,
          4.430850314166648,
          20.164591256499975,
          11.755088061500011,
          17.87095952599998,
          22.526169696000018,
          19.569171743500025,
          3.89787653749994,
          0.45209135483337093,
          11.573390266000011,
          3.9663406026666763,
          9.538846623000033,
          0.3585127964999799,
          19.489303828999965,
          1.4067547435000236,
          9.19273424583335,
          5.55955989683337,
          9.54209881266668,
          0.5173966360000222
         ]
        },
        {
         "marker": {
          "color": "rgb(149, 19, 39)"
         },
         "mode": "lines+markers",
         "name": "With label chocolate",
         "type": "scatter",
         "x": [
          "100 Grand",
          "3 Musketeers",
          "One dime",
          "One quarter",
          "Air Heads",
          "Almond Joy",
          "Baby Ruth",
          "Boston Baked Beans",
          "Candy Corn",
          "Caramel Apple Pops",
          "Charleston Chew",
          "Chewey Lemonhead Fruit Mix",
          "Chiclets",
          "Dots",
          "Dum Dums",
          "Fruit Chews",
          "Fun Dip",
          "Gobstopper",
          "Haribo Gold Bears",
          "Haribo Happy Cola",
          "Haribo Sour Bears",
          "Haribo Twin Snakes",
          "Hershey's Kisses",
          "Hershey's Krackel",
          "Hershey's Milk Chocolate",
          "Hershey's Special Dark",
          "Jawbusters",
          "Junior Mints",
          "Kit Kat",
          "Laffy Taffy",
          "Lemonhead",
          "Lifesavers big ring gummies",
          "Peanut butter M&M's",
          "M&M's",
          "Mike & Ike",
          "Milk Duds",
          "Milky Way",
          "Milky Way Midnight",
          "Milky Way Simply Caramel",
          "Mounds",
          "Mr Good Bar",
          "Nerds",
          "Nestle Butterfinger",
          "Nestle Crunch",
          "Nik L Nip",
          "Now & Later",
          "Payday",
          "Peanut M&Ms",
          "Pixie Sticks",
          "Pop Rocks",
          "Red vines",
          "Reese's Miniatures",
          "Reese's Peanut Butter cup",
          "Reese's pieces",
          "Reese's stuffed with pieces",
          "Ring pop",
          "Rolo",
          "Root Beer Barrels",
          "Runts",
          "Sixlets",
          "Skittles original",
          "Skittles wildberry",
          "Nestle Smarties",
          "Smarties candy",
          "Snickers",
          "Snickers Crisper",
          "Sour Patch Kids",
          "Sour Patch Tricksters",
          "Starburst",
          "Strawberry bon bons",
          "Sugar Babies",
          "Sugar Daddy",
          "Super Bubble",
          "Swedish Fish",
          "Tootsie Pop",
          "Tootsie Roll Juniors",
          "Tootsie Roll Midgies",
          "Tootsie Roll Snack Bars",
          "Trolli Sour Bites",
          "Twix",
          "Twizzlers",
          "Warheads",
          "Welch's Fruit Snacks",
          "Werther's Original Caramel",
          "Whoppers"
         ],
         "y": [
          1.2408495099999612,
          4.9164190949999735,
          5.834172854333346,
          5.4005523839999725,
          6.852961083666628,
          9.854413279999982,
          7.171565999999956,
          19.323155510000024,
          2.2749918599999646,
          7.356612922666677,
          23.711479905000026,
          9.47087591633337,
          23.518076567833354,
          3.216427916333373,
          2.0055423530000454,
          4.954140567833356,
          2.2291313030000452,
          4.596586053666613,
          9.881846176999957,
          4.458816210000023,
          4.174536176999958,
          5.059121823000041,
          5.778454566000015,
          4.867150074999991,
          0.9268299250000069,
          1.818791074999993,
          23.39910255733339,
          8.994086119999992,
          12.790923129999982,
          4.995578811833354,
          8.902008567833356,
          6.526256188166641,
          3.199653665000085,
          2.6797745200000307,
          4.997079696999954,
          11.96170391499998,
          5.892441624999961,
          6.004153170000045,
          1.3298504000000122,
          10.921625765000016,
          5.241555909999981,
          13.939409696999952,
          10.533681720000018,
          7.719300234999984,
          27.016589536333385,
          6.886873761833357,
          4.305527229999967,
          1.8744277050000449,
          0.37292285433334627,
          9.34380405633339,
          8.65464369183335,
          17.697781155000015,
          16.233001545000022,
          5.29102993500004,
          4.660179685000088,
          9.057352446333361,
          0.005209300000004191,
          6.126063180000017,
          1.3830456469999604,
          26.38230837000002,
          21.726121886999955,
          13.744676886999954,
          22.095453925000008,
          0.3893088118333594,
          9.730495360000049,
          7.414035639999952,
          11.820933432166647,
          4.7828824321666445,
          20.65249218816664,
          11.42417469183335,
          3.0659855300000416,
          3.298507353333349,
          19.08127081183336,
          4.251795943666615,
          14.052171691666672,
          21.313349780000017,
          15.219539240000024,
          13.007450200000022,
          0.7880931881666413,
          15.986255564999965,
          0.9188538118333582,
          9.031166567833353,
          1.958154761833363,
          6.219619426666661,
          10.100809779999977
         ]
        }
       ],
       "layout": {
        "font": {
         "color": "white"
        },
        "height": 600,
        "legend": {
         "title": {
          "font": {
           "size": 16
          },
          "text": "<b>MODELS</b>"
         }
        },
        "paper_bgcolor": "rgba(0,0,0,0)",
        "plot_bgcolor": "rgba(0,0,0,0)",
        "template": {
         "data": {
          "bar": [
           {
            "error_x": {
             "color": "#2a3f5f"
            },
            "error_y": {
             "color": "#2a3f5f"
            },
            "marker": {
             "line": {
              "color": "#E5ECF6",
              "width": 0.5
             },
             "pattern": {
              "fillmode": "overlay",
              "size": 10,
              "solidity": 0.2
             }
            },
            "type": "bar"
           }
          ],
          "barpolar": [
           {
            "marker": {
             "line": {
              "color": "#E5ECF6",
              "width": 0.5
             },
             "pattern": {
              "fillmode": "overlay",
              "size": 10,
              "solidity": 0.2
             }
            },
            "type": "barpolar"
           }
          ],
          "carpet": [
           {
            "aaxis": {
             "endlinecolor": "#2a3f5f",
             "gridcolor": "white",
             "linecolor": "white",
             "minorgridcolor": "white",
             "startlinecolor": "#2a3f5f"
            },
            "baxis": {
             "endlinecolor": "#2a3f5f",
             "gridcolor": "white",
             "linecolor": "white",
             "minorgridcolor": "white",
             "startlinecolor": "#2a3f5f"
            },
            "type": "carpet"
           }
          ],
          "choropleth": [
           {
            "colorbar": {
             "outlinewidth": 0,
             "ticks": ""
            },
            "type": "choropleth"
           }
          ],
          "contour": [
           {
            "colorbar": {
             "outlinewidth": 0,
             "ticks": ""
            },
            "colorscale": [
             [
              0,
              "#0d0887"
             ],
             [
              0.1111111111111111,
              "#46039f"
             ],
             [
              0.2222222222222222,
              "#7201a8"
             ],
             [
              0.3333333333333333,
              "#9c179e"
             ],
             [
              0.4444444444444444,
              "#bd3786"
             ],
             [
              0.5555555555555556,
              "#d8576b"
             ],
             [
              0.6666666666666666,
              "#ed7953"
             ],
             [
              0.7777777777777778,
              "#fb9f3a"
             ],
             [
              0.8888888888888888,
              "#fdca26"
             ],
             [
              1,
              "#f0f921"
             ]
            ],
            "type": "contour"
           }
          ],
          "contourcarpet": [
           {
            "colorbar": {
             "outlinewidth": 0,
             "ticks": ""
            },
            "type": "contourcarpet"
           }
          ],
          "heatmap": [
           {
            "colorbar": {
             "outlinewidth": 0,
             "ticks": ""
            },
            "colorscale": [
             [
              0,
              "#0d0887"
             ],
             [
              0.1111111111111111,
              "#46039f"
             ],
             [
              0.2222222222222222,
              "#7201a8"
             ],
             [
              0.3333333333333333,
              "#9c179e"
             ],
             [
              0.4444444444444444,
              "#bd3786"
             ],
             [
              0.5555555555555556,
              "#d8576b"
             ],
             [
              0.6666666666666666,
              "#ed7953"
             ],
             [
              0.7777777777777778,
              "#fb9f3a"
             ],
             [
              0.8888888888888888,
              "#fdca26"
             ],
             [
              1,
              "#f0f921"
             ]
            ],
            "type": "heatmap"
           }
          ],
          "heatmapgl": [
           {
            "colorbar": {
             "outlinewidth": 0,
             "ticks": ""
            },
            "colorscale": [
             [
              0,
              "#0d0887"
             ],
             [
              0.1111111111111111,
              "#46039f"
             ],
             [
              0.2222222222222222,
              "#7201a8"
             ],
             [
              0.3333333333333333,
              "#9c179e"
             ],
             [
              0.4444444444444444,
              "#bd3786"
             ],
             [
              0.5555555555555556,
              "#d8576b"
             ],
             [
              0.6666666666666666,
              "#ed7953"
             ],
             [
              0.7777777777777778,
              "#fb9f3a"
             ],
             [
              0.8888888888888888,
              "#fdca26"
             ],
             [
              1,
              "#f0f921"
             ]
            ],
            "type": "heatmapgl"
           }
          ],
          "histogram": [
           {
            "marker": {
             "pattern": {
              "fillmode": "overlay",
              "size": 10,
              "solidity": 0.2
             }
            },
            "type": "histogram"
           }
          ],
          "histogram2d": [
           {
            "colorbar": {
             "outlinewidth": 0,
             "ticks": ""
            },
            "colorscale": [
             [
              0,
              "#0d0887"
             ],
             [
              0.1111111111111111,
              "#46039f"
             ],
             [
              0.2222222222222222,
              "#7201a8"
             ],
             [
              0.3333333333333333,
              "#9c179e"
             ],
             [
              0.4444444444444444,
              "#bd3786"
             ],
             [
              0.5555555555555556,
              "#d8576b"
             ],
             [
              0.6666666666666666,
              "#ed7953"
             ],
             [
              0.7777777777777778,
              "#fb9f3a"
             ],
             [
              0.8888888888888888,
              "#fdca26"
             ],
             [
              1,
              "#f0f921"
             ]
            ],
            "type": "histogram2d"
           }
          ],
          "histogram2dcontour": [
           {
            "colorbar": {
             "outlinewidth": 0,
             "ticks": ""
            },
            "colorscale": [
             [
              0,
              "#0d0887"
             ],
             [
              0.1111111111111111,
              "#46039f"
             ],
             [
              0.2222222222222222,
              "#7201a8"
             ],
             [
              0.3333333333333333,
              "#9c179e"
             ],
             [
              0.4444444444444444,
              "#bd3786"
             ],
             [
              0.5555555555555556,
              "#d8576b"
             ],
             [
              0.6666666666666666,
              "#ed7953"
             ],
             [
              0.7777777777777778,
              "#fb9f3a"
             ],
             [
              0.8888888888888888,
              "#fdca26"
             ],
             [
              1,
              "#f0f921"
             ]
            ],
            "type": "histogram2dcontour"
           }
          ],
          "mesh3d": [
           {
            "colorbar": {
             "outlinewidth": 0,
             "ticks": ""
            },
            "type": "mesh3d"
           }
          ],
          "parcoords": [
           {
            "line": {
             "colorbar": {
              "outlinewidth": 0,
              "ticks": ""
             }
            },
            "type": "parcoords"
           }
          ],
          "pie": [
           {
            "automargin": true,
            "type": "pie"
           }
          ],
          "scatter": [
           {
            "fillpattern": {
             "fillmode": "overlay",
             "size": 10,
             "solidity": 0.2
            },
            "type": "scatter"
           }
          ],
          "scatter3d": [
           {
            "line": {
             "colorbar": {
              "outlinewidth": 0,
              "ticks": ""
             }
            },
            "marker": {
             "colorbar": {
              "outlinewidth": 0,
              "ticks": ""
             }
            },
            "type": "scatter3d"
           }
          ],
          "scattercarpet": [
           {
            "marker": {
             "colorbar": {
              "outlinewidth": 0,
              "ticks": ""
             }
            },
            "type": "scattercarpet"
           }
          ],
          "scattergeo": [
           {
            "marker": {
             "colorbar": {
              "outlinewidth": 0,
              "ticks": ""
             }
            },
            "type": "scattergeo"
           }
          ],
          "scattergl": [
           {
            "marker": {
             "colorbar": {
              "outlinewidth": 0,
              "ticks": ""
             }
            },
            "type": "scattergl"
           }
          ],
          "scattermapbox": [
           {
            "marker": {
             "colorbar": {
              "outlinewidth": 0,
              "ticks": ""
             }
            },
            "type": "scattermapbox"
           }
          ],
          "scatterpolar": [
           {
            "marker": {
             "colorbar": {
              "outlinewidth": 0,
              "ticks": ""
             }
            },
            "type": "scatterpolar"
           }
          ],
          "scatterpolargl": [
           {
            "marker": {
             "colorbar": {
              "outlinewidth": 0,
              "ticks": ""
             }
            },
            "type": "scatterpolargl"
           }
          ],
          "scatterternary": [
           {
            "marker": {
             "colorbar": {
              "outlinewidth": 0,
              "ticks": ""
             }
            },
            "type": "scatterternary"
           }
          ],
          "surface": [
           {
            "colorbar": {
             "outlinewidth": 0,
             "ticks": ""
            },
            "colorscale": [
             [
              0,
              "#0d0887"
             ],
             [
              0.1111111111111111,
              "#46039f"
             ],
             [
              0.2222222222222222,
              "#7201a8"
             ],
             [
              0.3333333333333333,
              "#9c179e"
             ],
             [
              0.4444444444444444,
              "#bd3786"
             ],
             [
              0.5555555555555556,
              "#d8576b"
             ],
             [
              0.6666666666666666,
              "#ed7953"
             ],
             [
              0.7777777777777778,
              "#fb9f3a"
             ],
             [
              0.8888888888888888,
              "#fdca26"
             ],
             [
              1,
              "#f0f921"
             ]
            ],
            "type": "surface"
           }
          ],
          "table": [
           {
            "cells": {
             "fill": {
              "color": "#EBF0F8"
             },
             "line": {
              "color": "white"
             }
            },
            "header": {
             "fill": {
              "color": "#C8D4E3"
             },
             "line": {
              "color": "white"
             }
            },
            "type": "table"
           }
          ]
         },
         "layout": {
          "annotationdefaults": {
           "arrowcolor": "#2a3f5f",
           "arrowhead": 0,
           "arrowwidth": 1
          },
          "autotypenumbers": "strict",
          "coloraxis": {
           "colorbar": {
            "outlinewidth": 0,
            "ticks": ""
           }
          },
          "colorscale": {
           "diverging": [
            [
             0,
             "#8e0152"
            ],
            [
             0.1,
             "#c51b7d"
            ],
            [
             0.2,
             "#de77ae"
            ],
            [
             0.3,
             "#f1b6da"
            ],
            [
             0.4,
             "#fde0ef"
            ],
            [
             0.5,
             "#f7f7f7"
            ],
            [
             0.6,
             "#e6f5d0"
            ],
            [
             0.7,
             "#b8e186"
            ],
            [
             0.8,
             "#7fbc41"
            ],
            [
             0.9,
             "#4d9221"
            ],
            [
             1,
             "#276419"
            ]
           ],
           "sequential": [
            [
             0,
             "#0d0887"
            ],
            [
             0.1111111111111111,
             "#46039f"
            ],
            [
             0.2222222222222222,
             "#7201a8"
            ],
            [
             0.3333333333333333,
             "#9c179e"
            ],
            [
             0.4444444444444444,
             "#bd3786"
            ],
            [
             0.5555555555555556,
             "#d8576b"
            ],
            [
             0.6666666666666666,
             "#ed7953"
            ],
            [
             0.7777777777777778,
             "#fb9f3a"
            ],
            [
             0.8888888888888888,
             "#fdca26"
            ],
            [
             1,
             "#f0f921"
            ]
           ],
           "sequentialminus": [
            [
             0,
             "#0d0887"
            ],
            [
             0.1111111111111111,
             "#46039f"
            ],
            [
             0.2222222222222222,
             "#7201a8"
            ],
            [
             0.3333333333333333,
             "#9c179e"
            ],
            [
             0.4444444444444444,
             "#bd3786"
            ],
            [
             0.5555555555555556,
             "#d8576b"
            ],
            [
             0.6666666666666666,
             "#ed7953"
            ],
            [
             0.7777777777777778,
             "#fb9f3a"
            ],
            [
             0.8888888888888888,
             "#fdca26"
            ],
            [
             1,
             "#f0f921"
            ]
           ]
          },
          "colorway": [
           "#636efa",
           "#EF553B",
           "#00cc96",
           "#ab63fa",
           "#FFA15A",
           "#19d3f3",
           "#FF6692",
           "#B6E880",
           "#FF97FF",
           "#FECB52"
          ],
          "font": {
           "color": "#2a3f5f"
          },
          "geo": {
           "bgcolor": "white",
           "lakecolor": "white",
           "landcolor": "#E5ECF6",
           "showlakes": true,
           "showland": true,
           "subunitcolor": "white"
          },
          "hoverlabel": {
           "align": "left"
          },
          "hovermode": "closest",
          "mapbox": {
           "style": "light"
          },
          "paper_bgcolor": "white",
          "plot_bgcolor": "#E5ECF6",
          "polar": {
           "angularaxis": {
            "gridcolor": "white",
            "linecolor": "white",
            "ticks": ""
           },
           "bgcolor": "#E5ECF6",
           "radialaxis": {
            "gridcolor": "white",
            "linecolor": "white",
            "ticks": ""
           }
          },
          "scene": {
           "xaxis": {
            "backgroundcolor": "#E5ECF6",
            "gridcolor": "white",
            "gridwidth": 2,
            "linecolor": "white",
            "showbackground": true,
            "ticks": "",
            "zerolinecolor": "white"
           },
           "yaxis": {
            "backgroundcolor": "#E5ECF6",
            "gridcolor": "white",
            "gridwidth": 2,
            "linecolor": "white",
            "showbackground": true,
            "ticks": "",
            "zerolinecolor": "white"
           },
           "zaxis": {
            "backgroundcolor": "#E5ECF6",
            "gridcolor": "white",
            "gridwidth": 2,
            "linecolor": "white",
            "showbackground": true,
            "ticks": "",
            "zerolinecolor": "white"
           }
          },
          "shapedefaults": {
           "line": {
            "color": "#2a3f5f"
           }
          },
          "ternary": {
           "aaxis": {
            "gridcolor": "white",
            "linecolor": "white",
            "ticks": ""
           },
           "baxis": {
            "gridcolor": "white",
            "linecolor": "white",
            "ticks": ""
           },
           "bgcolor": "#E5ECF6",
           "caxis": {
            "gridcolor": "white",
            "linecolor": "white",
            "ticks": ""
           }
          },
          "title": {
           "x": 0.05
          },
          "xaxis": {
           "automargin": true,
           "gridcolor": "white",
           "linecolor": "white",
           "ticks": "",
           "title": {
            "standoff": 15
           },
           "zerolinecolor": "white",
           "zerolinewidth": 2
          },
          "yaxis": {
           "automargin": true,
           "gridcolor": "white",
           "linecolor": "white",
           "ticks": "",
           "title": {
            "standoff": 15
           },
           "zerolinecolor": "white",
           "zerolinewidth": 2
          }
         }
        },
        "title": {
         "font": {
          "size": 20
         },
         "text": "<b>DIFFERENZ OF WINPERCENT PREDICTION AND TRUE VALUE WITH & WITHOUT CHOCOLATE<b>",
         "x": 0.475,
         "xanchor": "center",
         "y": 0.955,
         "yanchor": "top"
        },
        "xaxis": {
         "showgrid": false,
         "title": {
          "font": {
           "size": 14
          }
         }
        },
        "yaxis": {
         "showgrid": false,
         "title": {
          "font": {
           "size": 14
          },
          "text": "<b>winpercent %</b>"
         }
        }
       }
      }
     },
     "metadata": {},
     "output_type": "display_data"
    }
   ],
   "source": [
    "fig_pred_diff = go.Figure()\n",
    "\n",
    "fig_pred_diff.add_trace(\n",
    " go.Scatter(\n",
    "  x= df_rc_pred.competitorname,\n",
    "  y= df_rc_pred.diff_c,\n",
    "  mode= 'lines+markers',\n",
    "  marker= dict(color= \"grey\"),\n",
    "  name= \"without label chocolate\"\n",
    " )\n",
    ")\n",
    "\n",
    "fig_pred_diff.add_trace(\n",
    " go.Scatter(\n",
    "  x= df_rc_pred.competitorname,\n",
    "  y= df_rc_pred[\"diff\"],\n",
    "  mode= 'lines+markers',\n",
    "  marker= dict(color= px.colors.sequential.amp[8]),\n",
    "  name= \"With label chocolate\"\n",
    " )\n",
    ")\n",
    "\n",
    "fig_pred_diff.update_layout(\n",
    "     title= dict(text= \"<b>DIFFERENZ OF WINPERCENT PREDICTION AND TRUE VALUE WITH & WITHOUT CHOCOLATE<b>\", font_size= 20, xanchor= \"center\", yanchor= \"top\", y=0.955, x=0.475),\n",
    "     height= 600,\n",
    "     legend_title_text= \"<b>MODELS</b>\",\n",
    "     legend_title_font_size= 16,\n",
    "     paper_bgcolor='rgba(0,0,0,0)',\n",
    "     plot_bgcolor='rgba(0,0,0,0)',\n",
    "     font= dict(color= \"white\")\n",
    ")\n",
    "\n",
    "fig_pred_diff.update_yaxes(title_text=\"<b>winpercent %</b>\", title_font= dict(size= 14), showgrid= False)\n",
    "fig_pred_diff.update_xaxes(title_font= dict(size= 14), showgrid= False)\n",
    "fig_pred_diff.show()"
   ]
  },
  {
   "attachments": {},
   "cell_type": "markdown",
   "metadata": {},
   "source": [
    "### **CONCLUSION**"
   ]
  },
  {
   "attachments": {},
   "cell_type": "markdown",
   "metadata": {},
   "source": [
    "In summary, in our analysis we have found good and bad characteristics for a candy. \n",
    "\n",
    "- chocolate, peantuyalmondy and caramel are the most important characteristics to achieve high winpercentage (espacially the combination of chocolate and peanutyalmondy) \n",
    "- fruity, hard, pluribus are often triggers for a worse winpercentage\n",
    "\n",
    "Finally, it would be advisable to produce a candy in private label that contains the good characteristics just mentioned. A perfect example which represents this best would be Reese's Peanut Butter cup.\n"
   ]
  }
 ],
 "metadata": {
  "kernelspec": {
   "display_name": "Python 3",
   "language": "python",
   "name": "python3"
  },
  "language_info": {
   "codemirror_mode": {
    "name": "ipython",
    "version": 3
   },
   "file_extension": ".py",
   "mimetype": "text/x-python",
   "name": "python",
   "nbconvert_exporter": "python",
   "pygments_lexer": "ipython3",
   "version": "3.9.7"
  },
  "orig_nbformat": 4
 },
 "nbformat": 4,
 "nbformat_minor": 2
}
